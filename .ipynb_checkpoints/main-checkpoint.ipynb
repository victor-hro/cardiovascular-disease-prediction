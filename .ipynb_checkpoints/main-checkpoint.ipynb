{
 "cells": [
  {
   "cell_type": "markdown",
   "metadata": {
    "id": "0BJZINgGn5YY"
   },
   "source": [
    "# IMPORTANDO BIBLIOTECAS\n",
    "\n"
   ]
  },
  {
   "cell_type": "code",
   "execution_count": 161,
   "metadata": {
    "id": "ie2eDE0Qiwjm"
   },
   "outputs": [],
   "source": [
    "import pandas as pd\n",
    "import numpy as np\n",
    "\n",
    "# visualização de dados\n",
    "import matplotlib.pyplot as plt\n",
    "import seaborn as sns\n",
    "\n",
    "import io\n",
    "\n",
    "sns.set_style('darkgrid')\n",
    "plt.rcParams.update({'font.size': 16})"
   ]
  },
  {
   "cell_type": "markdown",
   "metadata": {
    "id": "jfwGRjIN18vT"
   },
   "source": [
    "# FUNÇÕES"
   ]
  },
  {
   "cell_type": "markdown",
   "metadata": {
    "id": "-qMprvg_-CPF"
   },
   "source": [
    "## Visualização"
   ]
  },
  {
   "cell_type": "code",
   "execution_count": 162,
   "metadata": {
    "id": "nmbOWHGDxxco"
   },
   "outputs": [],
   "source": [
    "def check_df(df):\n",
    "    assert all(df.isna().sum())  == 0, 'The dataframe contains NaN files'\n",
    "    assert df.duplicated().sum() == 0, 'The dataframe contains duplicates'\n",
    "    return None"
   ]
  },
  {
   "cell_type": "code",
   "execution_count": 163,
   "metadata": {},
   "outputs": [],
   "source": [
    "def boxplot(df, x: str, y: str, labels: list):\n",
    "    plt.figure(figsize=(12,6))\n",
    "    ax = sns.boxplot(x=x, y=y, data = df, orient='h');\n",
    "    ax.set_yticklabels(labels, size=16)\n",
    "    plt.tight_layout()"
   ]
  },
  {
   "cell_type": "markdown",
   "metadata": {},
   "source": [
    "## Dataframe Ops"
   ]
  },
  {
   "cell_type": "code",
   "execution_count": 164,
   "metadata": {},
   "outputs": [],
   "source": [
    "def drop_queries(df, col, lmin:int, lmax:int, inplace=True):\n",
    "    return (\n",
    "        df.drop(\n",
    "            df.query(f\"({col} > @lmax) | ({col} < @lmin)\")\n",
    "            .index,\n",
    "            inplace=inplace)\n",
    "    )"
   ]
  },
  {
   "cell_type": "markdown",
   "metadata": {
    "id": "scSPDRJeRNqx"
   },
   "source": [
    "# EXTRAÇÃO"
   ]
  },
  {
   "cell_type": "markdown",
   "metadata": {
    "id": "CXy3KTX6n8fC"
   },
   "source": [
    "##  Dataframe"
   ]
  },
  {
   "cell_type": "code",
   "execution_count": 165,
   "metadata": {
    "id": "Gpd4_FfZxufG"
   },
   "outputs": [],
   "source": [
    "DATA_DIR = 'data/cardio.csv'"
   ]
  },
  {
   "cell_type": "code",
   "execution_count": 166,
   "metadata": {
    "colab": {
     "base_uri": "https://localhost:8080/",
     "height": 242
    },
    "executionInfo": {
     "elapsed": 1742,
     "status": "ok",
     "timestamp": 1642690603211,
     "user": {
      "displayName": "Victor Oliveira",
      "photoUrl": "https://lh3.googleusercontent.com/a-/AOh14GjTZ4w2UG33yijW1Kl4wnWg1hiIQiXJDLUn1ur4Cg=s64",
      "userId": "05541081588649521770"
     },
     "user_tz": 180
    },
    "id": "rNkEaqhr7Zst",
    "outputId": "a9f6d6b9-2bd7-4d20-ab4b-89669f2bc395"
   },
   "outputs": [
    {
     "name": "stdout",
     "output_type": "stream",
     "text": [
      "Linhas:  70000\n",
      "Colunas:  70000\n"
     ]
    },
    {
     "data": {
      "text/html": [
       "<div>\n",
       "<style scoped>\n",
       "    .dataframe tbody tr th:only-of-type {\n",
       "        vertical-align: middle;\n",
       "    }\n",
       "\n",
       "    .dataframe tbody tr th {\n",
       "        vertical-align: top;\n",
       "    }\n",
       "\n",
       "    .dataframe thead th {\n",
       "        text-align: right;\n",
       "    }\n",
       "</style>\n",
       "<table border=\"1\" class=\"dataframe\">\n",
       "  <thead>\n",
       "    <tr style=\"text-align: right;\">\n",
       "      <th></th>\n",
       "      <th>id</th>\n",
       "      <th>age</th>\n",
       "      <th>gender</th>\n",
       "      <th>height</th>\n",
       "      <th>weight</th>\n",
       "      <th>ap_hi</th>\n",
       "      <th>ap_lo</th>\n",
       "      <th>cholesterol</th>\n",
       "      <th>gluc</th>\n",
       "      <th>smoke</th>\n",
       "      <th>alco</th>\n",
       "      <th>active</th>\n",
       "      <th>cardio</th>\n",
       "    </tr>\n",
       "  </thead>\n",
       "  <tbody>\n",
       "    <tr>\n",
       "      <th>0</th>\n",
       "      <td>0</td>\n",
       "      <td>18393</td>\n",
       "      <td>2</td>\n",
       "      <td>168</td>\n",
       "      <td>62.0</td>\n",
       "      <td>110</td>\n",
       "      <td>80</td>\n",
       "      <td>1</td>\n",
       "      <td>1</td>\n",
       "      <td>0</td>\n",
       "      <td>0</td>\n",
       "      <td>1</td>\n",
       "      <td>0</td>\n",
       "    </tr>\n",
       "    <tr>\n",
       "      <th>1</th>\n",
       "      <td>1</td>\n",
       "      <td>20228</td>\n",
       "      <td>1</td>\n",
       "      <td>156</td>\n",
       "      <td>85.0</td>\n",
       "      <td>140</td>\n",
       "      <td>90</td>\n",
       "      <td>3</td>\n",
       "      <td>1</td>\n",
       "      <td>0</td>\n",
       "      <td>0</td>\n",
       "      <td>1</td>\n",
       "      <td>1</td>\n",
       "    </tr>\n",
       "    <tr>\n",
       "      <th>2</th>\n",
       "      <td>2</td>\n",
       "      <td>18857</td>\n",
       "      <td>1</td>\n",
       "      <td>165</td>\n",
       "      <td>64.0</td>\n",
       "      <td>130</td>\n",
       "      <td>70</td>\n",
       "      <td>3</td>\n",
       "      <td>1</td>\n",
       "      <td>0</td>\n",
       "      <td>0</td>\n",
       "      <td>0</td>\n",
       "      <td>1</td>\n",
       "    </tr>\n",
       "    <tr>\n",
       "      <th>3</th>\n",
       "      <td>3</td>\n",
       "      <td>17623</td>\n",
       "      <td>2</td>\n",
       "      <td>169</td>\n",
       "      <td>82.0</td>\n",
       "      <td>150</td>\n",
       "      <td>100</td>\n",
       "      <td>1</td>\n",
       "      <td>1</td>\n",
       "      <td>0</td>\n",
       "      <td>0</td>\n",
       "      <td>1</td>\n",
       "      <td>1</td>\n",
       "    </tr>\n",
       "    <tr>\n",
       "      <th>4</th>\n",
       "      <td>4</td>\n",
       "      <td>17474</td>\n",
       "      <td>1</td>\n",
       "      <td>156</td>\n",
       "      <td>56.0</td>\n",
       "      <td>100</td>\n",
       "      <td>60</td>\n",
       "      <td>1</td>\n",
       "      <td>1</td>\n",
       "      <td>0</td>\n",
       "      <td>0</td>\n",
       "      <td>0</td>\n",
       "      <td>0</td>\n",
       "    </tr>\n",
       "  </tbody>\n",
       "</table>\n",
       "</div>"
      ],
      "text/plain": [
       "   id    age  gender  height  weight  ap_hi  ap_lo  cholesterol  gluc  smoke  \\\n",
       "0   0  18393       2     168    62.0    110     80            1     1      0   \n",
       "1   1  20228       1     156    85.0    140     90            3     1      0   \n",
       "2   2  18857       1     165    64.0    130     70            3     1      0   \n",
       "3   3  17623       2     169    82.0    150    100            1     1      0   \n",
       "4   4  17474       1     156    56.0    100     60            1     1      0   \n",
       "\n",
       "   alco  active  cardio  \n",
       "0     0       1       0  \n",
       "1     0       1       1  \n",
       "2     0       0       1  \n",
       "3     0       1       1  \n",
       "4     0       0       0  "
      ]
     },
     "execution_count": 166,
     "metadata": {},
     "output_type": "execute_result"
    }
   ],
   "source": [
    "df = pd.read_csv(DATA_DIR, sep=';')\n",
    "\n",
    "print('Linhas: ', df.shape[0])\n",
    "print('Colunas: ', df.shape[0])\n",
    "\n",
    "df.head()"
   ]
  },
  {
   "cell_type": "markdown",
   "metadata": {
    "id": "Cc6rgUoIrLZk"
   },
   "source": [
    "Informações sobre cada coluna:\n",
    "\n",
    "Age | Objective Feature | age | int (days)\n",
    "\n",
    "Height | Objective Feature | height | int (cm) |\n",
    "\n",
    "Weight | Objective Feature | weight | float (kg) |\n",
    "\n",
    "Gender | Objective Feature | gender | categorical code |\n",
    "\n",
    "Systolic blood pressure | Examination Feature | ap_hi | int |\n",
    "\n",
    "Diastolic blood pressure | Examination Feature | ap_lo | int |\n",
    "\n",
    "Cholesterol | Examination Feature | cholesterol | 1: normal, 2: above normal, 3: well above normal |\n",
    "\n",
    "Glucose | Examination Feature | gluc | 1: normal, 2: above normal, 3: well above normal |\n",
    "\n",
    "Smoking | Subjective Feature | smoke | binary |\n",
    "\n",
    "Alcohol intake | Subjective Feature | alco | binary |\n",
    "\n",
    "Physical activity | Subjective Feature | active | binary |\n",
    "\n",
    "Presence or absence of cardiovascular disease | Target Variable | cardio | binary |\n",
    "\n",
    "cardio: [Positivo (1) / Negativo (0)]"
   ]
  },
  {
   "cell_type": "markdown",
   "metadata": {
    "id": "gi2UVl6f3ioR"
   },
   "source": [
    "# TRANSFORMAÇÃO"
   ]
  },
  {
   "cell_type": "markdown",
   "metadata": {
    "id": "FIy7dtV7SHkm"
   },
   "source": [
    "Analisando se há arquivos do tipo NaN ou duplicatas no dataframe.\n"
   ]
  },
  {
   "cell_type": "code",
   "execution_count": 167,
   "metadata": {
    "colab": {
     "base_uri": "https://localhost:8080/"
    },
    "executionInfo": {
     "elapsed": 93,
     "status": "ok",
     "timestamp": 1642690603216,
     "user": {
      "displayName": "Victor Oliveira",
      "photoUrl": "https://lh3.googleusercontent.com/a-/AOh14GjTZ4w2UG33yijW1Kl4wnWg1hiIQiXJDLUn1ur4Cg=s64",
      "userId": "05541081588649521770"
     },
     "user_tz": 180
    },
    "id": "eEdAX_A3UQep",
    "outputId": "43130588-dd8a-495a-ef77-a049e2c0606f"
   },
   "outputs": [],
   "source": [
    "check_df(df)"
   ]
  },
  {
   "cell_type": "markdown",
   "metadata": {
    "id": "oFyIum7xM798"
   },
   "source": [
    "alterando a idade para anos"
   ]
  },
  {
   "cell_type": "code",
   "execution_count": 168,
   "metadata": {
    "colab": {
     "base_uri": "https://localhost:8080/",
     "height": 423
    },
    "executionInfo": {
     "elapsed": 94,
     "status": "ok",
     "timestamp": 1642690603241,
     "user": {
      "displayName": "Victor Oliveira",
      "photoUrl": "https://lh3.googleusercontent.com/a-/AOh14GjTZ4w2UG33yijW1Kl4wnWg1hiIQiXJDLUn1ur4Cg=s64",
      "userId": "05541081588649521770"
     },
     "user_tz": 180
    },
    "id": "BZgrXgIgM-MO",
    "outputId": "4f688138-d1d7-4864-a297-21b4bfbcda27"
   },
   "outputs": [
    {
     "data": {
      "text/html": [
       "<div>\n",
       "<style scoped>\n",
       "    .dataframe tbody tr th:only-of-type {\n",
       "        vertical-align: middle;\n",
       "    }\n",
       "\n",
       "    .dataframe tbody tr th {\n",
       "        vertical-align: top;\n",
       "    }\n",
       "\n",
       "    .dataframe thead th {\n",
       "        text-align: right;\n",
       "    }\n",
       "</style>\n",
       "<table border=\"1\" class=\"dataframe\">\n",
       "  <thead>\n",
       "    <tr style=\"text-align: right;\">\n",
       "      <th></th>\n",
       "      <th>id</th>\n",
       "      <th>age</th>\n",
       "      <th>gender</th>\n",
       "      <th>height</th>\n",
       "      <th>weight</th>\n",
       "      <th>ap_hi</th>\n",
       "      <th>ap_lo</th>\n",
       "      <th>cholesterol</th>\n",
       "      <th>gluc</th>\n",
       "      <th>smoke</th>\n",
       "      <th>alco</th>\n",
       "      <th>active</th>\n",
       "      <th>cardio</th>\n",
       "    </tr>\n",
       "  </thead>\n",
       "  <tbody>\n",
       "    <tr>\n",
       "      <th>0</th>\n",
       "      <td>0</td>\n",
       "      <td>50</td>\n",
       "      <td>2</td>\n",
       "      <td>168</td>\n",
       "      <td>62.0</td>\n",
       "      <td>110</td>\n",
       "      <td>80</td>\n",
       "      <td>1</td>\n",
       "      <td>1</td>\n",
       "      <td>0</td>\n",
       "      <td>0</td>\n",
       "      <td>1</td>\n",
       "      <td>0</td>\n",
       "    </tr>\n",
       "    <tr>\n",
       "      <th>1</th>\n",
       "      <td>1</td>\n",
       "      <td>55</td>\n",
       "      <td>1</td>\n",
       "      <td>156</td>\n",
       "      <td>85.0</td>\n",
       "      <td>140</td>\n",
       "      <td>90</td>\n",
       "      <td>3</td>\n",
       "      <td>1</td>\n",
       "      <td>0</td>\n",
       "      <td>0</td>\n",
       "      <td>1</td>\n",
       "      <td>1</td>\n",
       "    </tr>\n",
       "  </tbody>\n",
       "</table>\n",
       "</div>"
      ],
      "text/plain": [
       "   id  age  gender  height  weight  ap_hi  ap_lo  cholesterol  gluc  smoke  \\\n",
       "0   0   50       2     168    62.0    110     80            1     1      0   \n",
       "1   1   55       1     156    85.0    140     90            3     1      0   \n",
       "\n",
       "   alco  active  cardio  \n",
       "0     0       1       0  \n",
       "1     0       1       1  "
      ]
     },
     "execution_count": 168,
     "metadata": {},
     "output_type": "execute_result"
    }
   ],
   "source": [
    "df['age'] = np.floor(df['age'] / 365).astype(int)\n",
    "df.head(2)"
   ]
  },
  {
   "cell_type": "markdown",
   "metadata": {
    "id": "rZ5dnHXGuOsv"
   },
   "source": [
    "## Análises Exploratória dos Dados"
   ]
  },
  {
   "cell_type": "markdown",
   "metadata": {
    "id": "RN-F6NTxOUtd"
   },
   "source": [
    "### Variáveis quantitativas"
   ]
  },
  {
   "cell_type": "markdown",
   "metadata": {
    "id": "GKQMHOYfQAAN"
   },
   "source": [
    "#### Relação entre idade e pacientes saudáveis e cardíacos"
   ]
  },
  {
   "cell_type": "code",
   "execution_count": 169,
   "metadata": {
    "colab": {
     "base_uri": "https://localhost:8080/",
     "height": 390
    },
    "executionInfo": {
     "elapsed": 1048,
     "status": "ok",
     "timestamp": 1642690604204,
     "user": {
      "displayName": "Victor Oliveira",
      "photoUrl": "https://lh3.googleusercontent.com/a-/AOh14GjTZ4w2UG33yijW1Kl4wnWg1hiIQiXJDLUn1ur4Cg=s64",
      "userId": "05541081588649521770"
     },
     "user_tz": 180
    },
    "id": "ChniEHDIPuHv",
    "outputId": "5476b53e-d8fe-44a7-e840-1de813a658b8"
   },
   "outputs": [
    {
     "data": {
      "image/png": "[encoded data removed]",
      "text/plain": [
       "<Figure size 1080x432 with 1 Axes>"
      ]
     },
     "metadata": {},
     "output_type": "display_data"
    }
   ],
   "source": [
    "plt.figure(figsize=(15,6))\n",
    "sns.countplot(x='age', hue='cardio', data = df, palette=\"GnBu_d\");\n",
    "plt.legend(['saudável', 'cardíaco'])\n",
    "plt.tight_layout()"
   ]
  },
  {
   "cell_type": "markdown",
   "metadata": {
    "id": "iSZR11DZQJ4D"
   },
   "source": [
    "✅ A partir dos 53 anos as pessoas já tendem a ter complicações. Aos 55 anos os pacientes cardíacos torna-se predominante."
   ]
  },
  {
   "cell_type": "markdown",
   "metadata": {
    "id": "x3EXkij1SDdo"
   },
   "source": [
    "Além de visualizarmos apenas a distribuição, vamos criar boxplots com as variáveis do dataframe. Dessa forma podemos ter uma melhor noção sobre os extremos, os quartis e a mediana de cada coluna do dataframe - com esses valores nós podemos identificar certos comportamentos anômalos nos dados, chamados de outliers."
   ]
  },
  {
   "cell_type": "code",
   "execution_count": 170,
   "metadata": {},
   "outputs": [
    {
     "data": {
      "image/png": "[encoded data removed]",
      "text/plain": [
       "<Figure size 864x432 with 1 Axes>"
      ]
     },
     "metadata": {},
     "output_type": "display_data"
    }
   ],
   "source": [
    "boxplot(df, x='age', y='cardio', labels=['saudável', 'cardíaco'])"
   ]
  },
  {
   "cell_type": "markdown",
   "metadata": {
    "id": "QggHOEWrRdxX"
   },
   "source": [
    "✅ A mediana para os cardíacos é aproximadamente 55 anos.\n",
    "\n",
    "✅ A tendência é que 75% dos pacientes cardíacos tenham idade acima de 50 anos."
   ]
  },
  {
   "cell_type": "markdown",
   "metadata": {
    "id": "UI1RaokzwQL2"
   },
   "source": [
    "#### Relação entre pressão sanguínea e pacientes saudáveis e cardíacos"
   ]
  },
  {
   "cell_type": "markdown",
   "metadata": {
    "id": "ucADZdmT5RFR"
   },
   "source": [
    "##### **PRESSÃO ALTA**"
   ]
  },
  {
   "cell_type": "code",
   "execution_count": 171,
   "metadata": {
    "colab": {
     "base_uri": "https://localhost:8080/",
     "height": 390
    },
    "executionInfo": {
     "elapsed": 351,
     "status": "ok",
     "timestamp": 1642690605042,
     "user": {
      "displayName": "Victor Oliveira",
      "photoUrl": "https://lh3.googleusercontent.com/a-/AOh14GjTZ4w2UG33yijW1Kl4wnWg1hiIQiXJDLUn1ur4Cg=s64",
      "userId": "05541081588649521770"
     },
     "user_tz": 180
    },
    "id": "jTqkVqxWSNHZ",
    "outputId": "fed48fbc-ade4-424f-e2db-9aa1d3c43b85"
   },
   "outputs": [
    {
     "data": {
      "image/png": "[encoded data removed]",
      "text/plain": [
       "<Figure size 864x432 with 1 Axes>"
      ]
     },
     "metadata": {},
     "output_type": "display_data"
    }
   ],
   "source": [
    "boxplot(df, x='ap_hi', y='cardio', labels=['saudável', 'cardíaco'])"
   ]
  },
  {
   "cell_type": "markdown",
   "metadata": {
    "id": "K1U0rh-gSrYm"
   },
   "source": [
    "❗ Encontramos outliers! Vamos considerar valores acima dos percentis de 95% e abaixo de 2% para valores de pressão sanguínea do conjunto de dados."
   ]
  },
  {
   "cell_type": "code",
   "execution_count": 172,
   "metadata": {
    "colab": {
     "base_uri": "https://localhost:8080/"
    },
    "executionInfo": {
     "elapsed": 19,
     "status": "ok",
     "timestamp": 1642690605044,
     "user": {
      "displayName": "Victor Oliveira",
      "photoUrl": "https://lh3.googleusercontent.com/a-/AOh14GjTZ4w2UG33yijW1Kl4wnWg1hiIQiXJDLUn1ur4Cg=s64",
      "userId": "05541081588649521770"
     },
     "user_tz": 180
    },
    "id": "3wVj_94q1XKC",
    "outputId": "67256bee-bca0-4016-ae9d-90212da80aa9"
   },
   "outputs": [
    {
     "name": "stdout",
     "output_type": "stream",
     "text": [
      "98% dos valores de ap_hi estão até o valor de 170.0\n",
      "2% dos valores de ap_hi estão até o valor de 100.0\n"
     ]
    }
   ],
   "source": [
    "print('98% dos valores de ap_hi estão até o valor de {}'.format(df.ap_hi.quantile(0.98)))\n",
    "print('2% dos valores de ap_hi estão até o valor de {}'.format(df.ap_hi.quantile(0.02)))"
   ]
  },
  {
   "cell_type": "code",
   "execution_count": 173,
   "metadata": {
    "colab": {
     "base_uri": "https://localhost:8080/",
     "height": 390
    },
    "executionInfo": {
     "elapsed": 360,
     "status": "ok",
     "timestamp": 1642690605394,
     "user": {
      "displayName": "Victor Oliveira",
      "photoUrl": "https://lh3.googleusercontent.com/a-/AOh14GjTZ4w2UG33yijW1Kl4wnWg1hiIQiXJDLUn1ur4Cg=s64",
      "userId": "05541081588649521770"
     },
     "user_tz": 180
    },
    "id": "V0_RdOXA3PFd",
    "outputId": "ae457ba5-770a-4ddb-a2ea-e9a3c0a60ab9"
   },
   "outputs": [
    {
     "data": {
      "image/png": "[encoded data removed]",
      "text/plain": [
       "<Figure size 864x432 with 1 Axes>"
      ]
     },
     "metadata": {},
     "output_type": "display_data"
    }
   ],
   "source": [
    "boxplot(df.query('(ap_hi >= 100) and (ap_hi <= 170)'), x='ap_hi', y='cardio', labels=['saudável', 'cardíaco'])"
   ]
  },
  {
   "cell_type": "markdown",
   "metadata": {
    "id": "LxOp1Hkd3LzR"
   },
   "source": [
    "Removendo esses dados do dataframe original"
   ]
  },
  {
   "cell_type": "code",
   "execution_count": 174,
   "metadata": {
    "colab": {
     "base_uri": "https://localhost:8080/"
    },
    "executionInfo": {
     "elapsed": 25,
     "status": "ok",
     "timestamp": 1642690605395,
     "user": {
      "displayName": "Victor Oliveira",
      "photoUrl": "https://lh3.googleusercontent.com/a-/AOh14GjTZ4w2UG33yijW1Kl4wnWg1hiIQiXJDLUn1ur4Cg=s64",
      "userId": "05541081588649521770"
     },
     "user_tz": 180
    },
    "id": "nN5OnuQn4uV6",
    "outputId": "f49a6b1f-dd14-453a-ba80-a642131d806d"
   },
   "outputs": [
    {
     "name": "stdout",
     "output_type": "stream",
     "text": [
      "shape antes de remover outliers:\n",
      "linhas: 70000\n",
      "colunas: 13\n"
     ]
    }
   ],
   "source": [
    "print('shape antes de remover outliers:')\n",
    "print('linhas:' ,df.shape[0])\n",
    "print('colunas:' ,df.shape[1])"
   ]
  },
  {
   "cell_type": "code",
   "execution_count": 175,
   "metadata": {
    "id": "RoGHp-W14I7Q"
   },
   "outputs": [],
   "source": [
    "# ap_hi maiores que 170 e menores que 100 serão eliminados do dataframe original\n",
    "drop_queries(df, col='ap_hi', lmin=100, lmax=170, inplace=True)"
   ]
  },
  {
   "cell_type": "code",
   "execution_count": 176,
   "metadata": {
    "colab": {
     "base_uri": "https://localhost:8080/"
    },
    "executionInfo": {
     "elapsed": 20,
     "status": "ok",
     "timestamp": 1642690605397,
     "user": {
      "displayName": "Victor Oliveira",
      "photoUrl": "https://lh3.googleusercontent.com/a-/AOh14GjTZ4w2UG33yijW1Kl4wnWg1hiIQiXJDLUn1ur4Cg=s64",
      "userId": "05541081588649521770"
     },
     "user_tz": 180
    },
    "id": "uroPUviM3-Gp",
    "outputId": "568b5792-b143-4789-b515-0d13d4883cc1"
   },
   "outputs": [
    {
     "name": "stdout",
     "output_type": "stream",
     "text": [
      "shape após remover outliers:\n",
      "linhas: 67536\n",
      "colunas: 13\n"
     ]
    }
   ],
   "source": [
    "print('shape após remover outliers:')\n",
    "print('linhas:' ,df.shape[0])\n",
    "print('colunas:' ,df.shape[1])"
   ]
  },
  {
   "cell_type": "markdown",
   "metadata": {},
   "source": [
    "**CONFERINDO O RESULTADO:**"
   ]
  },
  {
   "cell_type": "code",
   "execution_count": 177,
   "metadata": {},
   "outputs": [
    {
     "data": {
      "image/png": "[encoded data removed]",
      "text/plain": [
       "<Figure size 864x432 with 1 Axes>"
      ]
     },
     "metadata": {},
     "output_type": "display_data"
    }
   ],
   "source": [
    "boxplot(df, x='ap_hi', y='cardio', labels=['saudável', 'cardíaco'])"
   ]
  },
  {
   "cell_type": "markdown",
   "metadata": {
    "id": "uM7lWO6m5Zdv"
   },
   "source": [
    "##### PRESSÃO BAIXA"
   ]
  },
  {
   "cell_type": "code",
   "execution_count": 178,
   "metadata": {
    "colab": {
     "base_uri": "https://localhost:8080/",
     "height": 390
    },
    "executionInfo": {
     "elapsed": 752,
     "status": "ok",
     "timestamp": 1642690606133,
     "user": {
      "displayName": "Victor Oliveira",
      "photoUrl": "https://lh3.googleusercontent.com/a-/AOh14GjTZ4w2UG33yijW1Kl4wnWg1hiIQiXJDLUn1ur4Cg=s64",
      "userId": "05541081588649521770"
     },
     "user_tz": 180
    },
    "id": "kPqQUlCm5NUr",
    "outputId": "5d7e5c89-7b5f-4782-f6d4-7921a63306ac"
   },
   "outputs": [
    {
     "data": {
      "image/png": "[encoded data removed]",
      "text/plain": [
       "<Figure size 864x432 with 1 Axes>"
      ]
     },
     "metadata": {},
     "output_type": "display_data"
    }
   ],
   "source": [
    "boxplot(df, x='ap_lo', y='cardio', labels=['saudável', 'cardíaco'])"
   ]
  },
  {
   "cell_type": "code",
   "execution_count": 179,
   "metadata": {
    "colab": {
     "base_uri": "https://localhost:8080/"
    },
    "executionInfo": {
     "elapsed": 14,
     "status": "ok",
     "timestamp": 1642690606134,
     "user": {
      "displayName": "Victor Oliveira",
      "photoUrl": "https://lh3.googleusercontent.com/a-/AOh14GjTZ4w2UG33yijW1Kl4wnWg1hiIQiXJDLUn1ur4Cg=s64",
      "userId": "05541081588649521770"
     },
     "user_tz": 180
    },
    "id": "kSWji4Pi5oRs",
    "outputId": "bc8062b0-b911-4469-b7b8-ae8716e171ca"
   },
   "outputs": [
    {
     "name": "stdout",
     "output_type": "stream",
     "text": [
      "98% dos valores de ap_lo estão até o valor de 100.0\n",
      "2% dos valores de ap_lo estão até o valor de 60.0\n"
     ]
    }
   ],
   "source": [
    "print('98% dos valores de ap_lo estão até o valor de {}'.format(df.ap_lo.quantile(0.98)))\n",
    "print('2% dos valores de ap_lo estão até o valor de {}'.format(df.ap_lo.quantile(0.02)))"
   ]
  },
  {
   "cell_type": "code",
   "execution_count": 180,
   "metadata": {
    "colab": {
     "base_uri": "https://localhost:8080/",
     "height": 390
    },
    "executionInfo": {
     "elapsed": 553,
     "status": "ok",
     "timestamp": 1642690606681,
     "user": {
      "displayName": "Victor Oliveira",
      "photoUrl": "https://lh3.googleusercontent.com/a-/AOh14GjTZ4w2UG33yijW1Kl4wnWg1hiIQiXJDLUn1ur4Cg=s64",
      "userId": "05541081588649521770"
     },
     "user_tz": 180
    },
    "id": "QvrAk9RY5wC7",
    "outputId": "ba5ca5cb-eecf-4a86-ab33-9466b9bb6eda"
   },
   "outputs": [
    {
     "data": {
      "image/png": "[encoded data removed]",
      "text/plain": [
       "<Figure size 864x432 with 1 Axes>"
      ]
     },
     "metadata": {},
     "output_type": "display_data"
    }
   ],
   "source": [
    "boxplot(df.query('(ap_lo >= 60) and (ap_lo <= 100)'), x='ap_lo', y='cardio', labels=['saudável', 'cardíaco'])"
   ]
  },
  {
   "cell_type": "code",
   "execution_count": 181,
   "metadata": {
    "colab": {
     "base_uri": "https://localhost:8080/"
    },
    "executionInfo": {
     "elapsed": 30,
     "status": "ok",
     "timestamp": 1642690606683,
     "user": {
      "displayName": "Victor Oliveira",
      "photoUrl": "https://lh3.googleusercontent.com/a-/AOh14GjTZ4w2UG33yijW1Kl4wnWg1hiIQiXJDLUn1ur4Cg=s64",
      "userId": "05541081588649521770"
     },
     "user_tz": 180
    },
    "id": "I1qlsonO5oYf",
    "outputId": "d20f55ec-6eb8-4c8e-9dd9-080c42da7841"
   },
   "outputs": [
    {
     "name": "stdout",
     "output_type": "stream",
     "text": [
      "shape antes de remover outliers:\n",
      "linhas: 67536\n",
      "colunas: 13\n"
     ]
    }
   ],
   "source": [
    "print('shape antes de remover outliers:')\n",
    "print('linhas:' ,df.shape[0])\n",
    "print('colunas:' ,df.shape[1])"
   ]
  },
  {
   "cell_type": "code",
   "execution_count": 182,
   "metadata": {
    "id": "u_ed_Vhl5obv"
   },
   "outputs": [],
   "source": [
    "drop_queries(df, col='ap_lo', lmin=60, lmax=100, inplace=True)"
   ]
  },
  {
   "cell_type": "code",
   "execution_count": 183,
   "metadata": {
    "colab": {
     "base_uri": "https://localhost:8080/"
    },
    "executionInfo": {
     "elapsed": 25,
     "status": "ok",
     "timestamp": 1642690606685,
     "user": {
      "displayName": "Victor Oliveira",
      "photoUrl": "https://lh3.googleusercontent.com/a-/AOh14GjTZ4w2UG33yijW1Kl4wnWg1hiIQiXJDLUn1ur4Cg=s64",
      "userId": "05541081588649521770"
     },
     "user_tz": 180
    },
    "id": "C66N5vDi5ofN",
    "outputId": "c7158f90-6edc-4003-fd6e-8f78505ab5c1"
   },
   "outputs": [
    {
     "name": "stdout",
     "output_type": "stream",
     "text": [
      "shape após remover outliers:\n",
      "linhas: 66193\n",
      "colunas: 13\n"
     ]
    }
   ],
   "source": [
    "print('shape após remover outliers:')\n",
    "print('linhas:' ,df.shape[0])\n",
    "print('colunas:' ,df.shape[1])"
   ]
  },
  {
   "cell_type": "markdown",
   "metadata": {},
   "source": [
    "**CONFERINDO O RESULTADO:**"
   ]
  },
  {
   "cell_type": "code",
   "execution_count": 185,
   "metadata": {},
   "outputs": [
    {
     "data": {
      "image/png": "[encoded data removed]",
      "text/plain": [
       "<Figure size 864x432 with 1 Axes>"
      ]
     },
     "metadata": {},
     "output_type": "display_data"
    }
   ],
   "source": [
    "boxplot(df, x='ap_lo', y='cardio', labels=['saudável', 'cardíaco'])"
   ]
  },
  {
   "cell_type": "markdown",
   "metadata": {
    "id": "Ka5aK2eU7cJU"
   },
   "source": [
    "❕ questões extra que podem influênciar no desempenho do modelo em caso de ser colocado em produção:\n",
    "\n",
    "1. Não temos informações sobre os medicamentos que os pacientes estão utilizando. Pode haver medicamentos que causam aumento ou redução da pressão.\n",
    "\n",
    "2. Problema cardíaco mais grave pode apresentar uma pressão mais baixa."
   ]
  },
  {
   "cell_type": "code",
   "execution_count": 186,
   "metadata": {
    "colab": {
     "base_uri": "https://localhost:8080/",
     "height": 390
    },
    "executionInfo": {
     "elapsed": 1503,
     "status": "ok",
     "timestamp": 1642690608169,
     "user": {
      "displayName": "Victor Oliveira",
      "photoUrl": "https://lh3.googleusercontent.com/a-/AOh14GjTZ4w2UG33yijW1Kl4wnWg1hiIQiXJDLUn1ur4Cg=s64",
      "userId": "05541081588649521770"
     },
     "user_tz": 180
    },
    "id": "xvH1Wfu59L70",
    "outputId": "8aef151d-8bea-4487-d7e8-d88d7923de6e"
   },
   "outputs": [
    {
     "data": {
      "image/png": "[encoded data removed]",
      "text/plain": [
       "<Figure size 864x432 with 1 Axes>"
      ]
     },
     "metadata": {},
     "output_type": "display_data"
    }
   ],
   "source": [
    "boxplot(df, x='weight', y='cardio', labels=['saudável', 'cardíaco'])"
   ]
  },
  {
   "cell_type": "code",
   "execution_count": 187,
   "metadata": {},
   "outputs": [
    {
     "data": {
      "text/plain": [
       "29"
      ]
     },
     "execution_count": 187,
     "metadata": {},
     "output_type": "execute_result"
    }
   ],
   "source": [
    "# idade mínima do dataset\n",
    "df.age.min()"
   ]
  },
  {
   "cell_type": "markdown",
   "metadata": {
    "id": "fHQ-uHMuCBI6"
   },
   "source": [
    "Percebe-se que há outliers. Podemos perceber que temos pesos com valores muito elevados e muito baixos - algo muito raro para a idade mínima da distribuição do conjunto de dados. Vamos seguir a mesma técnica que utlizamos anteriormente e remover essas outliers. Dessa vez, vamos considerar até 99.5% do valor de peso máximo e 1% para peso mínimo."
   ]
  },
  {
   "cell_type": "code",
   "execution_count": 188,
   "metadata": {
    "colab": {
     "base_uri": "https://localhost:8080/"
    },
    "executionInfo": {
     "elapsed": 19,
     "status": "ok",
     "timestamp": 1642690608760,
     "user": {
      "displayName": "Victor Oliveira",
      "photoUrl": "https://lh3.googleusercontent.com/a-/AOh14GjTZ4w2UG33yijW1Kl4wnWg1hiIQiXJDLUn1ur4Cg=s64",
      "userId": "05541081588649521770"
     },
     "user_tz": 180
    },
    "id": "YAFADyxZB71k",
    "outputId": "0a63907c-a59b-454a-b8d7-20cad0502b69"
   },
   "outputs": [
    {
     "name": "stdout",
     "output_type": "stream",
     "text": [
      "99.5% dos valores de weight estão até o valor de 124.0\n",
      "0.5% dos valores de weight estão até o valor de 45.0\n"
     ]
    }
   ],
   "source": [
    "print('99.5% dos valores de weight estão até o valor de {}'.format(df.weight.quantile(0.995)))\n",
    "print('0.5% dos valores de weight estão até o valor de {}'.format(df.weight.quantile(0.005)))"
   ]
  },
  {
   "cell_type": "code",
   "execution_count": 189,
   "metadata": {
    "colab": {
     "base_uri": "https://localhost:8080/",
     "height": 390
    },
    "executionInfo": {
     "elapsed": 627,
     "status": "ok",
     "timestamp": 1642690609373,
     "user": {
      "displayName": "Victor Oliveira",
      "photoUrl": "https://lh3.googleusercontent.com/a-/AOh14GjTZ4w2UG33yijW1Kl4wnWg1hiIQiXJDLUn1ur4Cg=s64",
      "userId": "05541081588649521770"
     },
     "user_tz": 180
    },
    "id": "C7gdLv1RCyJG",
    "outputId": "d77a3402-057e-41b4-f48a-c3b99c44ba99"
   },
   "outputs": [
    {
     "data": {
      "image/png": "[encoded data removed]",
      "text/plain": [
       "<Figure size 864x432 with 1 Axes>"
      ]
     },
     "metadata": {},
     "output_type": "display_data"
    }
   ],
   "source": [
    "boxplot(df.query('(weight >= 45) and (weight <= 124)'), x='weight', y='cardio', labels=['saudável', 'cardíaco'])"
   ]
  },
  {
   "cell_type": "code",
   "execution_count": 190,
   "metadata": {
    "colab": {
     "base_uri": "https://localhost:8080/"
    },
    "executionInfo": {
     "elapsed": 39,
     "status": "ok",
     "timestamp": 1642690609374,
     "user": {
      "displayName": "Victor Oliveira",
      "photoUrl": "https://lh3.googleusercontent.com/a-/AOh14GjTZ4w2UG33yijW1Kl4wnWg1hiIQiXJDLUn1ur4Cg=s64",
      "userId": "05541081588649521770"
     },
     "user_tz": 180
    },
    "id": "7GDPF3EzDn6P",
    "outputId": "88f7653f-99ef-4768-b1a3-b014ab14de87"
   },
   "outputs": [
    {
     "name": "stdout",
     "output_type": "stream",
     "text": [
      "shape antes de remover outliers:\n",
      "linhas: 66193\n",
      "colunas: 13\n"
     ]
    }
   ],
   "source": [
    "print('shape antes de remover outliers:')\n",
    "print('linhas:' ,df.shape[0])\n",
    "print('colunas:' ,df.shape[1])"
   ]
  },
  {
   "cell_type": "code",
   "execution_count": 191,
   "metadata": {
    "id": "Yx2cZiHBDox7"
   },
   "outputs": [],
   "source": [
    "# ap_lo maiores que 124 e menores que 45 serão eliminados do dataframe original\n",
    "drop_queries(df, col='weight', lmin=45, lmax=124, inplace=True)"
   ]
  },
  {
   "cell_type": "code",
   "execution_count": 192,
   "metadata": {
    "colab": {
     "base_uri": "https://localhost:8080/"
    },
    "executionInfo": {
     "elapsed": 38,
     "status": "ok",
     "timestamp": 1642690609380,
     "user": {
      "displayName": "Victor Oliveira",
      "photoUrl": "https://lh3.googleusercontent.com/a-/AOh14GjTZ4w2UG33yijW1Kl4wnWg1hiIQiXJDLUn1ur4Cg=s64",
      "userId": "05541081588649521770"
     },
     "user_tz": 180
    },
    "id": "9CUlsv18Do9R",
    "outputId": "f28372d0-dc81-47c3-d222-f1c19d2094cc"
   },
   "outputs": [
    {
     "name": "stdout",
     "output_type": "stream",
     "text": [
      "shape após remover outliers:\n",
      "linhas: 65624\n",
      "colunas: 13\n"
     ]
    }
   ],
   "source": [
    "print('shape após remover outliers:')\n",
    "print('linhas:' ,df.shape[0])\n",
    "print('colunas:' ,df.shape[1])"
   ]
  },
  {
   "cell_type": "markdown",
   "metadata": {
    "id": "lPMoIt5lxo1F"
   },
   "source": [
    "### Variáveis qualitativas"
   ]
  },
  {
   "cell_type": "markdown",
   "metadata": {
    "id": "yoOCo11D0xwI"
   },
   "source": [
    "#### Relação entre colesterol e pacientes saudáveis e cardíacos."
   ]
  },
  {
   "cell_type": "markdown",
   "metadata": {
    "id": "aTfY7lDX6mPj"
   },
   "source": [
    "1: normal, 2: acima do normal, 3: bem acima do normal"
   ]
  },
  {
   "cell_type": "code",
   "execution_count": 193,
   "metadata": {
    "colab": {
     "base_uri": "https://localhost:8080/",
     "height": 390
    },
    "executionInfo": {
     "elapsed": 35,
     "status": "ok",
     "timestamp": 1642690609382,
     "user": {
      "displayName": "Victor Oliveira",
      "photoUrl": "https://lh3.googleusercontent.com/a-/AOh14GjTZ4w2UG33yijW1Kl4wnWg1hiIQiXJDLUn1ur4Cg=s64",
      "userId": "05541081588649521770"
     },
     "user_tz": 180
    },
    "id": "C3UlcxBu0tYl",
    "outputId": "871d50c2-e54e-4d3b-eab8-9b2585bbc1fc"
   },
   "outputs": [
    {
     "data": {
      "image/png": "[encoded data removed]",
      "text/plain": [
       "<Figure size 1080x432 with 1 Axes>"
      ]
     },
     "metadata": {},
     "output_type": "display_data"
    }
   ],
   "source": [
    "# analisando histogramas de variáveis quantitativas\n",
    "plt.figure(figsize=(15,6))\n",
    "ax = sns.countplot(x='cholesterol', hue='cardio', data = df, palette=\"GnBu_d\");\n",
    "plt.legend(['saudável', 'cardíaco'])\n",
    "ax.set_xticklabels(['normal', 'acima do normal', 'bem acima do normal'])\n",
    "plt.tight_layout()"
   ]
  },
  {
   "cell_type": "markdown",
   "metadata": {
    "id": "lxekQHYu66S3"
   },
   "source": [
    "✅ Pessoas com colesterol acima do normal tendem a apresentar problemas cardíacos."
   ]
  },
  {
   "cell_type": "markdown",
   "metadata": {
    "id": "KB0ZAVBuzHNA"
   },
   "source": [
    "#### Relação entre a idade média das pessoas e o índice de colesterol\n"
   ]
  },
  {
   "cell_type": "code",
   "execution_count": 194,
   "metadata": {
    "colab": {
     "base_uri": "https://localhost:8080/",
     "height": 206
    },
    "executionInfo": {
     "elapsed": 35,
     "status": "ok",
     "timestamp": 1642690609702,
     "user": {
      "displayName": "Victor Oliveira",
      "photoUrl": "https://lh3.googleusercontent.com/a-/AOh14GjTZ4w2UG33yijW1Kl4wnWg1hiIQiXJDLUn1ur4Cg=s64",
      "userId": "05541081588649521770"
     },
     "user_tz": 180
    },
    "id": "VcNiOob0ysFo",
    "outputId": "7d62393b-343c-4576-e87b-85a75de08762"
   },
   "outputs": [
    {
     "data": {
      "text/html": [
       "<div>\n",
       "<style scoped>\n",
       "    .dataframe tbody tr th:only-of-type {\n",
       "        vertical-align: middle;\n",
       "    }\n",
       "\n",
       "    .dataframe tbody tr th {\n",
       "        vertical-align: top;\n",
       "    }\n",
       "\n",
       "    .dataframe thead tr th {\n",
       "        text-align: left;\n",
       "    }\n",
       "\n",
       "    .dataframe thead tr:last-of-type th {\n",
       "        text-align: right;\n",
       "    }\n",
       "</style>\n",
       "<table border=\"1\" class=\"dataframe\">\n",
       "  <thead>\n",
       "    <tr>\n",
       "      <th></th>\n",
       "      <th colspan=\"4\" halign=\"left\">age</th>\n",
       "    </tr>\n",
       "    <tr>\n",
       "      <th></th>\n",
       "      <th>mean</th>\n",
       "      <th>median</th>\n",
       "      <th>min</th>\n",
       "      <th>max</th>\n",
       "    </tr>\n",
       "    <tr>\n",
       "      <th>cholesterol</th>\n",
       "      <th></th>\n",
       "      <th></th>\n",
       "      <th></th>\n",
       "      <th></th>\n",
       "    </tr>\n",
       "  </thead>\n",
       "  <tbody>\n",
       "    <tr>\n",
       "      <th>1</th>\n",
       "      <td>52.368376</td>\n",
       "      <td>53</td>\n",
       "      <td>29</td>\n",
       "      <td>64</td>\n",
       "    </tr>\n",
       "    <tr>\n",
       "      <th>2</th>\n",
       "      <td>53.219224</td>\n",
       "      <td>54</td>\n",
       "      <td>39</td>\n",
       "      <td>64</td>\n",
       "    </tr>\n",
       "    <tr>\n",
       "      <th>3</th>\n",
       "      <td>55.736884</td>\n",
       "      <td>57</td>\n",
       "      <td>39</td>\n",
       "      <td>64</td>\n",
       "    </tr>\n",
       "  </tbody>\n",
       "</table>\n",
       "</div>"
      ],
      "text/plain": [
       "                   age               \n",
       "                  mean median min max\n",
       "cholesterol                          \n",
       "1            52.368376     53  29  64\n",
       "2            53.219224     54  39  64\n",
       "3            55.736884     57  39  64"
      ]
     },
     "execution_count": 194,
     "metadata": {},
     "output_type": "execute_result"
    }
   ],
   "source": [
    "# 2. Analisando a média, mediana, valores mínimo e máximo de de idade utilizando group by e agg.\n",
    "df[['cholesterol', 'age']].groupby('cholesterol').agg(['mean', 'median','min','max'])"
   ]
  },
  {
   "cell_type": "markdown",
   "metadata": {
    "id": "9KX_Ts2jzSgk"
   },
   "source": [
    "A idade média é próxima para ambos os três níveis de colesterol propostos no dataset, entretando temos uma pequena diferença nos valores mínimos de idade. Isso quer dizer que, para esses pacientes, a idade começa a influenciar nos níveis de colesterol à partir de 29 anos.\n",
    "\n",
    "Quais são os níveis de colesterol de pacientes menores que 39 anos?"
   ]
  },
  {
   "cell_type": "code",
   "execution_count": 195,
   "metadata": {
    "colab": {
     "base_uri": "https://localhost:8080/",
     "height": 174
    },
    "executionInfo": {
     "elapsed": 35,
     "status": "ok",
     "timestamp": 1642690609704,
     "user": {
      "displayName": "Victor Oliveira",
      "photoUrl": "https://lh3.googleusercontent.com/a-/AOh14GjTZ4w2UG33yijW1Kl4wnWg1hiIQiXJDLUn1ur4Cg=s64",
      "userId": "05541081588649521770"
     },
     "user_tz": 180
    },
    "id": "d4ipp9EU2aQ-",
    "outputId": "17dd3093-8163-4d32-b7e7-7d5770fb4d78"
   },
   "outputs": [
    {
     "data": {
      "text/html": [
       "<div>\n",
       "<style scoped>\n",
       "    .dataframe tbody tr th:only-of-type {\n",
       "        vertical-align: middle;\n",
       "    }\n",
       "\n",
       "    .dataframe tbody tr th {\n",
       "        vertical-align: top;\n",
       "    }\n",
       "\n",
       "    .dataframe thead th {\n",
       "        text-align: right;\n",
       "    }\n",
       "</style>\n",
       "<table border=\"1\" class=\"dataframe\">\n",
       "  <thead>\n",
       "    <tr style=\"text-align: right;\">\n",
       "      <th></th>\n",
       "      <th>id</th>\n",
       "      <th>age</th>\n",
       "      <th>gender</th>\n",
       "      <th>height</th>\n",
       "      <th>weight</th>\n",
       "      <th>ap_hi</th>\n",
       "      <th>ap_lo</th>\n",
       "      <th>cholesterol</th>\n",
       "      <th>gluc</th>\n",
       "      <th>smoke</th>\n",
       "      <th>alco</th>\n",
       "      <th>active</th>\n",
       "      <th>cardio</th>\n",
       "    </tr>\n",
       "  </thead>\n",
       "  <tbody>\n",
       "    <tr>\n",
       "      <th>6219</th>\n",
       "      <td>8850</td>\n",
       "      <td>29</td>\n",
       "      <td>1</td>\n",
       "      <td>175</td>\n",
       "      <td>59.0</td>\n",
       "      <td>120</td>\n",
       "      <td>80</td>\n",
       "      <td>1</td>\n",
       "      <td>1</td>\n",
       "      <td>0</td>\n",
       "      <td>0</td>\n",
       "      <td>1</td>\n",
       "      <td>0</td>\n",
       "    </tr>\n",
       "    <tr>\n",
       "      <th>22343</th>\n",
       "      <td>31922</td>\n",
       "      <td>29</td>\n",
       "      <td>2</td>\n",
       "      <td>175</td>\n",
       "      <td>92.0</td>\n",
       "      <td>100</td>\n",
       "      <td>60</td>\n",
       "      <td>1</td>\n",
       "      <td>1</td>\n",
       "      <td>0</td>\n",
       "      <td>0</td>\n",
       "      <td>1</td>\n",
       "      <td>0</td>\n",
       "    </tr>\n",
       "    <tr>\n",
       "      <th>30666</th>\n",
       "      <td>43842</td>\n",
       "      <td>29</td>\n",
       "      <td>1</td>\n",
       "      <td>159</td>\n",
       "      <td>59.0</td>\n",
       "      <td>120</td>\n",
       "      <td>80</td>\n",
       "      <td>1</td>\n",
       "      <td>1</td>\n",
       "      <td>0</td>\n",
       "      <td>0</td>\n",
       "      <td>1</td>\n",
       "      <td>0</td>\n",
       "    </tr>\n",
       "    <tr>\n",
       "      <th>55905</th>\n",
       "      <td>79749</td>\n",
       "      <td>30</td>\n",
       "      <td>1</td>\n",
       "      <td>160</td>\n",
       "      <td>59.0</td>\n",
       "      <td>110</td>\n",
       "      <td>70</td>\n",
       "      <td>1</td>\n",
       "      <td>1</td>\n",
       "      <td>0</td>\n",
       "      <td>0</td>\n",
       "      <td>1</td>\n",
       "      <td>0</td>\n",
       "    </tr>\n",
       "  </tbody>\n",
       "</table>\n",
       "</div>"
      ],
      "text/plain": [
       "          id  age  gender  height  weight  ap_hi  ap_lo  cholesterol  gluc  \\\n",
       "6219    8850   29       1     175    59.0    120     80            1     1   \n",
       "22343  31922   29       2     175    92.0    100     60            1     1   \n",
       "30666  43842   29       1     159    59.0    120     80            1     1   \n",
       "55905  79749   30       1     160    59.0    110     70            1     1   \n",
       "\n",
       "       smoke  alco  active  cardio  \n",
       "6219       0     0       1       0  \n",
       "22343      0     0       1       0  \n",
       "30666      0     0       1       0  \n",
       "55905      0     0       1       0  "
      ]
     },
     "execution_count": 195,
     "metadata": {},
     "output_type": "execute_result"
    }
   ],
   "source": [
    "df.query('age < 39')"
   ]
  },
  {
   "cell_type": "markdown",
   "metadata": {
    "id": "NfIG1wEO21JW"
   },
   "source": [
    "Percebemos que nao há muitos pacientes, logo: pelos valores de média e mediana bem próximos, vamos considerar que a idade não está afetando o índice de colesterol para esses pacientes."
   ]
  },
  {
   "cell_type": "markdown",
   "metadata": {
    "id": "IcUkhsca2T7Q"
   },
   "source": [
    "✅ Podemos perceber até aqui que a idade **pode ser** fortemente correlacionada com doenças cardiovásculares, assim como o colesterol."
   ]
  },
  {
   "cell_type": "markdown",
   "metadata": {
    "id": "y0u-F6LvWQbl"
   },
   "source": [
    "#### Relação entre práticas de exercícios e pacientes cardíacos e saudáveis\n"
   ]
  },
  {
   "cell_type": "code",
   "execution_count": 36,
   "metadata": {
    "colab": {
     "base_uri": "https://localhost:8080/",
     "height": 390
    },
    "executionInfo": {
     "elapsed": 35,
     "status": "ok",
     "timestamp": 1642690609706,
     "user": {
      "displayName": "Victor Oliveira",
      "photoUrl": "https://lh3.googleusercontent.com/a-/AOh14GjTZ4w2UG33yijW1Kl4wnWg1hiIQiXJDLUn1ur4Cg=s64",
      "userId": "05541081588649521770"
     },
     "user_tz": 180
    },
    "id": "f2Xl_DdyWQpe",
    "outputId": "ae61c9bd-4e35-4ecd-a7dc-230d99a854d9"
   },
   "outputs": [
    {
     "data": {
      "image/png": "[encoded data removed]",
      "text/plain": [
       "<Figure size 1080x432 with 1 Axes>"
      ]
     },
     "metadata": {},
     "output_type": "display_data"
    }
   ],
   "source": [
    "# analisando histogramas de variáveis quantitativas\n",
    "plt.figure(figsize=(15,6))\n",
    "ax = sns.countplot(x='active', hue='cardio', data = df, palette=\"GnBu_d\");\n",
    "plt.legend(['saudável', 'cardíaco'])\n",
    "ax.set_xticklabels(['não exercita', 'exercita'])\n",
    "plt.tight_layout()"
   ]
  },
  {
   "cell_type": "markdown",
   "metadata": {
    "id": "Z3JWcUtxW73s"
   },
   "source": [
    "#### Relação entre glucose e pacientes cardíacos e saudáveis"
   ]
  },
  {
   "cell_type": "code",
   "execution_count": 37,
   "metadata": {
    "colab": {
     "base_uri": "https://localhost:8080/",
     "height": 390
    },
    "executionInfo": {
     "elapsed": 765,
     "status": "ok",
     "timestamp": 1642690610440,
     "user": {
      "displayName": "Victor Oliveira",
      "photoUrl": "https://lh3.googleusercontent.com/a-/AOh14GjTZ4w2UG33yijW1Kl4wnWg1hiIQiXJDLUn1ur4Cg=s64",
      "userId": "05541081588649521770"
     },
     "user_tz": 180
    },
    "id": "pe2kYdexWQvh",
    "outputId": "207414d3-b8e0-4d0c-aa94-c2c5550e9f1a"
   },
   "outputs": [
    {
     "data": {
      "image/png": "[encoded data removed]",
      "text/plain": [
       "<Figure size 1080x432 with 1 Axes>"
      ]
     },
     "metadata": {},
     "output_type": "display_data"
    }
   ],
   "source": [
    "# analisando histogramas de variáveis quantitativas\n",
    "plt.figure(figsize=(15,6))\n",
    "ax = sns.countplot(x='gluc', hue='cardio', data = df, palette=\"GnBu_d\");\n",
    "plt.legend(['saudável', 'cardíaco'])\n",
    "ax.set_xticklabels(['normal', 'acima do normal', 'bem acima do normal'])\n",
    "plt.tight_layout()"
   ]
  },
  {
   "cell_type": "markdown",
   "metadata": {
    "id": "-uEfqV3fXoL8"
   },
   "source": [
    "#### Relação entre fumantes e pacientes cardíacos e saudáveis"
   ]
  },
  {
   "cell_type": "code",
   "execution_count": 38,
   "metadata": {
    "colab": {
     "base_uri": "https://localhost:8080/",
     "height": 390
    },
    "executionInfo": {
     "elapsed": 12,
     "status": "ok",
     "timestamp": 1642690610442,
     "user": {
      "displayName": "Victor Oliveira",
      "photoUrl": "https://lh3.googleusercontent.com/a-/AOh14GjTZ4w2UG33yijW1Kl4wnWg1hiIQiXJDLUn1ur4Cg=s64",
      "userId": "05541081588649521770"
     },
     "user_tz": 180
    },
    "id": "Xot5z2siWQ1Z",
    "outputId": "c6ecddd5-3fb0-4cfd-abb0-1396a3eb19ee"
   },
   "outputs": [
    {
     "data": {
      "image/png": "[encoded data removed]",
      "text/plain": [
       "<Figure size 1080x432 with 1 Axes>"
      ]
     },
     "metadata": {},
     "output_type": "display_data"
    }
   ],
   "source": [
    "# analisando histogramas de variáveis quantitativas\n",
    "plt.figure(figsize=(15,6))\n",
    "ax = sns.countplot(x='smoke', hue='cardio', data = df, palette=\"GnBu_d\");\n",
    "plt.legend(['saudável', 'cardíaco'])\n",
    "ax.set_xticklabels(['não fuma', 'fuma'])\n",
    "plt.tight_layout()"
   ]
  },
  {
   "cell_type": "markdown",
   "metadata": {
    "id": "7rI9H0tq3L9m"
   },
   "source": [
    "### Correlação das váriaveis"
   ]
  },
  {
   "cell_type": "code",
   "execution_count": 40,
   "metadata": {
    "colab": {
     "base_uri": "https://localhost:8080/",
     "height": 600
    },
    "executionInfo": {
     "elapsed": 933,
     "status": "ok",
     "timestamp": 1642690644472,
     "user": {
      "displayName": "Victor Oliveira",
      "photoUrl": "https://lh3.googleusercontent.com/a-/AOh14GjTZ4w2UG33yijW1Kl4wnWg1hiIQiXJDLUn1ur4Cg=s64",
      "userId": "05541081588649521770"
     },
     "user_tz": 180
    },
    "id": "sls2cMNDMZz7",
    "outputId": "be921cda-961f-430c-c6f7-ad88f7e2a622"
   },
   "outputs": [
    {
     "data": {
      "text/plain": [
       "<AxesSubplot:>"
      ]
     },
     "execution_count": 40,
     "metadata": {},
     "output_type": "execute_result"
    },
    {
     "data": {
      "image/png": "[encoded data removed]",
      "text/plain": [
       "<Figure size 792x648 with 2 Axes>"
      ]
     },
     "metadata": {},
     "output_type": "display_data"
    }
   ],
   "source": [
    "corr = df.corr()\n",
    "# Generate a mask for the upper triangle\n",
    "mask = np.triu(np.ones_like(corr, dtype=bool))\n",
    "\n",
    "# Set up the matplotlib figure\n",
    "f, ax = plt.subplots(figsize=(11, 9))\n",
    "\n",
    "# Draw the heatmap with the mask and correct aspect ratio\n",
    "sns.heatmap(corr, mask=mask, cmap='Blues', vmax=.3, center=0,\n",
    "            square=True, linewidths=.5, cbar_kws={\"shrink\": .5})"
   ]
  },
  {
   "cell_type": "markdown",
   "metadata": {},
   "source": [
    "# MODELOS DE MACHINE LEARNING"
   ]
  },
  {
   "cell_type": "code",
   "execution_count": 82,
   "metadata": {},
   "outputs": [],
   "source": [
    "from sklearn.metrics import classification_report\n",
    "from sklearn.preprocessing import StandardScaler\n",
    "from sklearn.pipeline import make_pipeline\n",
    "from sklearn.linear_model import LogisticRegression"
   ]
  },
  {
   "cell_type": "markdown",
   "metadata": {
    "id": "KEowPBYB3YkK"
   },
   "source": [
    "## Regressão Logística"
   ]
  },
  {
   "cell_type": "code",
   "execution_count": 83,
   "metadata": {
    "colab": {
     "base_uri": "https://localhost:8080/",
     "height": 80
    },
    "executionInfo": {
     "elapsed": 352,
     "status": "ok",
     "timestamp": 1642690648721,
     "user": {
      "displayName": "Victor Oliveira",
      "photoUrl": "https://lh3.googleusercontent.com/a-/AOh14GjTZ4w2UG33yijW1Kl4wnWg1hiIQiXJDLUn1ur4Cg=s64",
      "userId": "05541081588649521770"
     },
     "user_tz": 180
    },
    "id": "_fhz78OBz19r",
    "outputId": "fb540fed-f2ea-4eaf-9cd0-156a83faf925"
   },
   "outputs": [
    {
     "data": {
      "text/html": [
       "<div>\n",
       "<style scoped>\n",
       "    .dataframe tbody tr th:only-of-type {\n",
       "        vertical-align: middle;\n",
       "    }\n",
       "\n",
       "    .dataframe tbody tr th {\n",
       "        vertical-align: top;\n",
       "    }\n",
       "\n",
       "    .dataframe thead th {\n",
       "        text-align: right;\n",
       "    }\n",
       "</style>\n",
       "<table border=\"1\" class=\"dataframe\">\n",
       "  <thead>\n",
       "    <tr style=\"text-align: right;\">\n",
       "      <th></th>\n",
       "      <th>id</th>\n",
       "      <th>age</th>\n",
       "      <th>gender</th>\n",
       "      <th>height</th>\n",
       "      <th>weight</th>\n",
       "      <th>ap_hi</th>\n",
       "      <th>ap_lo</th>\n",
       "      <th>cholesterol</th>\n",
       "      <th>gluc</th>\n",
       "      <th>smoke</th>\n",
       "      <th>alco</th>\n",
       "      <th>active</th>\n",
       "      <th>cardio</th>\n",
       "    </tr>\n",
       "  </thead>\n",
       "  <tbody>\n",
       "    <tr>\n",
       "      <th>0</th>\n",
       "      <td>0</td>\n",
       "      <td>50</td>\n",
       "      <td>2</td>\n",
       "      <td>168</td>\n",
       "      <td>62.0</td>\n",
       "      <td>110</td>\n",
       "      <td>80</td>\n",
       "      <td>1</td>\n",
       "      <td>1</td>\n",
       "      <td>0</td>\n",
       "      <td>0</td>\n",
       "      <td>1</td>\n",
       "      <td>0</td>\n",
       "    </tr>\n",
       "  </tbody>\n",
       "</table>\n",
       "</div>"
      ],
      "text/plain": [
       "   id  age  gender  height  weight  ap_hi  ap_lo  cholesterol  gluc  smoke  \\\n",
       "0   0   50       2     168    62.0    110     80            1     1      0   \n",
       "\n",
       "   alco  active  cardio  \n",
       "0     0       1       0  "
      ]
     },
     "execution_count": 83,
     "metadata": {},
     "output_type": "execute_result"
    }
   ],
   "source": [
    "df.head(1)"
   ]
  },
  {
   "cell_type": "code",
   "execution_count": 84,
   "metadata": {
    "colab": {
     "base_uri": "https://localhost:8080/"
    },
    "executionInfo": {
     "elapsed": 282,
     "status": "ok",
     "timestamp": 1642690651896,
     "user": {
      "displayName": "Victor Oliveira",
      "photoUrl": "https://lh3.googleusercontent.com/a-/AOh14GjTZ4w2UG33yijW1Kl4wnWg1hiIQiXJDLUn1ur4Cg=s64",
      "userId": "05541081588649521770"
     },
     "user_tz": 180
    },
    "id": "sOGKQnVJz1MW",
    "outputId": "4db99998-ceb8-4582-bc4c-928054649bb6"
   },
   "outputs": [
    {
     "name": "stdout",
     "output_type": "stream",
     "text": [
      "(63572, 11)\n",
      "(63572,)\n"
     ]
    }
   ],
   "source": [
    "X = df.drop(columns=['id', 'cardio' ]).to_numpy()\n",
    "y = df.cardio.to_numpy()\n",
    "\n",
    "print(X.shape)\n",
    "print(y.shape)"
   ]
  },
  {
   "cell_type": "code",
   "execution_count": 85,
   "metadata": {
    "colab": {
     "base_uri": "https://localhost:8080/"
    },
    "executionInfo": {
     "elapsed": 268,
     "status": "ok",
     "timestamp": 1642690900798,
     "user": {
      "displayName": "Victor Oliveira",
      "photoUrl": "https://lh3.googleusercontent.com/a-/AOh14GjTZ4w2UG33yijW1Kl4wnWg1hiIQiXJDLUn1ur4Cg=s64",
      "userId": "05541081588649521770"
     },
     "user_tz": 180
    },
    "id": "4ZQW3oa8_mtk",
    "outputId": "4dab4f0b-6dc3-4ba9-c008-0a9c6bec267d",
    "scrolled": true
   },
   "outputs": [
    {
     "name": "stdout",
     "output_type": "stream",
     "text": [
      "X_train shape (40685, 11)\n",
      "y_train shape (40685,)\n",
      "X_val shape (12715, 11)\n",
      "y_val shape (12715,)\n",
      "X_test shape (10172, 11)\n",
      "y_test shape (10172,)\n"
     ]
    }
   ],
   "source": [
    "from sklearn.model_selection import train_test_split\n",
    "\n",
    "X_train, X_val, y_train, y_val = train_test_split(X, y, stratify=y, test_size=0.2, random_state=10)\n",
    "X_train, X_test, y_train, y_test = train_test_split(X_train, y_train, stratify=y_train, test_size=0.2, random_state=10)\n",
    "\n",
    "scaler = StandardScaler()\n",
    "scaler.fit(X_train)\n",
    "\n",
    "X_train_scaler = scaler.transform(X_train)\n",
    "X_val_scaler = scaler.transform(X_val)\n",
    "X_test_scaler = scaler.transform(X_test)\n",
    "\n",
    "print('X_train shape {}'.format(X_train_scaler.shape))\n",
    "print('y_train shape {}'.format(y_train.shape))\n",
    "\n",
    "print('X_val shape {}'.format(X_val_scaler.shape))\n",
    "print('y_val shape {}'.format(y_val.shape))\n",
    "\n",
    "print('X_test shape {}'.format(X_test_scaler.shape))\n",
    "print('y_test shape {}'.format(y_test.shape))\n"
   ]
  },
  {
   "cell_type": "code",
   "execution_count": 86,
   "metadata": {},
   "outputs": [
    {
     "ename": "ValueError",
     "evalue": "X has 11 features, but PolynomialFeatures is expecting 3 features as input.",
     "output_type": "error",
     "traceback": [
      "\u001b[0;31m---------------------------------------------------------------------------\u001b[0m",
      "\u001b[0;31mValueError\u001b[0m                                Traceback (most recent call last)",
      "\u001b[0;32m<ipython-input-86-3f65d137e4d2>\u001b[0m in \u001b[0;36m<module>\u001b[0;34m\u001b[0m\n\u001b[1;32m     10\u001b[0m     \u001b[0mplt\u001b[0m\u001b[0;34m.\u001b[0m\u001b[0mshow\u001b[0m\u001b[0;34m(\u001b[0m\u001b[0;34m)\u001b[0m\u001b[0;34m\u001b[0m\u001b[0;34m\u001b[0m\u001b[0m\n\u001b[1;32m     11\u001b[0m \u001b[0;34m\u001b[0m\u001b[0m\n\u001b[0;32m---> 12\u001b[0;31m \u001b[0mplot_confusion_matrix\u001b[0m\u001b[0;34m(\u001b[0m\u001b[0my_test\u001b[0m\u001b[0;34m,\u001b[0m \u001b[0mmodel\u001b[0m\u001b[0;34m.\u001b[0m\u001b[0mpredict\u001b[0m\u001b[0;34m(\u001b[0m\u001b[0mX_test_scaler\u001b[0m\u001b[0;34m)\u001b[0m\u001b[0;34m)\u001b[0m\u001b[0;34m\u001b[0m\u001b[0;34m\u001b[0m\u001b[0m\n\u001b[0m",
      "\u001b[0;32m~/anaconda3/lib/python3.8/site-packages/sklearn/utils/metaestimators.py\u001b[0m in \u001b[0;36m<lambda>\u001b[0;34m(*args, **kwargs)\u001b[0m\n\u001b[1;32m    118\u001b[0m \u001b[0;34m\u001b[0m\u001b[0m\n\u001b[1;32m    119\u001b[0m         \u001b[0;31m# lambda, but not partial, allows help() to work with update_wrapper\u001b[0m\u001b[0;34m\u001b[0m\u001b[0;34m\u001b[0m\u001b[0;34m\u001b[0m\u001b[0m\n\u001b[0;32m--> 120\u001b[0;31m         \u001b[0mout\u001b[0m \u001b[0;34m=\u001b[0m \u001b[0;32mlambda\u001b[0m \u001b[0;34m*\u001b[0m\u001b[0margs\u001b[0m\u001b[0;34m,\u001b[0m \u001b[0;34m**\u001b[0m\u001b[0mkwargs\u001b[0m\u001b[0;34m:\u001b[0m \u001b[0mself\u001b[0m\u001b[0;34m.\u001b[0m\u001b[0mfn\u001b[0m\u001b[0;34m(\u001b[0m\u001b[0mobj\u001b[0m\u001b[0;34m,\u001b[0m \u001b[0;34m*\u001b[0m\u001b[0margs\u001b[0m\u001b[0;34m,\u001b[0m \u001b[0;34m**\u001b[0m\u001b[0mkwargs\u001b[0m\u001b[0;34m)\u001b[0m\u001b[0;34m\u001b[0m\u001b[0;34m\u001b[0m\u001b[0m\n\u001b[0m\u001b[1;32m    121\u001b[0m         \u001b[0;31m# update the docstring of the returned function\u001b[0m\u001b[0;34m\u001b[0m\u001b[0;34m\u001b[0m\u001b[0;34m\u001b[0m\u001b[0m\n\u001b[1;32m    122\u001b[0m         \u001b[0mupdate_wrapper\u001b[0m\u001b[0;34m(\u001b[0m\u001b[0mout\u001b[0m\u001b[0;34m,\u001b[0m \u001b[0mself\u001b[0m\u001b[0;34m.\u001b[0m\u001b[0mfn\u001b[0m\u001b[0;34m)\u001b[0m\u001b[0;34m\u001b[0m\u001b[0;34m\u001b[0m\u001b[0m\n",
      "\u001b[0;32m~/anaconda3/lib/python3.8/site-packages/sklearn/pipeline.py\u001b[0m in \u001b[0;36mpredict\u001b[0;34m(self, X, **predict_params)\u001b[0m\n\u001b[1;32m    416\u001b[0m         \u001b[0mXt\u001b[0m \u001b[0;34m=\u001b[0m \u001b[0mX\u001b[0m\u001b[0;34m\u001b[0m\u001b[0;34m\u001b[0m\u001b[0m\n\u001b[1;32m    417\u001b[0m         \u001b[0;32mfor\u001b[0m \u001b[0m_\u001b[0m\u001b[0;34m,\u001b[0m \u001b[0mname\u001b[0m\u001b[0;34m,\u001b[0m \u001b[0mtransform\u001b[0m \u001b[0;32min\u001b[0m \u001b[0mself\u001b[0m\u001b[0;34m.\u001b[0m\u001b[0m_iter\u001b[0m\u001b[0;34m(\u001b[0m\u001b[0mwith_final\u001b[0m\u001b[0;34m=\u001b[0m\u001b[0;32mFalse\u001b[0m\u001b[0;34m)\u001b[0m\u001b[0;34m:\u001b[0m\u001b[0;34m\u001b[0m\u001b[0;34m\u001b[0m\u001b[0m\n\u001b[0;32m--> 418\u001b[0;31m             \u001b[0mXt\u001b[0m \u001b[0;34m=\u001b[0m \u001b[0mtransform\u001b[0m\u001b[0;34m.\u001b[0m\u001b[0mtransform\u001b[0m\u001b[0;34m(\u001b[0m\u001b[0mXt\u001b[0m\u001b[0;34m)\u001b[0m\u001b[0;34m\u001b[0m\u001b[0;34m\u001b[0m\u001b[0m\n\u001b[0m\u001b[1;32m    419\u001b[0m         \u001b[0;32mreturn\u001b[0m \u001b[0mself\u001b[0m\u001b[0;34m.\u001b[0m\u001b[0msteps\u001b[0m\u001b[0;34m[\u001b[0m\u001b[0;34m-\u001b[0m\u001b[0;36m1\u001b[0m\u001b[0;34m]\u001b[0m\u001b[0;34m[\u001b[0m\u001b[0;34m-\u001b[0m\u001b[0;36m1\u001b[0m\u001b[0;34m]\u001b[0m\u001b[0;34m.\u001b[0m\u001b[0mpredict\u001b[0m\u001b[0;34m(\u001b[0m\u001b[0mXt\u001b[0m\u001b[0;34m,\u001b[0m \u001b[0;34m**\u001b[0m\u001b[0mpredict_params\u001b[0m\u001b[0;34m)\u001b[0m\u001b[0;34m\u001b[0m\u001b[0;34m\u001b[0m\u001b[0m\n\u001b[1;32m    420\u001b[0m \u001b[0;34m\u001b[0m\u001b[0m\n",
      "\u001b[0;32m~/anaconda3/lib/python3.8/site-packages/sklearn/preprocessing/_data.py\u001b[0m in \u001b[0;36mtransform\u001b[0;34m(self, X)\u001b[0m\n\u001b[1;32m   1742\u001b[0m         \u001b[0mcheck_is_fitted\u001b[0m\u001b[0;34m(\u001b[0m\u001b[0mself\u001b[0m\u001b[0;34m)\u001b[0m\u001b[0;34m\u001b[0m\u001b[0;34m\u001b[0m\u001b[0m\n\u001b[1;32m   1743\u001b[0m \u001b[0;34m\u001b[0m\u001b[0m\n\u001b[0;32m-> 1744\u001b[0;31m         X = self._validate_data(X, order='F', dtype=FLOAT_DTYPES, reset=False,\n\u001b[0m\u001b[1;32m   1745\u001b[0m                                 accept_sparse=('csr', 'csc'))\n\u001b[1;32m   1746\u001b[0m \u001b[0;34m\u001b[0m\u001b[0m\n",
      "\u001b[0;32m~/anaconda3/lib/python3.8/site-packages/sklearn/base.py\u001b[0m in \u001b[0;36m_validate_data\u001b[0;34m(self, X, y, reset, validate_separately, **check_params)\u001b[0m\n\u001b[1;32m    435\u001b[0m \u001b[0;34m\u001b[0m\u001b[0m\n\u001b[1;32m    436\u001b[0m         \u001b[0;32mif\u001b[0m \u001b[0mcheck_params\u001b[0m\u001b[0;34m.\u001b[0m\u001b[0mget\u001b[0m\u001b[0;34m(\u001b[0m\u001b[0;34m'ensure_2d'\u001b[0m\u001b[0;34m,\u001b[0m \u001b[0;32mTrue\u001b[0m\u001b[0;34m)\u001b[0m\u001b[0;34m:\u001b[0m\u001b[0;34m\u001b[0m\u001b[0;34m\u001b[0m\u001b[0m\n\u001b[0;32m--> 437\u001b[0;31m             \u001b[0mself\u001b[0m\u001b[0;34m.\u001b[0m\u001b[0m_check_n_features\u001b[0m\u001b[0;34m(\u001b[0m\u001b[0mX\u001b[0m\u001b[0;34m,\u001b[0m \u001b[0mreset\u001b[0m\u001b[0;34m=\u001b[0m\u001b[0mreset\u001b[0m\u001b[0;34m)\u001b[0m\u001b[0;34m\u001b[0m\u001b[0;34m\u001b[0m\u001b[0m\n\u001b[0m\u001b[1;32m    438\u001b[0m \u001b[0;34m\u001b[0m\u001b[0m\n\u001b[1;32m    439\u001b[0m         \u001b[0;32mreturn\u001b[0m \u001b[0mout\u001b[0m\u001b[0;34m\u001b[0m\u001b[0;34m\u001b[0m\u001b[0m\n",
      "\u001b[0;32m~/anaconda3/lib/python3.8/site-packages/sklearn/base.py\u001b[0m in \u001b[0;36m_check_n_features\u001b[0;34m(self, X, reset)\u001b[0m\n\u001b[1;32m    363\u001b[0m \u001b[0;34m\u001b[0m\u001b[0m\n\u001b[1;32m    364\u001b[0m         \u001b[0;32mif\u001b[0m \u001b[0mn_features\u001b[0m \u001b[0;34m!=\u001b[0m \u001b[0mself\u001b[0m\u001b[0;34m.\u001b[0m\u001b[0mn_features_in_\u001b[0m\u001b[0;34m:\u001b[0m\u001b[0;34m\u001b[0m\u001b[0;34m\u001b[0m\u001b[0m\n\u001b[0;32m--> 365\u001b[0;31m             raise ValueError(\n\u001b[0m\u001b[1;32m    366\u001b[0m                 \u001b[0;34mf\"X has {n_features} features, but {self.__class__.__name__} \"\u001b[0m\u001b[0;34m\u001b[0m\u001b[0;34m\u001b[0m\u001b[0m\n\u001b[1;32m    367\u001b[0m                 f\"is expecting {self.n_features_in_} features as input.\")\n",
      "\u001b[0;31mValueError\u001b[0m: X has 11 features, but PolynomialFeatures is expecting 3 features as input."
     ]
    }
   ],
   "source": [
    "from sklearn.metrics import accuracy_score, roc_auc_score, plot_roc_curve, confusion_matrix\n",
    "\n",
    "def plot_confusion_matrix(y, y_pred):\n",
    "    acc = round(accuracy_score(y, y_pred), 2)\n",
    "    cm = confusion_matrix(y, y_pred)\n",
    "    sns.heatmap(cm, annot=True, fmt=\".0f\")\n",
    "    plt.xlabel('y_pred')\n",
    "    plt.ylabel('y')\n",
    "    plt.title('Accuracy Score: {0}'.format(acc), size=10)\n",
    "    plt.show()\n",
    "\n",
    "plot_confusion_matrix(y_test, model.predict(X_test_scaler))"
   ]
  },
  {
   "cell_type": "code",
   "execution_count": 98,
   "metadata": {
    "colab": {
     "base_uri": "https://localhost:8080/"
    },
    "executionInfo": {
     "elapsed": 278,
     "status": "ok",
     "timestamp": 1642690929218,
     "user": {
      "displayName": "Victor Oliveira",
      "photoUrl": "https://lh3.googleusercontent.com/a-/AOh14GjTZ4w2UG33yijW1Kl4wnWg1hiIQiXJDLUn1ur4Cg=s64",
      "userId": "05541081588649521770"
     },
     "user_tz": 180
    },
    "id": "VEv6atK0_m64",
    "outputId": "58ad72b3-555f-4bf5-b74e-221ae3898c39"
   },
   "outputs": [
    {
     "name": "stdout",
     "output_type": "stream",
     "text": [
      "score do conjunto de treinamento: 72.03%\n",
      "score do conjunto de validação: 72.47%\n",
      "score do conjunto de Teste: 72.75%\n",
      "número de iterações: [12]\n"
     ]
    }
   ],
   "source": [
    "from sklearn.linear_model import LogisticRegression\n",
    "# instanciando a função\n",
    "\n",
    "lamb = 1\n",
    "maxiter = 200               \n",
    "model = LogisticRegression(penalty = 'l2', C=1/lamb, max_iter = maxiter)\n",
    "\n",
    "# treinando\n",
    "model.fit(X_train_scaler, y_train)\n",
    "\n",
    "# from sklearn.metrics import mean_squared_error\n",
    "\n",
    "print(\n",
    "    'score do conjunto de treinamento: {:.2f}%'.format(\n",
    "        (model.score(X_train_scaler, y_train)*100))\n",
    ")\n",
    "\n",
    "print(\n",
    "    'score do conjunto de validação: {:.2f}%'.format(\n",
    "        (model.score(X_val_scaler, y_val)*100))\n",
    ")\n",
    "print(\n",
    "    'score do conjunto de Teste: {:.2f}%'.format(\n",
    "        model.score(X_test_scaler, y_test)*100)\n",
    "    )\n",
    "\n",
    "print(f'número de iterações: {model.n_iter_}')"
   ]
  },
  {
   "cell_type": "markdown",
   "metadata": {
    "id": "O6tK_XnCQ5dN"
   },
   "source": [
    "ANALISANDO AS FEATURES DE MAIOR CORRELAÇÃO NA FUNÇÃO DE DECISÃO"
   ]
  },
  {
   "cell_type": "code",
   "execution_count": 99,
   "metadata": {
    "colab": {
     "base_uri": "https://localhost:8080/",
     "height": 394
    },
    "executionInfo": {
     "elapsed": 307,
     "status": "ok",
     "timestamp": 1642690943350,
     "user": {
      "displayName": "Victor Oliveira",
      "photoUrl": "https://lh3.googleusercontent.com/a-/AOh14GjTZ4w2UG33yijW1Kl4wnWg1hiIQiXJDLUn1ur4Cg=s64",
      "userId": "05541081588649521770"
     },
     "user_tz": 180
    },
    "id": "LfTLS2r2Gg9k",
    "outputId": "022dbeb7-26ff-4ea9-c9fd-a51a7cbca4be"
   },
   "outputs": [
    {
     "data": {
      "text/html": [
       "<div>\n",
       "<style scoped>\n",
       "    .dataframe tbody tr th:only-of-type {\n",
       "        vertical-align: middle;\n",
       "    }\n",
       "\n",
       "    .dataframe tbody tr th {\n",
       "        vertical-align: top;\n",
       "    }\n",
       "\n",
       "    .dataframe thead th {\n",
       "        text-align: right;\n",
       "    }\n",
       "</style>\n",
       "<table border=\"1\" class=\"dataframe\">\n",
       "  <thead>\n",
       "    <tr style=\"text-align: right;\">\n",
       "      <th></th>\n",
       "      <th>features</th>\n",
       "      <th>correlation</th>\n",
       "    </tr>\n",
       "  </thead>\n",
       "  <tbody>\n",
       "    <tr>\n",
       "      <th>0</th>\n",
       "      <td>age</td>\n",
       "      <td>0.354166</td>\n",
       "    </tr>\n",
       "    <tr>\n",
       "      <th>1</th>\n",
       "      <td>gender</td>\n",
       "      <td>-0.012526</td>\n",
       "    </tr>\n",
       "    <tr>\n",
       "      <th>2</th>\n",
       "      <td>height</td>\n",
       "      <td>-0.028716</td>\n",
       "    </tr>\n",
       "    <tr>\n",
       "      <th>3</th>\n",
       "      <td>weight</td>\n",
       "      <td>0.137485</td>\n",
       "    </tr>\n",
       "    <tr>\n",
       "      <th>4</th>\n",
       "      <td>ap_hi</td>\n",
       "      <td>0.877655</td>\n",
       "    </tr>\n",
       "    <tr>\n",
       "      <th>5</th>\n",
       "      <td>ap_lo</td>\n",
       "      <td>0.088040</td>\n",
       "    </tr>\n",
       "    <tr>\n",
       "      <th>6</th>\n",
       "      <td>cholesterol</td>\n",
       "      <td>0.344639</td>\n",
       "    </tr>\n",
       "    <tr>\n",
       "      <th>7</th>\n",
       "      <td>gluc</td>\n",
       "      <td>-0.063689</td>\n",
       "    </tr>\n",
       "    <tr>\n",
       "      <th>8</th>\n",
       "      <td>smoke</td>\n",
       "      <td>-0.040480</td>\n",
       "    </tr>\n",
       "    <tr>\n",
       "      <th>9</th>\n",
       "      <td>alco</td>\n",
       "      <td>-0.056277</td>\n",
       "    </tr>\n",
       "    <tr>\n",
       "      <th>10</th>\n",
       "      <td>active</td>\n",
       "      <td>-0.095008</td>\n",
       "    </tr>\n",
       "  </tbody>\n",
       "</table>\n",
       "</div>"
      ],
      "text/plain": [
       "       features  correlation\n",
       "0           age     0.354166\n",
       "1        gender    -0.012526\n",
       "2        height    -0.028716\n",
       "3        weight     0.137485\n",
       "4         ap_hi     0.877655\n",
       "5         ap_lo     0.088040\n",
       "6   cholesterol     0.344639\n",
       "7          gluc    -0.063689\n",
       "8         smoke    -0.040480\n",
       "9          alco    -0.056277\n",
       "10       active    -0.095008"
      ]
     },
     "execution_count": 99,
     "metadata": {},
     "output_type": "execute_result"
    }
   ],
   "source": [
    "coeff_df = pd.DataFrame(\n",
    "    {'features': df.drop(columns=['id', 'cardio' ]).columns}\n",
    "    )\n",
    "coeff_df['correlation'] = pd.Series(model.coef_[0])\n",
    "coeff_df"
   ]
  },
  {
   "cell_type": "code",
   "execution_count": 100,
   "metadata": {
    "colab": {
     "base_uri": "https://localhost:8080/",
     "height": 515
    },
    "executionInfo": {
     "elapsed": 665,
     "status": "ok",
     "timestamp": 1642690947039,
     "user": {
      "displayName": "Victor Oliveira",
      "photoUrl": "https://lh3.googleusercontent.com/a-/AOh14GjTZ4w2UG33yijW1Kl4wnWg1hiIQiXJDLUn1ur4Cg=s64",
      "userId": "05541081588649521770"
     },
     "user_tz": 180
    },
    "id": "CLYuvHfkJVa5",
    "outputId": "954644a6-b856-441d-c2d8-909f4169a8ba"
   },
   "outputs": [
    {
     "data": {
      "text/plain": [
       "<AxesSubplot:xlabel='correlation', ylabel='features'>"
      ]
     },
     "execution_count": 100,
     "metadata": {},
     "output_type": "execute_result"
    },
    {
     "data": {
      "image/png": "[encoded data removed]",
      "text/plain": [
       "<Figure size 720x576 with 1 Axes>"
      ]
     },
     "metadata": {},
     "output_type": "display_data"
    }
   ],
   "source": [
    "plt.figure(figsize=(10,8))\n",
    "sns.barplot(data=coeff_df, y='features', x='correlation', palette='viridis')"
   ]
  },
  {
   "cell_type": "code",
   "execution_count": 101,
   "metadata": {
    "colab": {
     "base_uri": "https://localhost:8080/",
     "height": 174
    },
    "executionInfo": {
     "elapsed": 265,
     "status": "ok",
     "timestamp": 1642690968694,
     "user": {
      "displayName": "Victor Oliveira",
      "photoUrl": "https://lh3.googleusercontent.com/a-/AOh14GjTZ4w2UG33yijW1Kl4wnWg1hiIQiXJDLUn1ur4Cg=s64",
      "userId": "05541081588649521770"
     },
     "user_tz": 180
    },
    "id": "IM339MOWRyPv",
    "outputId": "bd000818-100c-4df8-cd76-02364b9085aa"
   },
   "outputs": [
    {
     "data": {
      "text/html": [
       "<div>\n",
       "<style scoped>\n",
       "    .dataframe tbody tr th:only-of-type {\n",
       "        vertical-align: middle;\n",
       "    }\n",
       "\n",
       "    .dataframe tbody tr th {\n",
       "        vertical-align: top;\n",
       "    }\n",
       "\n",
       "    .dataframe thead th {\n",
       "        text-align: right;\n",
       "    }\n",
       "</style>\n",
       "<table border=\"1\" class=\"dataframe\">\n",
       "  <thead>\n",
       "    <tr style=\"text-align: right;\">\n",
       "      <th></th>\n",
       "      <th>saudável</th>\n",
       "      <th>cardíaco</th>\n",
       "      <th>accuracy</th>\n",
       "      <th>macro avg</th>\n",
       "      <th>weighted avg</th>\n",
       "    </tr>\n",
       "  </thead>\n",
       "  <tbody>\n",
       "    <tr>\n",
       "      <th>precision</th>\n",
       "      <td>0.706759</td>\n",
       "      <td>0.754657</td>\n",
       "      <td>0.727487</td>\n",
       "      <td>0.730708</td>\n",
       "      <td>0.730369</td>\n",
       "    </tr>\n",
       "    <tr>\n",
       "      <th>recall</th>\n",
       "      <td>0.790617</td>\n",
       "      <td>0.662545</td>\n",
       "      <td>0.727487</td>\n",
       "      <td>0.726581</td>\n",
       "      <td>0.727487</td>\n",
       "    </tr>\n",
       "    <tr>\n",
       "      <th>f1-score</th>\n",
       "      <td>0.746340</td>\n",
       "      <td>0.705607</td>\n",
       "      <td>0.727487</td>\n",
       "      <td>0.725974</td>\n",
       "      <td>0.726262</td>\n",
       "    </tr>\n",
       "    <tr>\n",
       "      <th>support</th>\n",
       "      <td>5158.000000</td>\n",
       "      <td>5014.000000</td>\n",
       "      <td>0.727487</td>\n",
       "      <td>10172.000000</td>\n",
       "      <td>10172.000000</td>\n",
       "    </tr>\n",
       "  </tbody>\n",
       "</table>\n",
       "</div>"
      ],
      "text/plain": [
       "              saudável     cardíaco  accuracy     macro avg  weighted avg\n",
       "precision     0.706759     0.754657  0.727487      0.730708      0.730369\n",
       "recall        0.790617     0.662545  0.727487      0.726581      0.727487\n",
       "f1-score      0.746340     0.705607  0.727487      0.725974      0.726262\n",
       "support    5158.000000  5014.000000  0.727487  10172.000000  10172.000000"
      ]
     },
     "execution_count": 101,
     "metadata": {},
     "output_type": "execute_result"
    }
   ],
   "source": [
    "report = classification_report(y_test, model.predict(X_test_scaler), target_names=['saudável', 'cardíaco'], output_dict=True)\n",
    "pd.DataFrame(report)"
   ]
  },
  {
   "cell_type": "code",
   "execution_count": 102,
   "metadata": {
    "colab": {
     "base_uri": "https://localhost:8080/",
     "height": 294
    },
    "executionInfo": {
     "elapsed": 837,
     "status": "ok",
     "timestamp": 1642690991944,
     "user": {
      "displayName": "Victor Oliveira",
      "photoUrl": "https://lh3.googleusercontent.com/a-/AOh14GjTZ4w2UG33yijW1Kl4wnWg1hiIQiXJDLUn1ur4Cg=s64",
      "userId": "05541081588649521770"
     },
     "user_tz": 180
    },
    "id": "RaXaD7AzR04t",
    "outputId": "0e34aad9-06fa-462f-d0e8-1e12990d3acf",
    "scrolled": true
   },
   "outputs": [
    {
     "data": {
      "image/png": "[encoded data removed]",
      "text/plain": [
       "<Figure size 432x288 with 2 Axes>"
      ]
     },
     "metadata": {},
     "output_type": "display_data"
    }
   ],
   "source": [
    "from sklearn.metrics import accuracy_score, roc_auc_score, plot_roc_curve, confusion_matrix\n",
    "\n",
    "def pvlot_confusion_matrix(y, y_pred):\n",
    "    acc = round(accuracy_score(y, y_pred), 2)\n",
    "    cm = confusion_matrix(y, y_pred)\n",
    "    sns.heatmap(cm, annot=True, fmt=\".0f\")\n",
    "    plt.xlabel('y_pred')\n",
    "    plt.ylabel('y')\n",
    "    plt.title('Accuracy Score: {0}'.format(acc), size=10)\n",
    "    plt.show()\n",
    "\n",
    "plot_confusion_matrix(y_test, model.predict(X_test_scaler))"
   ]
  },
  {
   "cell_type": "markdown",
   "metadata": {},
   "source": [
    "### Aplicando atributos polinomiais"
   ]
  },
  {
   "cell_type": "code",
   "execution_count": 109,
   "metadata": {},
   "outputs": [
    {
     "data": {
      "application/vnd.jupyter.widget-view+json": {
       "model_id": "328bc8f5a5a74687a55692aa4415ce87",
       "version_major": 2,
       "version_minor": 0
      },
      "text/plain": [
       "interactive(children=(IntSlider(value=1, description='degree', max=3), IntSlider(value=1050, description='maxi…"
      ]
     },
     "metadata": {},
     "output_type": "display_data"
    }
   ],
   "source": [
    "from ipywidgets import interact\n",
    "from sklearn.preprocessing import PolynomialFeatures\n",
    "\n",
    "@interact(degree = (0,3,1), maxiter = (100,2000,1))\n",
    "def train(degree, maxiter):\n",
    "    global model\n",
    "    lamb = 1\n",
    "    poly = PolynomialFeatures(degree = degree)\n",
    "    model = make_pipeline(poly, LogisticRegression(C=1/lamb, max_iter = maxiter))\n",
    "    model.fit(X_train_scaler,y_train)    \n",
    "    #print(model)\n",
    "    print(\n",
    "    'score do conjunto de treinamento: {:.2f}%'.format(\n",
    "        (model.score(X_train_scaler, y_train)*100))\n",
    "    )\n",
    "\n",
    "    print(\n",
    "        'score do conjunto de validação: {:.2f}%'.format(\n",
    "            (model.score(X_val_scaler, y_val)*100))\n",
    "    )\n",
    "    print(\n",
    "        'score do conjunto de Teste: {:.2f}%'.format(\n",
    "            model.score(X_test_scaler, y_test)*100)\n",
    "        )"
   ]
  },
  {
   "cell_type": "code",
   "execution_count": 110,
   "metadata": {},
   "outputs": [
    {
     "data": {
      "text/html": [
       "<div>\n",
       "<style scoped>\n",
       "    .dataframe tbody tr th:only-of-type {\n",
       "        vertical-align: middle;\n",
       "    }\n",
       "\n",
       "    .dataframe tbody tr th {\n",
       "        vertical-align: top;\n",
       "    }\n",
       "\n",
       "    .dataframe thead th {\n",
       "        text-align: right;\n",
       "    }\n",
       "</style>\n",
       "<table border=\"1\" class=\"dataframe\">\n",
       "  <thead>\n",
       "    <tr style=\"text-align: right;\">\n",
       "      <th></th>\n",
       "      <th>saudável</th>\n",
       "      <th>cardíaco</th>\n",
       "      <th>accuracy</th>\n",
       "      <th>macro avg</th>\n",
       "      <th>weighted avg</th>\n",
       "    </tr>\n",
       "  </thead>\n",
       "  <tbody>\n",
       "    <tr>\n",
       "      <th>precision</th>\n",
       "      <td>0.725181</td>\n",
       "      <td>0.738658</td>\n",
       "      <td>0.731518</td>\n",
       "      <td>0.731919</td>\n",
       "      <td>0.731824</td>\n",
       "    </tr>\n",
       "    <tr>\n",
       "      <th>recall</th>\n",
       "      <td>0.757658</td>\n",
       "      <td>0.704627</td>\n",
       "      <td>0.731518</td>\n",
       "      <td>0.731143</td>\n",
       "      <td>0.731518</td>\n",
       "    </tr>\n",
       "    <tr>\n",
       "      <th>f1-score</th>\n",
       "      <td>0.741064</td>\n",
       "      <td>0.721241</td>\n",
       "      <td>0.731518</td>\n",
       "      <td>0.731153</td>\n",
       "      <td>0.731293</td>\n",
       "    </tr>\n",
       "    <tr>\n",
       "      <th>support</th>\n",
       "      <td>5158.000000</td>\n",
       "      <td>5014.000000</td>\n",
       "      <td>0.731518</td>\n",
       "      <td>10172.000000</td>\n",
       "      <td>10172.000000</td>\n",
       "    </tr>\n",
       "  </tbody>\n",
       "</table>\n",
       "</div>"
      ],
      "text/plain": [
       "              saudável     cardíaco  accuracy     macro avg  weighted avg\n",
       "precision     0.725181     0.738658  0.731518      0.731919      0.731824\n",
       "recall        0.757658     0.704627  0.731518      0.731143      0.731518\n",
       "f1-score      0.741064     0.721241  0.731518      0.731153      0.731293\n",
       "support    5158.000000  5014.000000  0.731518  10172.000000  10172.000000"
      ]
     },
     "execution_count": 110,
     "metadata": {},
     "output_type": "execute_result"
    }
   ],
   "source": [
    "report = classification_report(y_test, model.predict(X_test_scaler), target_names=['saudável', 'cardíaco'], output_dict=True)\n",
    "pd.DataFrame(report)"
   ]
  },
  {
   "cell_type": "markdown",
   "metadata": {},
   "source": [
    "recall aumentou de 0.66 para 0.7 - sem aplicar penalidade."
   ]
  },
  {
   "cell_type": "code",
   "execution_count": 112,
   "metadata": {},
   "outputs": [
    {
     "data": {
      "image/png": "[encoded data removed]",
      "text/plain": [
       "<Figure size 432x288 with 2 Axes>"
      ]
     },
     "metadata": {},
     "output_type": "display_data"
    }
   ],
   "source": [
    "plot_confusion_matrix(y_test, model.predict(X_test_scaler))"
   ]
  },
  {
   "cell_type": "markdown",
   "metadata": {
    "id": "hZrvI1_mRg5S"
   },
   "source": [
    "TREINANDO COM FEATURES QUE TENHAM CORRELAÇÃO > 0.3, VISANDO AUMENTAR O RECALL E REDUZIR A QUATIDADE DE FALSOS NEGATIVOS."
   ]
  },
  {
   "cell_type": "code",
   "execution_count": 115,
   "metadata": {
    "colab": {
     "base_uri": "https://localhost:8080/"
    },
    "executionInfo": {
     "elapsed": 266,
     "status": "ok",
     "timestamp": 1642691311129,
     "user": {
      "displayName": "Victor Oliveira",
      "photoUrl": "https://lh3.googleusercontent.com/a-/AOh14GjTZ4w2UG33yijW1Kl4wnWg1hiIQiXJDLUn1ur4Cg=s64",
      "userId": "05541081588649521770"
     },
     "user_tz": 180
    },
    "id": "FFk_cudOHhwv",
    "outputId": "d8cbd342-7666-4596-f0b3-a721fda40df8"
   },
   "outputs": [
    {
     "name": "stdout",
     "output_type": "stream",
     "text": [
      "(63572, 9)\n",
      "(63572,)\n",
      "X_train shape (40685, 9)\n",
      "y_train shape (40685,)\n",
      "X_val shape (12715, 9)\n",
      "y_val shape (12715,)\n",
      "X_test shape (10172, 9)\n",
      "y_test shape (10172,)\n",
      "score do conjunto de treinamento: 72.58%\n",
      "score do conjunto de validação: 72.72%\n",
      "score do conjunto de Teste: 73.23%\n"
     ]
    }
   ],
   "source": [
    "# X = df[coeff_df[coeff_df.correlation > 0.2].features.values]\n",
    "X = df.drop(columns = ['gluc','smoke', 'cardio', 'height'])\n",
    "\n",
    "y = df.cardio\n",
    "\n",
    "print(X.shape)\n",
    "print(y.shape)\n",
    "\n",
    "\n",
    "X_train, X_val, y_train, y_val = train_test_split(X, y, stratify=y, test_size=0.2, random_state=10)\n",
    "X_train, X_test, y_train, y_test = train_test_split(X_train, y_train, stratify=y_train, test_size=0.2, random_state=10)\n",
    "\n",
    "print('X_train shape {}'.format(X_train.shape))\n",
    "print('y_train shape {}'.format(y_train.shape))\n",
    "\n",
    "print('X_val shape {}'.format(X_val.shape))\n",
    "print('y_val shape {}'.format(y_val.shape))\n",
    "\n",
    "print('X_test shape {}'.format(X_test.shape))\n",
    "print('y_test shape {}'.format(y_test.shape))\n",
    "\n",
    "scaler = StandardScaler()\n",
    "scaler.fit(X_train)\n",
    "\n",
    "X_train_scaler = scaler.transform(X_train)\n",
    "X_val_scaler = scaler.transform(X_val)\n",
    "X_test_scaler = scaler.transform(X_test)\n",
    "\n",
    "# instanciando a função\n",
    "poly = PolynomialFeatures(degree = 2)\n",
    "model = make_pipeline(poly, LogisticRegression(C=1/lamb, max_iter = maxiter))\n",
    "\n",
    "# treinando\n",
    "model.fit(X_train_scaler, y_train)\n",
    "\n",
    "# from sklearn.metrics import mean_squared_error\n",
    "\n",
    "print(\n",
    "    'score do conjunto de treinamento: {:.2f}%'.format(\n",
    "        (model.score(X_train_scaler, y_train)*100))\n",
    ")\n",
    "\n",
    "print(\n",
    "    'score do conjunto de validação: {:.2f}%'.format(\n",
    "        (model.score(X_val_scaler, y_val)*100))\n",
    ")\n",
    "print(\n",
    "    'score do conjunto de Teste: {:.2f}%'.format(\n",
    "        model.score(X_test_scaler, y_test)*100)\n",
    "    )"
   ]
  },
  {
   "cell_type": "code",
   "execution_count": 116,
   "metadata": {
    "colab": {
     "base_uri": "https://localhost:8080/",
     "height": 342
    },
    "executionInfo": {
     "elapsed": 282,
     "status": "ok",
     "timestamp": 1642691319898,
     "user": {
      "displayName": "Victor Oliveira",
      "photoUrl": "https://lh3.googleusercontent.com/a-/AOh14GjTZ4w2UG33yijW1Kl4wnWg1hiIQiXJDLUn1ur4Cg=s64",
      "userId": "05541081588649521770"
     },
     "user_tz": 180
    },
    "id": "t8nVDbOFKpMi",
    "outputId": "c55112b2-a500-40c6-9876-b8cc9e335de5"
   },
   "outputs": [
    {
     "data": {
      "text/html": [
       "<div>\n",
       "<style scoped>\n",
       "    .dataframe tbody tr th:only-of-type {\n",
       "        vertical-align: middle;\n",
       "    }\n",
       "\n",
       "    .dataframe tbody tr th {\n",
       "        vertical-align: top;\n",
       "    }\n",
       "\n",
       "    .dataframe thead th {\n",
       "        text-align: right;\n",
       "    }\n",
       "</style>\n",
       "<table border=\"1\" class=\"dataframe\">\n",
       "  <thead>\n",
       "    <tr style=\"text-align: right;\">\n",
       "      <th></th>\n",
       "      <th>normal</th>\n",
       "      <th>saudável</th>\n",
       "      <th>accuracy</th>\n",
       "      <th>macro avg</th>\n",
       "      <th>weighted avg</th>\n",
       "    </tr>\n",
       "  </thead>\n",
       "  <tbody>\n",
       "    <tr>\n",
       "      <th>precision</th>\n",
       "      <td>0.726512</td>\n",
       "      <td>0.738795</td>\n",
       "      <td>0.732304</td>\n",
       "      <td>0.732653</td>\n",
       "      <td>0.732566</td>\n",
       "    </tr>\n",
       "    <tr>\n",
       "      <th>recall</th>\n",
       "      <td>0.757076</td>\n",
       "      <td>0.706821</td>\n",
       "      <td>0.732304</td>\n",
       "      <td>0.731949</td>\n",
       "      <td>0.732304</td>\n",
       "    </tr>\n",
       "    <tr>\n",
       "      <th>f1-score</th>\n",
       "      <td>0.741479</td>\n",
       "      <td>0.722454</td>\n",
       "      <td>0.732304</td>\n",
       "      <td>0.731967</td>\n",
       "      <td>0.732101</td>\n",
       "    </tr>\n",
       "    <tr>\n",
       "      <th>support</th>\n",
       "      <td>5158.000000</td>\n",
       "      <td>5014.000000</td>\n",
       "      <td>0.732304</td>\n",
       "      <td>10172.000000</td>\n",
       "      <td>10172.000000</td>\n",
       "    </tr>\n",
       "  </tbody>\n",
       "</table>\n",
       "</div>"
      ],
      "text/plain": [
       "                normal     saudável  accuracy     macro avg  weighted avg\n",
       "precision     0.726512     0.738795  0.732304      0.732653      0.732566\n",
       "recall        0.757076     0.706821  0.732304      0.731949      0.732304\n",
       "f1-score      0.741479     0.722454  0.732304      0.731967      0.732101\n",
       "support    5158.000000  5014.000000  0.732304  10172.000000  10172.000000"
      ]
     },
     "execution_count": 116,
     "metadata": {},
     "output_type": "execute_result"
    }
   ],
   "source": [
    "report = classification_report(y_test, model.predict(X_test_scaler), target_names=['normal', 'saudável'], output_dict=True)\n",
    "pd.DataFrame(report)"
   ]
  },
  {
   "cell_type": "code",
   "execution_count": 117,
   "metadata": {
    "colab": {
     "base_uri": "https://localhost:8080/",
     "height": 294
    },
    "executionInfo": {
     "elapsed": 824,
     "status": "ok",
     "timestamp": 1642691355368,
     "user": {
      "displayName": "Victor Oliveira",
      "photoUrl": "https://lh3.googleusercontent.com/a-/AOh14GjTZ4w2UG33yijW1Kl4wnWg1hiIQiXJDLUn1ur4Cg=s64",
      "userId": "05541081588649521770"
     },
     "user_tz": 180
    },
    "id": "xwcl75BRLm4c",
    "outputId": "9c262e05-11dd-489a-8743-41c8e03cd81e"
   },
   "outputs": [
    {
     "data": {
      "image/png": "[encoded data removed]",
      "text/plain": [
       "<Figure size 432x288 with 2 Axes>"
      ]
     },
     "metadata": {},
     "output_type": "display_data"
    }
   ],
   "source": [
    "from sklearn.metrics import accuracy_score, roc_auc_score, plot_roc_curve, confusion_matrix\n",
    "\n",
    "def plot_confusion_matrix(y, y_pred):\n",
    "    acc = round(accuracy_score(y, y_pred), 2)\n",
    "    cm = confusion_matrix(y, y_pred)\n",
    "    sns.heatmap(cm, annot=True, fmt=\".0f\")\n",
    "    plt.xlabel('y_pred')\n",
    "    plt.ylabel('y')\n",
    "    plt.title('Accuracy Score: {0}'.format(acc), size=10)\n",
    "    plt.show()\n",
    "\n",
    "plot_confusion_matrix(y_test, model.predict(X_test_scaler))"
   ]
  },
  {
   "cell_type": "code",
   "execution_count": 118,
   "metadata": {
    "colab": {
     "base_uri": "https://localhost:8080/",
     "height": 353
    },
    "executionInfo": {
     "elapsed": 629,
     "status": "ok",
     "timestamp": 1642691336101,
     "user": {
      "displayName": "Victor Oliveira",
      "photoUrl": "https://lh3.googleusercontent.com/a-/AOh14GjTZ4w2UG33yijW1Kl4wnWg1hiIQiXJDLUn1ur4Cg=s64",
      "userId": "05541081588649521770"
     },
     "user_tz": 180
    },
    "id": "QCa8epN5LwWf",
    "outputId": "eff86d3f-3495-444a-a148-eb132ecf53a2"
   },
   "outputs": [
    {
     "data": {
      "image/png": "[encoded data removed]",
      "text/plain": [
       "<Figure size 432x288 with 1 Axes>"
      ]
     },
     "metadata": {},
     "output_type": "display_data"
    }
   ],
   "source": [
    "ax = plot_roc_curve(model, X_test_scaler, y_test)\n",
    "plt.title('ROC Curve')\n",
    "plt.plot([0, 1], [0, 1], 'r--')\n",
    "plt.tight_layout()"
   ]
  },
  {
   "cell_type": "markdown",
   "metadata": {},
   "source": [
    "## grid search e ajuste dos hiperparâmetros"
   ]
  },
  {
   "cell_type": "markdown",
   "metadata": {},
   "source": [
    "## Linear SVC"
   ]
  },
  {
   "cell_type": "code",
   "execution_count": 122,
   "metadata": {},
   "outputs": [],
   "source": [
    "# continua..."
   ]
  }
 ],
 "metadata": {
  "colab": {
   "collapsed_sections": [],
   "name": "regressao_logistica.ipynb",
   "provenance": [],
   "toc_visible": true
  },
  "kernelspec": {
   "display_name": "Python 3",
   "language": "python",
   "name": "python3"
  },
  "language_info": {
   "codemirror_mode": {
    "name": "ipython",
    "version": 3
   },
   "file_extension": ".py",
   "mimetype": "text/x-python",
   "name": "python",
   "nbconvert_exporter": "python",
   "pygments_lexer": "ipython3",
   "version": "3.8.8"
  },
  "toc": {
   "base_numbering": 1,
   "nav_menu": {},
   "number_sections": true,
   "sideBar": true,
   "skip_h1_title": false,
   "title_cell": "Table of Contents",
   "title_sidebar": "Contents",
   "toc_cell": false,
   "toc_position": {},
   "toc_section_display": true,
   "toc_window_display": true
  }
 },
 "nbformat": 4,
 "nbformat_minor": 1
}
