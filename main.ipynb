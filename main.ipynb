{
 "cells": [
  {
   "cell_type": "markdown",
   "metadata": {
    "id": "0BJZINgGn5YY"
   },
   "source": [
    "# IMPORTANDO BIBLIOTECAS\n",
    "\n"
   ]
  },
  {
   "cell_type": "code",
   "execution_count": 101,
   "metadata": {
    "id": "ie2eDE0Qiwjm"
   },
   "outputs": [],
   "source": [
    "import pandas as pd\n",
    "import numpy as np\n",
    "\n",
    "# visualização de dados\n",
    "import matplotlib.pyplot as plt\n",
    "import seaborn as sns\n",
    "\n",
    "from sklearn.linear_model import LogisticRegression\n",
    "from sklearn.metrics import accuracy_score, roc_auc_score, plot_roc_curve, confusion_matrix\n",
    "from sklearn.model_selection import train_test_split\n",
    "from sklearn.preprocessing import MinMaxScaler\n",
    "\n",
    "import io\n",
    "\n",
    "sns.set_style('darkgrid')\n",
    "plt.rcParams.update({'font.size': 16})"
   ]
  },
  {
   "cell_type": "markdown",
   "metadata": {
    "id": "jfwGRjIN18vT"
   },
   "source": [
    "# FUNÇÕES"
   ]
  },
  {
   "cell_type": "markdown",
   "metadata": {
    "id": "-qMprvg_-CPF"
   },
   "source": [
    "## Visualização"
   ]
  },
  {
   "cell_type": "code",
   "execution_count": 2,
   "metadata": {},
   "outputs": [],
   "source": [
    "def boxplot(df, x: str, y: str, labels: list):\n",
    "    plt.figure(figsize=(12,6))\n",
    "    ax = sns.boxplot(x=x, y=y, data = df, orient='h')\n",
    "    ax.set_yticklabels(labels, size=16)\n",
    "    plt.tight_layout()\n",
    "    \n",
    "    return None"
   ]
  },
  {
   "cell_type": "code",
   "execution_count": 3,
   "metadata": {},
   "outputs": [],
   "source": [
    "def countplot(df, x: str, hue='cardio', labels=None):\n",
    "    # analisando histogramas de variáveis quantitativas\n",
    "    plt.figure(figsize=(15,6))\n",
    "    ax = sns.countplot(data=df, x=x, hue=hue, palette=\"GnBu_d\")\n",
    "    plt.legend(['saudável', 'cardíaco'])\n",
    "    \n",
    "    \n",
    "    if labels:\n",
    "        ax.set_xticklabels(labels, size=16)\n",
    "    \n",
    "    plt.tight_layout()\n",
    "    return None"
   ]
  },
  {
   "cell_type": "code",
   "execution_count": 4,
   "metadata": {},
   "outputs": [],
   "source": [
    "def plot_correlation(df):\n",
    "    corr = df.corr()\n",
    "    # Generate a mask for the upper triangle\n",
    "    mask = np.triu(np.ones_like(corr, dtype=bool))\n",
    "\n",
    "    # Set up the matplotlib figure\n",
    "    f, ax = plt.subplots(figsize=(11, 9))\n",
    "\n",
    "    # Draw the heatmap with the mask and correct aspect ratio\n",
    "    sns.heatmap(corr, mask=mask, cmap='Blues', vmax=.3, center=0,\n",
    "                square=True, linewidths=.5, cbar_kws={\"shrink\": .5})\n",
    "    return None"
   ]
  },
  {
   "cell_type": "markdown",
   "metadata": {},
   "source": [
    "## Dataframe Ops"
   ]
  },
  {
   "cell_type": "code",
   "execution_count": 5,
   "metadata": {},
   "outputs": [],
   "source": [
    "def drop_queries(df, col, lmin:int, lmax:int, inplace=True):\n",
    "    return (\n",
    "        df.drop(\n",
    "            df.query(f\"({col} > @lmax) | ({col} < @lmin)\")\n",
    "            .index,\n",
    "            inplace=inplace)\n",
    "    )\n",
    "\n",
    "def check_df(df):\n",
    "    assert all(df.isna().sum())  == 0, 'The dataframe contains NaN files'\n",
    "    assert df.duplicated().sum() == 0, 'The dataframe contains duplicates'\n",
    "    return None"
   ]
  },
  {
   "cell_type": "markdown",
   "metadata": {},
   "source": [
    "## Modelos"
   ]
  },
  {
   "cell_type": "code",
   "execution_count": 6,
   "metadata": {},
   "outputs": [],
   "source": [
    "def logistic_regression(\n",
    "    x_train, y_train,\n",
    "    hyperparameters: dict): \n",
    "    \n",
    "    model = LogisticRegression(**hyperparameters)\n",
    "    model.fit(x_train, y_train)   \n",
    "    return model"
   ]
  },
  {
   "cell_type": "markdown",
   "metadata": {},
   "source": [
    "### Split Datasets"
   ]
  },
  {
   "cell_type": "code",
   "execution_count": 136,
   "metadata": {},
   "outputs": [],
   "source": [
    "def split_datasets(X, y, test_size=0.2, stratify=True, scaler='standard'):\n",
    "    X =  X.to_numpy()\n",
    "    y =  y.to_numpy()\n",
    "    if stratify == True:\n",
    "        X_train, X_val, y_train, y_val = train_test_split(X, y, stratify=y, test_size=test_size, random_state=10)\n",
    "        X_train, X_test, y_train, y_test = train_test_split(X_train, y_train, stratify=y_train, test_size=0.2, random_state=10)\n",
    "        \n",
    "    elif stratify == False:\n",
    "        X_train, X_val, y_train, y_val = train_test_split(X, y, test_size=test_size, random_state=10)\n",
    "        X_train, X_test, y_train, y_test = train_test_split(X_train, y_train, test_size=0.2, random_state=10)\n",
    "      \n",
    "    if scaler == 'standard':\n",
    "        scaler_ = StandardScaler()\n",
    "        scaler_.fit(X_train)\n",
    "\n",
    "        X_train_scaler = scaler_.transform(X_train)\n",
    "        X_val_scaler = scaler_.transform(X_val)\n",
    "        X_test_scaler = scaler_.transform(X_test)\n",
    "        \n",
    "        print('X_train shape {}'.format(X_train_scaler.shape))\n",
    "        print('y_train shape {}'.format(y_train.shape))\n",
    "        print('X_val shape {}'.format(X_val_scaler.shape))\n",
    "        print('y_val shape {}'.format(y_val.shape))\n",
    "        print('X_test shape {}'.format(X_test_scaler.shape))\n",
    "        print('y_test shape {}'.format(y_test.shape))\n",
    "        return X_train_scaler, y_train, X_val_scaler, y_val, X_test_scaler, y_test\n",
    "    \n",
    "    elif scaler == 'minmax':\n",
    "        scaler_ = MinMaxScaler(feature_range = (0,1))\n",
    "        scaler_.fit(X_train)\n",
    "\n",
    "        X_train_scaler = scaler_.transform(X_train)\n",
    "        X_val_scaler = scaler_.transform(X_val)\n",
    "        X_test_scaler = scaler_.transform(X_test)\n",
    "\n",
    "        print('X_train shape {}'.format(X_train_scaler.shape))\n",
    "        print('y_train shape {}'.format(y_train.shape))\n",
    "        print('X_val shape {}'.format(X_val_scaler.shape))\n",
    "        print('y_val shape {}'.format(y_val.shape))\n",
    "        print('X_test shape {}'.format(X_test_scaler.shape))\n",
    "        print('y_test shape {}'.format(y_test.shape))\n",
    "        return X_train_scaler, y_train, X_val_scaler, y_val, X_test_scaler, y_test\n",
    "        \n",
    "    elif scaler == False:\n",
    "\n",
    "        print('X_train shape {}'.format(X_train.shape))\n",
    "        print('y_train shape {}'.format(y_train.shape))\n",
    "        print('X_val shape {}'.format(X_val.shape))\n",
    "        print('y_val shape {}'.format(y_val.shape))\n",
    "        print('X_test shape {}'.format(X_test.shape))\n",
    "        print('y_test shape {}'.format(y_test.shape))\n",
    "        return X_train, y_train, X_val, y_val, X_test, y_test\n"
   ]
  },
  {
   "cell_type": "markdown",
   "metadata": {},
   "source": [
    "### Avaliação"
   ]
  },
  {
   "cell_type": "code",
   "execution_count": 283,
   "metadata": {},
   "outputs": [],
   "source": [
    "def print_results(model, X_train, y_train, X_val, y_val, X_test, y_test, iterations=False):\n",
    "    print(' train acc: {:.2f}'.format((model.score(X_train, y_train) * 100)))\n",
    "    print('   val acc: {:.2f}'.format((model.score(X_val, y_val) * 100)))\n",
    "    print('  test acc: {:.2f}'.format((model.score(X_test, y_test) * 100)))\n",
    "    \n",
    "    if iterations==True:\n",
    "        print('iterations: ', model.n_iter_.item())\n",
    "    return None\n",
    "\n",
    "def plot_confusion_matrix(y, y_pred):\n",
    "    acc = round(accuracy_score(y, y_pred), 2)\n",
    "    cm = confusion_matrix(y, y_pred)\n",
    "    sns.heatmap(cm, annot=True, fmt=\".0f\")\n",
    "    plt.xlabel('y_pred')\n",
    "    plt.ylabel('y')\n",
    "    plt.title('Accuracy Score: {0}'.format(acc), size=10)\n",
    "    plt.show()\n",
    "    return None\n",
    "\n",
    "def clf_report(model, X, y):\n",
    "    report = classification_report(y,\n",
    "                                   model.predict(X),\n",
    "                                   target_names=['saudável', 'cardíaco'],\n",
    "                                   output_dict=True)\n",
    "\n",
    "    plot_confusion_matrix(y, model.predict(X))\n",
    "    \n",
    "    return pd.DataFrame(report)"
   ]
  },
  {
   "cell_type": "markdown",
   "metadata": {
    "id": "scSPDRJeRNqx"
   },
   "source": [
    "# EXTRAÇÃO"
   ]
  },
  {
   "cell_type": "markdown",
   "metadata": {
    "id": "CXy3KTX6n8fC"
   },
   "source": [
    "##  Dataframe"
   ]
  },
  {
   "cell_type": "code",
   "execution_count": 9,
   "metadata": {
    "id": "Gpd4_FfZxufG"
   },
   "outputs": [],
   "source": [
    "DATA_DIR = 'data/cardio.csv'"
   ]
  },
  {
   "cell_type": "code",
   "execution_count": 10,
   "metadata": {
    "colab": {
     "base_uri": "https://localhost:8080/",
     "height": 242
    },
    "executionInfo": {
     "elapsed": 1742,
     "status": "ok",
     "timestamp": 1642690603211,
     "user": {
      "displayName": "Victor Oliveira",
      "photoUrl": "https://lh3.googleusercontent.com/a-/AOh14GjTZ4w2UG33yijW1Kl4wnWg1hiIQiXJDLUn1ur4Cg=s64",
      "userId": "05541081588649521770"
     },
     "user_tz": 180
    },
    "id": "rNkEaqhr7Zst",
    "outputId": "a9f6d6b9-2bd7-4d20-ab4b-89669f2bc395"
   },
   "outputs": [
    {
     "name": "stdout",
     "output_type": "stream",
     "text": [
      "Linhas:  70000\n",
      "Colunas:  70000\n"
     ]
    },
    {
     "data": {
      "text/html": [
       "<div>\n",
       "<style scoped>\n",
       "    .dataframe tbody tr th:only-of-type {\n",
       "        vertical-align: middle;\n",
       "    }\n",
       "\n",
       "    .dataframe tbody tr th {\n",
       "        vertical-align: top;\n",
       "    }\n",
       "\n",
       "    .dataframe thead th {\n",
       "        text-align: right;\n",
       "    }\n",
       "</style>\n",
       "<table border=\"1\" class=\"dataframe\">\n",
       "  <thead>\n",
       "    <tr style=\"text-align: right;\">\n",
       "      <th></th>\n",
       "      <th>id</th>\n",
       "      <th>age</th>\n",
       "      <th>gender</th>\n",
       "      <th>height</th>\n",
       "      <th>weight</th>\n",
       "      <th>ap_hi</th>\n",
       "      <th>ap_lo</th>\n",
       "      <th>cholesterol</th>\n",
       "      <th>gluc</th>\n",
       "      <th>smoke</th>\n",
       "      <th>alco</th>\n",
       "      <th>active</th>\n",
       "      <th>cardio</th>\n",
       "    </tr>\n",
       "  </thead>\n",
       "  <tbody>\n",
       "    <tr>\n",
       "      <th>0</th>\n",
       "      <td>0</td>\n",
       "      <td>18393</td>\n",
       "      <td>2</td>\n",
       "      <td>168</td>\n",
       "      <td>62.0</td>\n",
       "      <td>110</td>\n",
       "      <td>80</td>\n",
       "      <td>1</td>\n",
       "      <td>1</td>\n",
       "      <td>0</td>\n",
       "      <td>0</td>\n",
       "      <td>1</td>\n",
       "      <td>0</td>\n",
       "    </tr>\n",
       "    <tr>\n",
       "      <th>1</th>\n",
       "      <td>1</td>\n",
       "      <td>20228</td>\n",
       "      <td>1</td>\n",
       "      <td>156</td>\n",
       "      <td>85.0</td>\n",
       "      <td>140</td>\n",
       "      <td>90</td>\n",
       "      <td>3</td>\n",
       "      <td>1</td>\n",
       "      <td>0</td>\n",
       "      <td>0</td>\n",
       "      <td>1</td>\n",
       "      <td>1</td>\n",
       "    </tr>\n",
       "    <tr>\n",
       "      <th>2</th>\n",
       "      <td>2</td>\n",
       "      <td>18857</td>\n",
       "      <td>1</td>\n",
       "      <td>165</td>\n",
       "      <td>64.0</td>\n",
       "      <td>130</td>\n",
       "      <td>70</td>\n",
       "      <td>3</td>\n",
       "      <td>1</td>\n",
       "      <td>0</td>\n",
       "      <td>0</td>\n",
       "      <td>0</td>\n",
       "      <td>1</td>\n",
       "    </tr>\n",
       "    <tr>\n",
       "      <th>3</th>\n",
       "      <td>3</td>\n",
       "      <td>17623</td>\n",
       "      <td>2</td>\n",
       "      <td>169</td>\n",
       "      <td>82.0</td>\n",
       "      <td>150</td>\n",
       "      <td>100</td>\n",
       "      <td>1</td>\n",
       "      <td>1</td>\n",
       "      <td>0</td>\n",
       "      <td>0</td>\n",
       "      <td>1</td>\n",
       "      <td>1</td>\n",
       "    </tr>\n",
       "    <tr>\n",
       "      <th>4</th>\n",
       "      <td>4</td>\n",
       "      <td>17474</td>\n",
       "      <td>1</td>\n",
       "      <td>156</td>\n",
       "      <td>56.0</td>\n",
       "      <td>100</td>\n",
       "      <td>60</td>\n",
       "      <td>1</td>\n",
       "      <td>1</td>\n",
       "      <td>0</td>\n",
       "      <td>0</td>\n",
       "      <td>0</td>\n",
       "      <td>0</td>\n",
       "    </tr>\n",
       "  </tbody>\n",
       "</table>\n",
       "</div>"
      ],
      "text/plain": [
       "   id    age  gender  height  weight  ap_hi  ap_lo  cholesterol  gluc  smoke  \\\n",
       "0   0  18393       2     168    62.0    110     80            1     1      0   \n",
       "1   1  20228       1     156    85.0    140     90            3     1      0   \n",
       "2   2  18857       1     165    64.0    130     70            3     1      0   \n",
       "3   3  17623       2     169    82.0    150    100            1     1      0   \n",
       "4   4  17474       1     156    56.0    100     60            1     1      0   \n",
       "\n",
       "   alco  active  cardio  \n",
       "0     0       1       0  \n",
       "1     0       1       1  \n",
       "2     0       0       1  \n",
       "3     0       1       1  \n",
       "4     0       0       0  "
      ]
     },
     "execution_count": 10,
     "metadata": {},
     "output_type": "execute_result"
    }
   ],
   "source": [
    "df = pd.read_csv(DATA_DIR, sep=';')\n",
    "\n",
    "print('Linhas: ', df.shape[0])\n",
    "print('Colunas: ', df.shape[0])\n",
    "\n",
    "df.head()"
   ]
  },
  {
   "cell_type": "markdown",
   "metadata": {
    "id": "Cc6rgUoIrLZk"
   },
   "source": [
    "Informações sobre cada coluna:\n",
    "\n",
    "Age | Objective Feature | age | int (days)\n",
    "\n",
    "Height | Objective Feature | height | int (cm) |\n",
    "\n",
    "Weight | Objective Feature | weight | float (kg) |\n",
    "\n",
    "Gender | Objective Feature | gender | categorical code |\n",
    "\n",
    "Systolic blood pressure | Examination Feature | ap_hi | int |\n",
    "\n",
    "Diastolic blood pressure | Examination Feature | ap_lo | int |\n",
    "\n",
    "Cholesterol | Examination Feature | cholesterol | 1: normal, 2: above normal, 3: well above normal |\n",
    "\n",
    "Glucose | Examination Feature | gluc | 1: normal, 2: above normal, 3: well above normal |\n",
    "\n",
    "Smoking | Subjective Feature | smoke | binary |\n",
    "\n",
    "Alcohol intake | Subjective Feature | alco | binary |\n",
    "\n",
    "Physical activity | Subjective Feature | active | binary |\n",
    "\n",
    "Presence or absence of cardiovascular disease | Target Variable | cardio | binary |\n",
    "\n",
    "cardio: [Positivo (1) / Negativo (0)]"
   ]
  },
  {
   "cell_type": "markdown",
   "metadata": {
    "id": "gi2UVl6f3ioR"
   },
   "source": [
    "# TRANSFORMAÇÃO"
   ]
  },
  {
   "cell_type": "markdown",
   "metadata": {
    "id": "FIy7dtV7SHkm"
   },
   "source": [
    "Analisando se há arquivos do tipo NaN ou duplicatas no dataframe.\n"
   ]
  },
  {
   "cell_type": "code",
   "execution_count": 11,
   "metadata": {
    "colab": {
     "base_uri": "https://localhost:8080/"
    },
    "executionInfo": {
     "elapsed": 93,
     "status": "ok",
     "timestamp": 1642690603216,
     "user": {
      "displayName": "Victor Oliveira",
      "photoUrl": "https://lh3.googleusercontent.com/a-/AOh14GjTZ4w2UG33yijW1Kl4wnWg1hiIQiXJDLUn1ur4Cg=s64",
      "userId": "05541081588649521770"
     },
     "user_tz": 180
    },
    "id": "eEdAX_A3UQep",
    "outputId": "43130588-dd8a-495a-ef77-a049e2c0606f"
   },
   "outputs": [],
   "source": [
    "check_df(df)"
   ]
  },
  {
   "cell_type": "markdown",
   "metadata": {
    "id": "oFyIum7xM798"
   },
   "source": [
    "alterando a idade para anos"
   ]
  },
  {
   "cell_type": "code",
   "execution_count": 12,
   "metadata": {
    "colab": {
     "base_uri": "https://localhost:8080/",
     "height": 423
    },
    "executionInfo": {
     "elapsed": 94,
     "status": "ok",
     "timestamp": 1642690603241,
     "user": {
      "displayName": "Victor Oliveira",
      "photoUrl": "https://lh3.googleusercontent.com/a-/AOh14GjTZ4w2UG33yijW1Kl4wnWg1hiIQiXJDLUn1ur4Cg=s64",
      "userId": "05541081588649521770"
     },
     "user_tz": 180
    },
    "id": "BZgrXgIgM-MO",
    "outputId": "4f688138-d1d7-4864-a297-21b4bfbcda27"
   },
   "outputs": [
    {
     "data": {
      "text/html": [
       "<div>\n",
       "<style scoped>\n",
       "    .dataframe tbody tr th:only-of-type {\n",
       "        vertical-align: middle;\n",
       "    }\n",
       "\n",
       "    .dataframe tbody tr th {\n",
       "        vertical-align: top;\n",
       "    }\n",
       "\n",
       "    .dataframe thead th {\n",
       "        text-align: right;\n",
       "    }\n",
       "</style>\n",
       "<table border=\"1\" class=\"dataframe\">\n",
       "  <thead>\n",
       "    <tr style=\"text-align: right;\">\n",
       "      <th></th>\n",
       "      <th>id</th>\n",
       "      <th>age</th>\n",
       "      <th>gender</th>\n",
       "      <th>height</th>\n",
       "      <th>weight</th>\n",
       "      <th>ap_hi</th>\n",
       "      <th>ap_lo</th>\n",
       "      <th>cholesterol</th>\n",
       "      <th>gluc</th>\n",
       "      <th>smoke</th>\n",
       "      <th>alco</th>\n",
       "      <th>active</th>\n",
       "      <th>cardio</th>\n",
       "    </tr>\n",
       "  </thead>\n",
       "  <tbody>\n",
       "    <tr>\n",
       "      <th>0</th>\n",
       "      <td>0</td>\n",
       "      <td>50</td>\n",
       "      <td>2</td>\n",
       "      <td>168</td>\n",
       "      <td>62.0</td>\n",
       "      <td>110</td>\n",
       "      <td>80</td>\n",
       "      <td>1</td>\n",
       "      <td>1</td>\n",
       "      <td>0</td>\n",
       "      <td>0</td>\n",
       "      <td>1</td>\n",
       "      <td>0</td>\n",
       "    </tr>\n",
       "    <tr>\n",
       "      <th>1</th>\n",
       "      <td>1</td>\n",
       "      <td>55</td>\n",
       "      <td>1</td>\n",
       "      <td>156</td>\n",
       "      <td>85.0</td>\n",
       "      <td>140</td>\n",
       "      <td>90</td>\n",
       "      <td>3</td>\n",
       "      <td>1</td>\n",
       "      <td>0</td>\n",
       "      <td>0</td>\n",
       "      <td>1</td>\n",
       "      <td>1</td>\n",
       "    </tr>\n",
       "  </tbody>\n",
       "</table>\n",
       "</div>"
      ],
      "text/plain": [
       "   id  age  gender  height  weight  ap_hi  ap_lo  cholesterol  gluc  smoke  \\\n",
       "0   0   50       2     168    62.0    110     80            1     1      0   \n",
       "1   1   55       1     156    85.0    140     90            3     1      0   \n",
       "\n",
       "   alco  active  cardio  \n",
       "0     0       1       0  \n",
       "1     0       1       1  "
      ]
     },
     "execution_count": 12,
     "metadata": {},
     "output_type": "execute_result"
    }
   ],
   "source": [
    "df['age'] = np.floor(df['age'] / 365).astype(int)\n",
    "df.head(2)"
   ]
  },
  {
   "cell_type": "markdown",
   "metadata": {
    "id": "rZ5dnHXGuOsv"
   },
   "source": [
    "## Análises Exploratória dos Dados"
   ]
  },
  {
   "cell_type": "markdown",
   "metadata": {
    "id": "RN-F6NTxOUtd"
   },
   "source": [
    "### Variáveis quantitativas"
   ]
  },
  {
   "cell_type": "markdown",
   "metadata": {
    "id": "GKQMHOYfQAAN"
   },
   "source": [
    "#### Relação entre idade e pacientes saudáveis e cardíacos"
   ]
  },
  {
   "cell_type": "code",
   "execution_count": 13,
   "metadata": {
    "colab": {
     "base_uri": "https://localhost:8080/",
     "height": 390
    },
    "executionInfo": {
     "elapsed": 1048,
     "status": "ok",
     "timestamp": 1642690604204,
     "user": {
      "displayName": "Victor Oliveira",
      "photoUrl": "https://lh3.googleusercontent.com/a-/AOh14GjTZ4w2UG33yijW1Kl4wnWg1hiIQiXJDLUn1ur4Cg=s64",
      "userId": "05541081588649521770"
     },
     "user_tz": 180
    },
    "id": "ChniEHDIPuHv",
    "outputId": "5476b53e-d8fe-44a7-e840-1de813a658b8",
    "scrolled": true
   },
   "outputs": [
    {
     "data": {
      "image/png": "[encoded data removed]",
      "text/plain": [
       "<Figure size 1080x432 with 1 Axes>"
      ]
     },
     "metadata": {},
     "output_type": "display_data"
    }
   ],
   "source": [
    "countplot(df, x='age')"
   ]
  },
  {
   "cell_type": "markdown",
   "metadata": {
    "id": "iSZR11DZQJ4D"
   },
   "source": [
    "✅ A partir dos 53 anos as pessoas já tendem a ter complicações. Aos 55 anos os pacientes cardíacos torna-se predominante."
   ]
  },
  {
   "cell_type": "markdown",
   "metadata": {
    "id": "x3EXkij1SDdo"
   },
   "source": [
    "Além de visualizarmos apenas a distribuição, vamos criar boxplots com as variáveis do dataframe. Dessa forma podemos ter uma melhor noção sobre os extremos, os quartis e a mediana de cada coluna do dataframe - com esses valores nós podemos identificar certos comportamentos anômalos nos dados, chamados de outliers."
   ]
  },
  {
   "cell_type": "code",
   "execution_count": 14,
   "metadata": {},
   "outputs": [
    {
     "data": {
      "image/png": "[encoded data removed]",
      "text/plain": [
       "<Figure size 864x432 with 1 Axes>"
      ]
     },
     "metadata": {},
     "output_type": "display_data"
    }
   ],
   "source": [
    "boxplot(df, x='age', y='cardio', labels=['saudável', 'cardíaco'])"
   ]
  },
  {
   "cell_type": "markdown",
   "metadata": {
    "id": "QggHOEWrRdxX"
   },
   "source": [
    "✅ A mediana para os cardíacos é aproximadamente 55 anos.\n",
    "\n",
    "✅ A tendência é que 75% dos pacientes cardíacos tenham idade acima de 50 anos."
   ]
  },
  {
   "cell_type": "markdown",
   "metadata": {
    "id": "UI1RaokzwQL2"
   },
   "source": [
    "#### Relação entre pressão sanguínea e pacientes saudáveis e cardíacos"
   ]
  },
  {
   "cell_type": "markdown",
   "metadata": {
    "id": "ucADZdmT5RFR"
   },
   "source": [
    "##### **PRESSÃO ALTA**"
   ]
  },
  {
   "cell_type": "code",
   "execution_count": 15,
   "metadata": {
    "colab": {
     "base_uri": "https://localhost:8080/",
     "height": 390
    },
    "executionInfo": {
     "elapsed": 351,
     "status": "ok",
     "timestamp": 1642690605042,
     "user": {
      "displayName": "Victor Oliveira",
      "photoUrl": "https://lh3.googleusercontent.com/a-/AOh14GjTZ4w2UG33yijW1Kl4wnWg1hiIQiXJDLUn1ur4Cg=s64",
      "userId": "05541081588649521770"
     },
     "user_tz": 180
    },
    "id": "jTqkVqxWSNHZ",
    "outputId": "fed48fbc-ade4-424f-e2db-9aa1d3c43b85"
   },
   "outputs": [
    {
     "data": {
      "image/png": "[encoded data removed]",
      "text/plain": [
       "<Figure size 864x432 with 1 Axes>"
      ]
     },
     "metadata": {},
     "output_type": "display_data"
    }
   ],
   "source": [
    "boxplot(df, x='ap_hi', y='cardio', labels=['saudável', 'cardíaco'])"
   ]
  },
  {
   "cell_type": "markdown",
   "metadata": {
    "id": "K1U0rh-gSrYm"
   },
   "source": [
    "❗ Encontramos outliers! Vamos considerar valores acima dos percentis de 95% e abaixo de 2% para valores de pressão sanguínea do conjunto de dados."
   ]
  },
  {
   "cell_type": "code",
   "execution_count": 16,
   "metadata": {
    "colab": {
     "base_uri": "https://localhost:8080/"
    },
    "executionInfo": {
     "elapsed": 19,
     "status": "ok",
     "timestamp": 1642690605044,
     "user": {
      "displayName": "Victor Oliveira",
      "photoUrl": "https://lh3.googleusercontent.com/a-/AOh14GjTZ4w2UG33yijW1Kl4wnWg1hiIQiXJDLUn1ur4Cg=s64",
      "userId": "05541081588649521770"
     },
     "user_tz": 180
    },
    "id": "3wVj_94q1XKC",
    "outputId": "67256bee-bca0-4016-ae9d-90212da80aa9"
   },
   "outputs": [
    {
     "name": "stdout",
     "output_type": "stream",
     "text": [
      "98% dos valores de ap_hi estão até o valor de 170.0\n",
      "2% dos valores de ap_hi estão até o valor de 100.0\n"
     ]
    }
   ],
   "source": [
    "print('98% dos valores de ap_hi estão até o valor de {}'.format(df.ap_hi.quantile(0.98)))\n",
    "print('2% dos valores de ap_hi estão até o valor de {}'.format(df.ap_hi.quantile(0.02)))"
   ]
  },
  {
   "cell_type": "code",
   "execution_count": 17,
   "metadata": {
    "colab": {
     "base_uri": "https://localhost:8080/",
     "height": 390
    },
    "executionInfo": {
     "elapsed": 360,
     "status": "ok",
     "timestamp": 1642690605394,
     "user": {
      "displayName": "Victor Oliveira",
      "photoUrl": "https://lh3.googleusercontent.com/a-/AOh14GjTZ4w2UG33yijW1Kl4wnWg1hiIQiXJDLUn1ur4Cg=s64",
      "userId": "05541081588649521770"
     },
     "user_tz": 180
    },
    "id": "V0_RdOXA3PFd",
    "outputId": "ae457ba5-770a-4ddb-a2ea-e9a3c0a60ab9"
   },
   "outputs": [
    {
     "data": {
      "image/png": "[encoded data removed]",
      "text/plain": [
       "<Figure size 864x432 with 1 Axes>"
      ]
     },
     "metadata": {},
     "output_type": "display_data"
    }
   ],
   "source": [
    "boxplot(df.query('(ap_hi >= 100) and (ap_hi <= 170)'), x='ap_hi', y='cardio', labels=['saudável', 'cardíaco'])"
   ]
  },
  {
   "cell_type": "markdown",
   "metadata": {
    "id": "LxOp1Hkd3LzR"
   },
   "source": [
    "Removendo esses dados do dataframe original"
   ]
  },
  {
   "cell_type": "code",
   "execution_count": 18,
   "metadata": {
    "colab": {
     "base_uri": "https://localhost:8080/"
    },
    "executionInfo": {
     "elapsed": 25,
     "status": "ok",
     "timestamp": 1642690605395,
     "user": {
      "displayName": "Victor Oliveira",
      "photoUrl": "https://lh3.googleusercontent.com/a-/AOh14GjTZ4w2UG33yijW1Kl4wnWg1hiIQiXJDLUn1ur4Cg=s64",
      "userId": "05541081588649521770"
     },
     "user_tz": 180
    },
    "id": "nN5OnuQn4uV6",
    "outputId": "f49a6b1f-dd14-453a-ba80-a642131d806d"
   },
   "outputs": [
    {
     "name": "stdout",
     "output_type": "stream",
     "text": [
      "shape antes de remover outliers:\n",
      "linhas: 70000\n",
      "colunas: 13\n"
     ]
    }
   ],
   "source": [
    "print('shape antes de remover outliers:')\n",
    "print('linhas:' ,df.shape[0])\n",
    "print('colunas:' ,df.shape[1])"
   ]
  },
  {
   "cell_type": "code",
   "execution_count": 19,
   "metadata": {
    "id": "RoGHp-W14I7Q"
   },
   "outputs": [],
   "source": [
    "# ap_hi maiores que 170 e menores que 100 serão eliminados do dataframe original\n",
    "drop_queries(df, col='ap_hi', lmin=100, lmax=170, inplace=True)"
   ]
  },
  {
   "cell_type": "code",
   "execution_count": 20,
   "metadata": {
    "colab": {
     "base_uri": "https://localhost:8080/"
    },
    "executionInfo": {
     "elapsed": 20,
     "status": "ok",
     "timestamp": 1642690605397,
     "user": {
      "displayName": "Victor Oliveira",
      "photoUrl": "https://lh3.googleusercontent.com/a-/AOh14GjTZ4w2UG33yijW1Kl4wnWg1hiIQiXJDLUn1ur4Cg=s64",
      "userId": "05541081588649521770"
     },
     "user_tz": 180
    },
    "id": "uroPUviM3-Gp",
    "outputId": "568b5792-b143-4789-b515-0d13d4883cc1"
   },
   "outputs": [
    {
     "name": "stdout",
     "output_type": "stream",
     "text": [
      "shape após remover outliers:\n",
      "linhas: 67536\n",
      "colunas: 13\n"
     ]
    }
   ],
   "source": [
    "print('shape após remover outliers:')\n",
    "print('linhas:' ,df.shape[0])\n",
    "print('colunas:' ,df.shape[1])"
   ]
  },
  {
   "cell_type": "markdown",
   "metadata": {},
   "source": [
    "**CONFERINDO O RESULTADO:**"
   ]
  },
  {
   "cell_type": "code",
   "execution_count": 21,
   "metadata": {
    "scrolled": false
   },
   "outputs": [
    {
     "data": {
      "image/png": "[encoded data removed]",
      "text/plain": [
       "<Figure size 864x432 with 1 Axes>"
      ]
     },
     "metadata": {},
     "output_type": "display_data"
    }
   ],
   "source": [
    "boxplot(df, x='ap_hi', y='cardio', labels=['saudável', 'cardíaco'])"
   ]
  },
  {
   "cell_type": "markdown",
   "metadata": {
    "id": "uM7lWO6m5Zdv"
   },
   "source": [
    "##### PRESSÃO BAIXA"
   ]
  },
  {
   "cell_type": "code",
   "execution_count": 22,
   "metadata": {
    "colab": {
     "base_uri": "https://localhost:8080/",
     "height": 390
    },
    "executionInfo": {
     "elapsed": 752,
     "status": "ok",
     "timestamp": 1642690606133,
     "user": {
      "displayName": "Victor Oliveira",
      "photoUrl": "https://lh3.googleusercontent.com/a-/AOh14GjTZ4w2UG33yijW1Kl4wnWg1hiIQiXJDLUn1ur4Cg=s64",
      "userId": "05541081588649521770"
     },
     "user_tz": 180
    },
    "id": "kPqQUlCm5NUr",
    "outputId": "5d7e5c89-7b5f-4782-f6d4-7921a63306ac"
   },
   "outputs": [
    {
     "data": {
      "image/png": "[encoded data removed]",
      "text/plain": [
       "<Figure size 864x432 with 1 Axes>"
      ]
     },
     "metadata": {},
     "output_type": "display_data"
    }
   ],
   "source": [
    "boxplot(df, x='ap_lo', y='cardio', labels=['saudável', 'cardíaco'])"
   ]
  },
  {
   "cell_type": "code",
   "execution_count": 23,
   "metadata": {
    "colab": {
     "base_uri": "https://localhost:8080/"
    },
    "executionInfo": {
     "elapsed": 14,
     "status": "ok",
     "timestamp": 1642690606134,
     "user": {
      "displayName": "Victor Oliveira",
      "photoUrl": "https://lh3.googleusercontent.com/a-/AOh14GjTZ4w2UG33yijW1Kl4wnWg1hiIQiXJDLUn1ur4Cg=s64",
      "userId": "05541081588649521770"
     },
     "user_tz": 180
    },
    "id": "kSWji4Pi5oRs",
    "outputId": "bc8062b0-b911-4469-b7b8-ae8716e171ca"
   },
   "outputs": [
    {
     "name": "stdout",
     "output_type": "stream",
     "text": [
      "98% dos valores de ap_lo estão até o valor de 100.0\n",
      "2% dos valores de ap_lo estão até o valor de 60.0\n"
     ]
    }
   ],
   "source": [
    "print('98% dos valores de ap_lo estão até o valor de {}'.format(df.ap_lo.quantile(0.98)))\n",
    "print('2% dos valores de ap_lo estão até o valor de {}'.format(df.ap_lo.quantile(0.02)))"
   ]
  },
  {
   "cell_type": "code",
   "execution_count": 24,
   "metadata": {
    "colab": {
     "base_uri": "https://localhost:8080/",
     "height": 390
    },
    "executionInfo": {
     "elapsed": 553,
     "status": "ok",
     "timestamp": 1642690606681,
     "user": {
      "displayName": "Victor Oliveira",
      "photoUrl": "https://lh3.googleusercontent.com/a-/AOh14GjTZ4w2UG33yijW1Kl4wnWg1hiIQiXJDLUn1ur4Cg=s64",
      "userId": "05541081588649521770"
     },
     "user_tz": 180
    },
    "id": "QvrAk9RY5wC7",
    "outputId": "ba5ca5cb-eecf-4a86-ab33-9466b9bb6eda"
   },
   "outputs": [
    {
     "data": {
      "image/png": "[encoded data removed]",
      "text/plain": [
       "<Figure size 864x432 with 1 Axes>"
      ]
     },
     "metadata": {},
     "output_type": "display_data"
    }
   ],
   "source": [
    "boxplot(df.query('(ap_lo >= 60) and (ap_lo <= 100)'), x='ap_lo', y='cardio', labels=['saudável', 'cardíaco'])"
   ]
  },
  {
   "cell_type": "code",
   "execution_count": 25,
   "metadata": {
    "colab": {
     "base_uri": "https://localhost:8080/"
    },
    "executionInfo": {
     "elapsed": 30,
     "status": "ok",
     "timestamp": 1642690606683,
     "user": {
      "displayName": "Victor Oliveira",
      "photoUrl": "https://lh3.googleusercontent.com/a-/AOh14GjTZ4w2UG33yijW1Kl4wnWg1hiIQiXJDLUn1ur4Cg=s64",
      "userId": "05541081588649521770"
     },
     "user_tz": 180
    },
    "id": "I1qlsonO5oYf",
    "outputId": "d20f55ec-6eb8-4c8e-9dd9-080c42da7841"
   },
   "outputs": [
    {
     "name": "stdout",
     "output_type": "stream",
     "text": [
      "shape antes de remover outliers:\n",
      "linhas: 67536\n",
      "colunas: 13\n"
     ]
    }
   ],
   "source": [
    "print('shape antes de remover outliers:')\n",
    "print('linhas:' ,df.shape[0])\n",
    "print('colunas:' ,df.shape[1])"
   ]
  },
  {
   "cell_type": "code",
   "execution_count": 26,
   "metadata": {
    "id": "u_ed_Vhl5obv"
   },
   "outputs": [],
   "source": [
    "drop_queries(df, col='ap_lo', lmin=60, lmax=100, inplace=True)"
   ]
  },
  {
   "cell_type": "code",
   "execution_count": 27,
   "metadata": {
    "colab": {
     "base_uri": "https://localhost:8080/"
    },
    "executionInfo": {
     "elapsed": 25,
     "status": "ok",
     "timestamp": 1642690606685,
     "user": {
      "displayName": "Victor Oliveira",
      "photoUrl": "https://lh3.googleusercontent.com/a-/AOh14GjTZ4w2UG33yijW1Kl4wnWg1hiIQiXJDLUn1ur4Cg=s64",
      "userId": "05541081588649521770"
     },
     "user_tz": 180
    },
    "id": "C66N5vDi5ofN",
    "outputId": "c7158f90-6edc-4003-fd6e-8f78505ab5c1"
   },
   "outputs": [
    {
     "name": "stdout",
     "output_type": "stream",
     "text": [
      "shape após remover outliers:\n",
      "linhas: 66193\n",
      "colunas: 13\n"
     ]
    }
   ],
   "source": [
    "print('shape após remover outliers:')\n",
    "print('linhas:' ,df.shape[0])\n",
    "print('colunas:' ,df.shape[1])"
   ]
  },
  {
   "cell_type": "markdown",
   "metadata": {},
   "source": [
    "**CONFERINDO O RESULTADO:**"
   ]
  },
  {
   "cell_type": "code",
   "execution_count": 28,
   "metadata": {},
   "outputs": [
    {
     "data": {
      "image/png": "[encoded data removed]",
      "text/plain": [
       "<Figure size 864x432 with 1 Axes>"
      ]
     },
     "metadata": {},
     "output_type": "display_data"
    }
   ],
   "source": [
    "boxplot(df, x='ap_lo', y='cardio', labels=['saudável', 'cardíaco'])"
   ]
  },
  {
   "cell_type": "markdown",
   "metadata": {
    "id": "Ka5aK2eU7cJU"
   },
   "source": [
    "❕ questões extra que podem influênciar no desempenho do modelo em caso de ser colocado em produção:\n",
    "\n",
    "1. Não temos informações sobre os medicamentos que os pacientes estão utilizando. Pode haver medicamentos que causam aumento ou redução da pressão.\n",
    "\n",
    "2. Problema cardíaco mais grave pode apresentar uma pressão mais baixa."
   ]
  },
  {
   "cell_type": "code",
   "execution_count": 29,
   "metadata": {
    "colab": {
     "base_uri": "https://localhost:8080/",
     "height": 390
    },
    "executionInfo": {
     "elapsed": 1503,
     "status": "ok",
     "timestamp": 1642690608169,
     "user": {
      "displayName": "Victor Oliveira",
      "photoUrl": "https://lh3.googleusercontent.com/a-/AOh14GjTZ4w2UG33yijW1Kl4wnWg1hiIQiXJDLUn1ur4Cg=s64",
      "userId": "05541081588649521770"
     },
     "user_tz": 180
    },
    "id": "xvH1Wfu59L70",
    "outputId": "8aef151d-8bea-4487-d7e8-d88d7923de6e"
   },
   "outputs": [
    {
     "data": {
      "image/png": "[encoded data removed]",
      "text/plain": [
       "<Figure size 864x432 with 1 Axes>"
      ]
     },
     "metadata": {},
     "output_type": "display_data"
    }
   ],
   "source": [
    "boxplot(df, x='weight', y='cardio', labels=['saudável', 'cardíaco'])"
   ]
  },
  {
   "cell_type": "code",
   "execution_count": 30,
   "metadata": {},
   "outputs": [
    {
     "data": {
      "text/plain": [
       "29"
      ]
     },
     "execution_count": 30,
     "metadata": {},
     "output_type": "execute_result"
    }
   ],
   "source": [
    "# idade mínima do dataset\n",
    "df.age.min()"
   ]
  },
  {
   "cell_type": "markdown",
   "metadata": {
    "id": "fHQ-uHMuCBI6"
   },
   "source": [
    "Percebe-se que há outliers. Podemos perceber que temos pesos com valores muito elevados e muito baixos - algo muito raro para a idade mínima da distribuição do conjunto de dados. Vamos seguir a mesma técnica que utlizamos anteriormente e remover essas outliers. Dessa vez, vamos considerar até 99.5% do valor de peso máximo e 1% para peso mínimo."
   ]
  },
  {
   "cell_type": "code",
   "execution_count": 31,
   "metadata": {
    "colab": {
     "base_uri": "https://localhost:8080/"
    },
    "executionInfo": {
     "elapsed": 19,
     "status": "ok",
     "timestamp": 1642690608760,
     "user": {
      "displayName": "Victor Oliveira",
      "photoUrl": "https://lh3.googleusercontent.com/a-/AOh14GjTZ4w2UG33yijW1Kl4wnWg1hiIQiXJDLUn1ur4Cg=s64",
      "userId": "05541081588649521770"
     },
     "user_tz": 180
    },
    "id": "YAFADyxZB71k",
    "outputId": "0a63907c-a59b-454a-b8d7-20cad0502b69"
   },
   "outputs": [
    {
     "name": "stdout",
     "output_type": "stream",
     "text": [
      "99.5% dos valores de weight estão até o valor de 124.0\n",
      "0.5% dos valores de weight estão até o valor de 45.0\n"
     ]
    }
   ],
   "source": [
    "print('99.5% dos valores de weight estão até o valor de {}'.format(df.weight.quantile(0.995)))\n",
    "print('0.5% dos valores de weight estão até o valor de {}'.format(df.weight.quantile(0.005)))"
   ]
  },
  {
   "cell_type": "code",
   "execution_count": 32,
   "metadata": {
    "colab": {
     "base_uri": "https://localhost:8080/",
     "height": 390
    },
    "executionInfo": {
     "elapsed": 627,
     "status": "ok",
     "timestamp": 1642690609373,
     "user": {
      "displayName": "Victor Oliveira",
      "photoUrl": "https://lh3.googleusercontent.com/a-/AOh14GjTZ4w2UG33yijW1Kl4wnWg1hiIQiXJDLUn1ur4Cg=s64",
      "userId": "05541081588649521770"
     },
     "user_tz": 180
    },
    "id": "C7gdLv1RCyJG",
    "outputId": "d77a3402-057e-41b4-f48a-c3b99c44ba99"
   },
   "outputs": [
    {
     "data": {
      "image/png": "[encoded data removed]",
      "text/plain": [
       "<Figure size 864x432 with 1 Axes>"
      ]
     },
     "metadata": {},
     "output_type": "display_data"
    }
   ],
   "source": [
    "boxplot(df.query('(weight >= 45) and (weight <= 124)'), x='weight', y='cardio', labels=['saudável', 'cardíaco'])"
   ]
  },
  {
   "cell_type": "code",
   "execution_count": 33,
   "metadata": {
    "colab": {
     "base_uri": "https://localhost:8080/"
    },
    "executionInfo": {
     "elapsed": 39,
     "status": "ok",
     "timestamp": 1642690609374,
     "user": {
      "displayName": "Victor Oliveira",
      "photoUrl": "https://lh3.googleusercontent.com/a-/AOh14GjTZ4w2UG33yijW1Kl4wnWg1hiIQiXJDLUn1ur4Cg=s64",
      "userId": "05541081588649521770"
     },
     "user_tz": 180
    },
    "id": "7GDPF3EzDn6P",
    "outputId": "88f7653f-99ef-4768-b1a3-b014ab14de87"
   },
   "outputs": [
    {
     "name": "stdout",
     "output_type": "stream",
     "text": [
      "shape antes de remover outliers:\n",
      "linhas: 66193\n",
      "colunas: 13\n"
     ]
    }
   ],
   "source": [
    "print('shape antes de remover outliers:')\n",
    "print('linhas:' ,df.shape[0])\n",
    "print('colunas:' ,df.shape[1])"
   ]
  },
  {
   "cell_type": "code",
   "execution_count": 34,
   "metadata": {
    "id": "Yx2cZiHBDox7"
   },
   "outputs": [],
   "source": [
    "# ap_lo maiores que 124 e menores que 45 serão eliminados do dataframe original\n",
    "drop_queries(df, col='weight', lmin=45, lmax=124, inplace=True)"
   ]
  },
  {
   "cell_type": "code",
   "execution_count": 35,
   "metadata": {
    "colab": {
     "base_uri": "https://localhost:8080/"
    },
    "executionInfo": {
     "elapsed": 38,
     "status": "ok",
     "timestamp": 1642690609380,
     "user": {
      "displayName": "Victor Oliveira",
      "photoUrl": "https://lh3.googleusercontent.com/a-/AOh14GjTZ4w2UG33yijW1Kl4wnWg1hiIQiXJDLUn1ur4Cg=s64",
      "userId": "05541081588649521770"
     },
     "user_tz": 180
    },
    "id": "9CUlsv18Do9R",
    "outputId": "f28372d0-dc81-47c3-d222-f1c19d2094cc"
   },
   "outputs": [
    {
     "name": "stdout",
     "output_type": "stream",
     "text": [
      "shape após remover outliers:\n",
      "linhas: 65624\n",
      "colunas: 13\n"
     ]
    }
   ],
   "source": [
    "print('shape após remover outliers:')\n",
    "print('linhas:' ,df.shape[0])\n",
    "print('colunas:' ,df.shape[1])"
   ]
  },
  {
   "cell_type": "markdown",
   "metadata": {
    "id": "lPMoIt5lxo1F"
   },
   "source": [
    "### Variáveis qualitativas"
   ]
  },
  {
   "cell_type": "markdown",
   "metadata": {
    "id": "yoOCo11D0xwI"
   },
   "source": [
    "#### Relação entre colesterol e pacientes saudáveis e cardíacos."
   ]
  },
  {
   "cell_type": "markdown",
   "metadata": {
    "id": "aTfY7lDX6mPj"
   },
   "source": [
    "1: normal, 2: acima do normal, 3: bem acima do normal"
   ]
  },
  {
   "cell_type": "code",
   "execution_count": 36,
   "metadata": {
    "colab": {
     "base_uri": "https://localhost:8080/",
     "height": 390
    },
    "executionInfo": {
     "elapsed": 35,
     "status": "ok",
     "timestamp": 1642690609382,
     "user": {
      "displayName": "Victor Oliveira",
      "photoUrl": "https://lh3.googleusercontent.com/a-/AOh14GjTZ4w2UG33yijW1Kl4wnWg1hiIQiXJDLUn1ur4Cg=s64",
      "userId": "05541081588649521770"
     },
     "user_tz": 180
    },
    "id": "C3UlcxBu0tYl",
    "outputId": "871d50c2-e54e-4d3b-eab8-9b2585bbc1fc"
   },
   "outputs": [
    {
     "data": {
      "image/png": "[encoded data removed]",
      "text/plain": [
       "<Figure size 1080x432 with 1 Axes>"
      ]
     },
     "metadata": {},
     "output_type": "display_data"
    }
   ],
   "source": [
    "countplot(df, x='cholesterol', labels=['normal', 'acima do normal', 'bem acima do normal'])"
   ]
  },
  {
   "cell_type": "markdown",
   "metadata": {
    "id": "lxekQHYu66S3"
   },
   "source": [
    "✅ Pessoas com colesterol acima do normal tendem a apresentar problemas cardíacos."
   ]
  },
  {
   "cell_type": "markdown",
   "metadata": {
    "id": "KB0ZAVBuzHNA"
   },
   "source": [
    "#### Relação entre a idade média das pessoas e o índice de colesterol\n"
   ]
  },
  {
   "cell_type": "code",
   "execution_count": 37,
   "metadata": {
    "colab": {
     "base_uri": "https://localhost:8080/",
     "height": 206
    },
    "executionInfo": {
     "elapsed": 35,
     "status": "ok",
     "timestamp": 1642690609702,
     "user": {
      "displayName": "Victor Oliveira",
      "photoUrl": "https://lh3.googleusercontent.com/a-/AOh14GjTZ4w2UG33yijW1Kl4wnWg1hiIQiXJDLUn1ur4Cg=s64",
      "userId": "05541081588649521770"
     },
     "user_tz": 180
    },
    "id": "VcNiOob0ysFo",
    "outputId": "7d62393b-343c-4576-e87b-85a75de08762"
   },
   "outputs": [
    {
     "data": {
      "text/html": [
       "<div>\n",
       "<style scoped>\n",
       "    .dataframe tbody tr th:only-of-type {\n",
       "        vertical-align: middle;\n",
       "    }\n",
       "\n",
       "    .dataframe tbody tr th {\n",
       "        vertical-align: top;\n",
       "    }\n",
       "\n",
       "    .dataframe thead tr th {\n",
       "        text-align: left;\n",
       "    }\n",
       "\n",
       "    .dataframe thead tr:last-of-type th {\n",
       "        text-align: right;\n",
       "    }\n",
       "</style>\n",
       "<table border=\"1\" class=\"dataframe\">\n",
       "  <thead>\n",
       "    <tr>\n",
       "      <th></th>\n",
       "      <th colspan=\"4\" halign=\"left\">age</th>\n",
       "    </tr>\n",
       "    <tr>\n",
       "      <th></th>\n",
       "      <th>mean</th>\n",
       "      <th>median</th>\n",
       "      <th>min</th>\n",
       "      <th>max</th>\n",
       "    </tr>\n",
       "    <tr>\n",
       "      <th>cholesterol</th>\n",
       "      <th></th>\n",
       "      <th></th>\n",
       "      <th></th>\n",
       "      <th></th>\n",
       "    </tr>\n",
       "  </thead>\n",
       "  <tbody>\n",
       "    <tr>\n",
       "      <th>1</th>\n",
       "      <td>52.368376</td>\n",
       "      <td>53</td>\n",
       "      <td>29</td>\n",
       "      <td>64</td>\n",
       "    </tr>\n",
       "    <tr>\n",
       "      <th>2</th>\n",
       "      <td>53.219224</td>\n",
       "      <td>54</td>\n",
       "      <td>39</td>\n",
       "      <td>64</td>\n",
       "    </tr>\n",
       "    <tr>\n",
       "      <th>3</th>\n",
       "      <td>55.736884</td>\n",
       "      <td>57</td>\n",
       "      <td>39</td>\n",
       "      <td>64</td>\n",
       "    </tr>\n",
       "  </tbody>\n",
       "</table>\n",
       "</div>"
      ],
      "text/plain": [
       "                   age               \n",
       "                  mean median min max\n",
       "cholesterol                          \n",
       "1            52.368376     53  29  64\n",
       "2            53.219224     54  39  64\n",
       "3            55.736884     57  39  64"
      ]
     },
     "execution_count": 37,
     "metadata": {},
     "output_type": "execute_result"
    }
   ],
   "source": [
    "# 2. Analisando a média, mediana, valores mínimo e máximo de de idade utilizando group by e agg.\n",
    "df[['cholesterol', 'age']].groupby('cholesterol').agg(['mean', 'median','min','max'])"
   ]
  },
  {
   "cell_type": "markdown",
   "metadata": {
    "id": "9KX_Ts2jzSgk"
   },
   "source": [
    "A idade média é próxima para ambos os três níveis de colesterol propostos no dataset, entretando temos uma pequena diferença nos valores mínimos de idade. Isso quer dizer que, para esses pacientes, a idade começa a influenciar nos níveis de colesterol à partir de 29 anos.\n",
    "\n",
    "Quais são os níveis de colesterol de pacientes menores que 39 anos?"
   ]
  },
  {
   "cell_type": "code",
   "execution_count": 38,
   "metadata": {
    "colab": {
     "base_uri": "https://localhost:8080/",
     "height": 174
    },
    "executionInfo": {
     "elapsed": 35,
     "status": "ok",
     "timestamp": 1642690609704,
     "user": {
      "displayName": "Victor Oliveira",
      "photoUrl": "https://lh3.googleusercontent.com/a-/AOh14GjTZ4w2UG33yijW1Kl4wnWg1hiIQiXJDLUn1ur4Cg=s64",
      "userId": "05541081588649521770"
     },
     "user_tz": 180
    },
    "id": "d4ipp9EU2aQ-",
    "outputId": "17dd3093-8163-4d32-b7e7-7d5770fb4d78"
   },
   "outputs": [
    {
     "data": {
      "text/html": [
       "<div>\n",
       "<style scoped>\n",
       "    .dataframe tbody tr th:only-of-type {\n",
       "        vertical-align: middle;\n",
       "    }\n",
       "\n",
       "    .dataframe tbody tr th {\n",
       "        vertical-align: top;\n",
       "    }\n",
       "\n",
       "    .dataframe thead th {\n",
       "        text-align: right;\n",
       "    }\n",
       "</style>\n",
       "<table border=\"1\" class=\"dataframe\">\n",
       "  <thead>\n",
       "    <tr style=\"text-align: right;\">\n",
       "      <th></th>\n",
       "      <th>id</th>\n",
       "      <th>age</th>\n",
       "      <th>gender</th>\n",
       "      <th>height</th>\n",
       "      <th>weight</th>\n",
       "      <th>ap_hi</th>\n",
       "      <th>ap_lo</th>\n",
       "      <th>cholesterol</th>\n",
       "      <th>gluc</th>\n",
       "      <th>smoke</th>\n",
       "      <th>alco</th>\n",
       "      <th>active</th>\n",
       "      <th>cardio</th>\n",
       "    </tr>\n",
       "  </thead>\n",
       "  <tbody>\n",
       "    <tr>\n",
       "      <th>6219</th>\n",
       "      <td>8850</td>\n",
       "      <td>29</td>\n",
       "      <td>1</td>\n",
       "      <td>175</td>\n",
       "      <td>59.0</td>\n",
       "      <td>120</td>\n",
       "      <td>80</td>\n",
       "      <td>1</td>\n",
       "      <td>1</td>\n",
       "      <td>0</td>\n",
       "      <td>0</td>\n",
       "      <td>1</td>\n",
       "      <td>0</td>\n",
       "    </tr>\n",
       "    <tr>\n",
       "      <th>22343</th>\n",
       "      <td>31922</td>\n",
       "      <td>29</td>\n",
       "      <td>2</td>\n",
       "      <td>175</td>\n",
       "      <td>92.0</td>\n",
       "      <td>100</td>\n",
       "      <td>60</td>\n",
       "      <td>1</td>\n",
       "      <td>1</td>\n",
       "      <td>0</td>\n",
       "      <td>0</td>\n",
       "      <td>1</td>\n",
       "      <td>0</td>\n",
       "    </tr>\n",
       "    <tr>\n",
       "      <th>30666</th>\n",
       "      <td>43842</td>\n",
       "      <td>29</td>\n",
       "      <td>1</td>\n",
       "      <td>159</td>\n",
       "      <td>59.0</td>\n",
       "      <td>120</td>\n",
       "      <td>80</td>\n",
       "      <td>1</td>\n",
       "      <td>1</td>\n",
       "      <td>0</td>\n",
       "      <td>0</td>\n",
       "      <td>1</td>\n",
       "      <td>0</td>\n",
       "    </tr>\n",
       "    <tr>\n",
       "      <th>55905</th>\n",
       "      <td>79749</td>\n",
       "      <td>30</td>\n",
       "      <td>1</td>\n",
       "      <td>160</td>\n",
       "      <td>59.0</td>\n",
       "      <td>110</td>\n",
       "      <td>70</td>\n",
       "      <td>1</td>\n",
       "      <td>1</td>\n",
       "      <td>0</td>\n",
       "      <td>0</td>\n",
       "      <td>1</td>\n",
       "      <td>0</td>\n",
       "    </tr>\n",
       "  </tbody>\n",
       "</table>\n",
       "</div>"
      ],
      "text/plain": [
       "          id  age  gender  height  weight  ap_hi  ap_lo  cholesterol  gluc  \\\n",
       "6219    8850   29       1     175    59.0    120     80            1     1   \n",
       "22343  31922   29       2     175    92.0    100     60            1     1   \n",
       "30666  43842   29       1     159    59.0    120     80            1     1   \n",
       "55905  79749   30       1     160    59.0    110     70            1     1   \n",
       "\n",
       "       smoke  alco  active  cardio  \n",
       "6219       0     0       1       0  \n",
       "22343      0     0       1       0  \n",
       "30666      0     0       1       0  \n",
       "55905      0     0       1       0  "
      ]
     },
     "execution_count": 38,
     "metadata": {},
     "output_type": "execute_result"
    }
   ],
   "source": [
    "df.query('age < 39')"
   ]
  },
  {
   "cell_type": "markdown",
   "metadata": {
    "id": "NfIG1wEO21JW"
   },
   "source": [
    "Percebemos que nao há muitos pacientes, logo: pelos valores de média e mediana bem próximos, vamos considerar que a idade não está afetando o índice de colesterol para esses pacientes."
   ]
  },
  {
   "cell_type": "markdown",
   "metadata": {
    "id": "IcUkhsca2T7Q"
   },
   "source": [
    "✅ Podemos perceber até aqui que a idade **pode ser** fortemente correlacionada com doenças cardiovásculares, assim como o colesterol."
   ]
  },
  {
   "cell_type": "markdown",
   "metadata": {
    "id": "y0u-F6LvWQbl"
   },
   "source": [
    "#### Relação entre práticas de exercícios e pacientes cardíacos e saudáveis\n"
   ]
  },
  {
   "cell_type": "code",
   "execution_count": 39,
   "metadata": {
    "colab": {
     "base_uri": "https://localhost:8080/",
     "height": 390
    },
    "executionInfo": {
     "elapsed": 35,
     "status": "ok",
     "timestamp": 1642690609706,
     "user": {
      "displayName": "Victor Oliveira",
      "photoUrl": "https://lh3.googleusercontent.com/a-/AOh14GjTZ4w2UG33yijW1Kl4wnWg1hiIQiXJDLUn1ur4Cg=s64",
      "userId": "05541081588649521770"
     },
     "user_tz": 180
    },
    "id": "f2Xl_DdyWQpe",
    "outputId": "ae61c9bd-4e35-4ecd-a7dc-230d99a854d9"
   },
   "outputs": [
    {
     "data": {
      "image/png": "[encoded data removed]",
      "text/plain": [
       "<Figure size 1080x432 with 1 Axes>"
      ]
     },
     "metadata": {},
     "output_type": "display_data"
    }
   ],
   "source": [
    "countplot(df, x='active', labels=['não exercita', 'exercita'])"
   ]
  },
  {
   "cell_type": "markdown",
   "metadata": {
    "id": "Z3JWcUtxW73s"
   },
   "source": [
    "#### Relação entre glucose e pacientes cardíacos e saudáveis"
   ]
  },
  {
   "cell_type": "code",
   "execution_count": 40,
   "metadata": {
    "colab": {
     "base_uri": "https://localhost:8080/",
     "height": 390
    },
    "executionInfo": {
     "elapsed": 765,
     "status": "ok",
     "timestamp": 1642690610440,
     "user": {
      "displayName": "Victor Oliveira",
      "photoUrl": "https://lh3.googleusercontent.com/a-/AOh14GjTZ4w2UG33yijW1Kl4wnWg1hiIQiXJDLUn1ur4Cg=s64",
      "userId": "05541081588649521770"
     },
     "user_tz": 180
    },
    "id": "pe2kYdexWQvh",
    "outputId": "207414d3-b8e0-4d0c-aa94-c2c5550e9f1a"
   },
   "outputs": [
    {
     "data": {
      "image/png": "[encoded data removed]",
      "text/plain": [
       "<Figure size 1080x432 with 1 Axes>"
      ]
     },
     "metadata": {},
     "output_type": "display_data"
    }
   ],
   "source": [
    "countplot(df, x='gluc', labels=['normal', 'acima do normal', 'bem acima do normal'])"
   ]
  },
  {
   "cell_type": "markdown",
   "metadata": {
    "id": "-uEfqV3fXoL8"
   },
   "source": [
    "#### Relação entre fumantes e pacientes cardíacos e saudáveis"
   ]
  },
  {
   "cell_type": "code",
   "execution_count": 41,
   "metadata": {
    "colab": {
     "base_uri": "https://localhost:8080/",
     "height": 390
    },
    "executionInfo": {
     "elapsed": 12,
     "status": "ok",
     "timestamp": 1642690610442,
     "user": {
      "displayName": "Victor Oliveira",
      "photoUrl": "https://lh3.googleusercontent.com/a-/AOh14GjTZ4w2UG33yijW1Kl4wnWg1hiIQiXJDLUn1ur4Cg=s64",
      "userId": "05541081588649521770"
     },
     "user_tz": 180
    },
    "id": "Xot5z2siWQ1Z",
    "outputId": "c6ecddd5-3fb0-4cfd-abb0-1396a3eb19ee"
   },
   "outputs": [
    {
     "data": {
      "image/png": "[encoded data removed]",
      "text/plain": [
       "<Figure size 1080x432 with 1 Axes>"
      ]
     },
     "metadata": {},
     "output_type": "display_data"
    }
   ],
   "source": [
    "countplot(df, x='smoke', labels=['não fuma', 'fuma'])"
   ]
  },
  {
   "cell_type": "markdown",
   "metadata": {
    "id": "7rI9H0tq3L9m"
   },
   "source": [
    "### Correlação das váriaveis"
   ]
  },
  {
   "cell_type": "code",
   "execution_count": 42,
   "metadata": {
    "colab": {
     "base_uri": "https://localhost:8080/",
     "height": 600
    },
    "executionInfo": {
     "elapsed": 933,
     "status": "ok",
     "timestamp": 1642690644472,
     "user": {
      "displayName": "Victor Oliveira",
      "photoUrl": "https://lh3.googleusercontent.com/a-/AOh14GjTZ4w2UG33yijW1Kl4wnWg1hiIQiXJDLUn1ur4Cg=s64",
      "userId": "05541081588649521770"
     },
     "user_tz": 180
    },
    "id": "sls2cMNDMZz7",
    "outputId": "be921cda-961f-430c-c6f7-ad88f7e2a622"
   },
   "outputs": [
    {
     "data": {
      "image/png": "[encoded data removed]",
      "text/plain": [
       "<Figure size 792x648 with 2 Axes>"
      ]
     },
     "metadata": {},
     "output_type": "display_data"
    }
   ],
   "source": [
    "plot_correlation(df.corr())"
   ]
  },
  {
   "cell_type": "markdown",
   "metadata": {},
   "source": [
    "# MODELOS DE MACHINE LEARNING"
   ]
  },
  {
   "cell_type": "code",
   "execution_count": 284,
   "metadata": {},
   "outputs": [],
   "source": [
    "from sklearn.metrics import classification_report\n",
    "from sklearn.preprocessing import StandardScaler\n",
    "from sklearn.pipeline import make_pipeline\n",
    "from sklearn.linear_model import LogisticRegression"
   ]
  },
  {
   "cell_type": "markdown",
   "metadata": {
    "id": "KEowPBYB3YkK"
   },
   "source": [
    "## Regressão Logística"
   ]
  },
  {
   "cell_type": "markdown",
   "metadata": {},
   "source": [
    "### Testando a normalização do dataset"
   ]
  },
  {
   "cell_type": "code",
   "execution_count": 285,
   "metadata": {
    "colab": {
     "base_uri": "https://localhost:8080/",
     "height": 80
    },
    "executionInfo": {
     "elapsed": 352,
     "status": "ok",
     "timestamp": 1642690648721,
     "user": {
      "displayName": "Victor Oliveira",
      "photoUrl": "https://lh3.googleusercontent.com/a-/AOh14GjTZ4w2UG33yijW1Kl4wnWg1hiIQiXJDLUn1ur4Cg=s64",
      "userId": "05541081588649521770"
     },
     "user_tz": 180
    },
    "id": "_fhz78OBz19r",
    "outputId": "fb540fed-f2ea-4eaf-9cd0-156a83faf925"
   },
   "outputs": [
    {
     "data": {
      "text/html": [
       "<div>\n",
       "<style scoped>\n",
       "    .dataframe tbody tr th:only-of-type {\n",
       "        vertical-align: middle;\n",
       "    }\n",
       "\n",
       "    .dataframe tbody tr th {\n",
       "        vertical-align: top;\n",
       "    }\n",
       "\n",
       "    .dataframe thead th {\n",
       "        text-align: right;\n",
       "    }\n",
       "</style>\n",
       "<table border=\"1\" class=\"dataframe\">\n",
       "  <thead>\n",
       "    <tr style=\"text-align: right;\">\n",
       "      <th></th>\n",
       "      <th>id</th>\n",
       "      <th>age</th>\n",
       "      <th>gender</th>\n",
       "      <th>height</th>\n",
       "      <th>weight</th>\n",
       "      <th>ap_hi</th>\n",
       "      <th>ap_lo</th>\n",
       "      <th>cholesterol</th>\n",
       "      <th>gluc</th>\n",
       "      <th>smoke</th>\n",
       "      <th>alco</th>\n",
       "      <th>active</th>\n",
       "      <th>cardio</th>\n",
       "    </tr>\n",
       "  </thead>\n",
       "  <tbody>\n",
       "    <tr>\n",
       "      <th>0</th>\n",
       "      <td>0</td>\n",
       "      <td>50</td>\n",
       "      <td>2</td>\n",
       "      <td>168</td>\n",
       "      <td>62.0</td>\n",
       "      <td>110</td>\n",
       "      <td>80</td>\n",
       "      <td>1</td>\n",
       "      <td>1</td>\n",
       "      <td>0</td>\n",
       "      <td>0</td>\n",
       "      <td>1</td>\n",
       "      <td>0</td>\n",
       "    </tr>\n",
       "  </tbody>\n",
       "</table>\n",
       "</div>"
      ],
      "text/plain": [
       "   id  age  gender  height  weight  ap_hi  ap_lo  cholesterol  gluc  smoke  \\\n",
       "0   0   50       2     168    62.0    110     80            1     1      0   \n",
       "\n",
       "   alco  active  cardio  \n",
       "0     0       1       0  "
      ]
     },
     "execution_count": 285,
     "metadata": {},
     "output_type": "execute_result"
    }
   ],
   "source": [
    "df.head(1)"
   ]
  },
  {
   "cell_type": "code",
   "execution_count": 286,
   "metadata": {
    "colab": {
     "base_uri": "https://localhost:8080/"
    },
    "executionInfo": {
     "elapsed": 282,
     "status": "ok",
     "timestamp": 1642690651896,
     "user": {
      "displayName": "Victor Oliveira",
      "photoUrl": "https://lh3.googleusercontent.com/a-/AOh14GjTZ4w2UG33yijW1Kl4wnWg1hiIQiXJDLUn1ur4Cg=s64",
      "userId": "05541081588649521770"
     },
     "user_tz": 180
    },
    "id": "sOGKQnVJz1MW",
    "outputId": "4db99998-ceb8-4582-bc4c-928054649bb6"
   },
   "outputs": [
    {
     "name": "stdout",
     "output_type": "stream",
     "text": [
      "(65624, 11)\n",
      "(65624,)\n"
     ]
    }
   ],
   "source": [
    "X = df.drop(columns=['id', 'cardio' ])\n",
    "y = df.cardio\n",
    "\n",
    "print(X.shape)\n",
    "print(y.shape)"
   ]
  },
  {
   "cell_type": "markdown",
   "metadata": {},
   "source": [
    "#### Standard Scaler"
   ]
  },
  {
   "cell_type": "code",
   "execution_count": 287,
   "metadata": {
    "colab": {
     "base_uri": "https://localhost:8080/"
    },
    "executionInfo": {
     "elapsed": 278,
     "status": "ok",
     "timestamp": 1642690929218,
     "user": {
      "displayName": "Victor Oliveira",
      "photoUrl": "https://lh3.googleusercontent.com/a-/AOh14GjTZ4w2UG33yijW1Kl4wnWg1hiIQiXJDLUn1ur4Cg=s64",
      "userId": "05541081588649521770"
     },
     "user_tz": 180
    },
    "id": "VEv6atK0_m64",
    "outputId": "58ad72b3-555f-4bf5-b74e-221ae3898c39"
   },
   "outputs": [
    {
     "name": "stdout",
     "output_type": "stream",
     "text": [
      "X_train shape (41999, 11)\n",
      "y_train shape (41999,)\n",
      "X_val shape (13125, 11)\n",
      "y_val shape (13125,)\n",
      "X_test shape (10500, 11)\n",
      "y_test shape (10500,)\n"
     ]
    }
   ],
   "source": [
    "X_train_scaler, y_train, X_val_scaler, y_val, X_test_scaler, y_test = split_datasets(\n",
    "    X, y, test_size=0.2, stratify=True, scaler='standard'\n",
    ")"
   ]
  },
  {
   "cell_type": "code",
   "execution_count": 288,
   "metadata": {},
   "outputs": [
    {
     "data": {
      "image/png": "[encoded data removed]",
      "text/plain": [
       "<Figure size 432x288 with 1 Axes>"
      ]
     },
     "metadata": {},
     "output_type": "display_data"
    }
   ],
   "source": [
    "plt.hist(X_train_scaler.ravel(), density=True, bins=30);"
   ]
  },
  {
   "cell_type": "code",
   "execution_count": 289,
   "metadata": {
    "scrolled": true
   },
   "outputs": [
    {
     "name": "stdout",
     "output_type": "stream",
     "text": [
      " train acc: 72.48\n",
      "   val acc: 72.32\n",
      "  test acc: 71.91\n"
     ]
    }
   ],
   "source": [
    "log_reg_std = logistic_regression(X_train_scaler,\n",
    "                                  y_train,\n",
    "                                  hyperparameters={\n",
    "                                      'penalty': 'l2',\n",
    "                                      'C': 1,\n",
    "                                      'max_iter': 500\n",
    "                                  })\n",
    "print_results(log_reg_std, X_train_scaler, y_train, X_val_scaler, y_val,\n",
    "              X_test_scaler, y_test)"
   ]
  },
  {
   "cell_type": "code",
   "execution_count": 290,
   "metadata": {},
   "outputs": [
    {
     "data": {
      "image/png": "[encoded data removed]",
      "text/plain": [
       "<Figure size 432x288 with 2 Axes>"
      ]
     },
     "metadata": {},
     "output_type": "display_data"
    },
    {
     "data": {
      "text/html": [
       "<div>\n",
       "<style scoped>\n",
       "    .dataframe tbody tr th:only-of-type {\n",
       "        vertical-align: middle;\n",
       "    }\n",
       "\n",
       "    .dataframe tbody tr th {\n",
       "        vertical-align: top;\n",
       "    }\n",
       "\n",
       "    .dataframe thead th {\n",
       "        text-align: right;\n",
       "    }\n",
       "</style>\n",
       "<table border=\"1\" class=\"dataframe\">\n",
       "  <thead>\n",
       "    <tr style=\"text-align: right;\">\n",
       "      <th></th>\n",
       "      <th>saudável</th>\n",
       "      <th>cardíaco</th>\n",
       "      <th>accuracy</th>\n",
       "      <th>macro avg</th>\n",
       "      <th>weighted avg</th>\n",
       "    </tr>\n",
       "  </thead>\n",
       "  <tbody>\n",
       "    <tr>\n",
       "      <th>precision</th>\n",
       "      <td>0.697035</td>\n",
       "      <td>0.749048</td>\n",
       "      <td>0.719143</td>\n",
       "      <td>0.723041</td>\n",
       "      <td>0.722655</td>\n",
       "    </tr>\n",
       "    <tr>\n",
       "      <th>recall</th>\n",
       "      <td>0.789790</td>\n",
       "      <td>0.646365</td>\n",
       "      <td>0.719143</td>\n",
       "      <td>0.718077</td>\n",
       "      <td>0.719143</td>\n",
       "    </tr>\n",
       "    <tr>\n",
       "      <th>f1-score</th>\n",
       "      <td>0.740519</td>\n",
       "      <td>0.693928</td>\n",
       "      <td>0.719143</td>\n",
       "      <td>0.717224</td>\n",
       "      <td>0.717570</td>\n",
       "    </tr>\n",
       "    <tr>\n",
       "      <th>support</th>\n",
       "      <td>5328.000000</td>\n",
       "      <td>5172.000000</td>\n",
       "      <td>0.719143</td>\n",
       "      <td>10500.000000</td>\n",
       "      <td>10500.000000</td>\n",
       "    </tr>\n",
       "  </tbody>\n",
       "</table>\n",
       "</div>"
      ],
      "text/plain": [
       "              saudável     cardíaco  accuracy     macro avg  weighted avg\n",
       "precision     0.697035     0.749048  0.719143      0.723041      0.722655\n",
       "recall        0.789790     0.646365  0.719143      0.718077      0.719143\n",
       "f1-score      0.740519     0.693928  0.719143      0.717224      0.717570\n",
       "support    5328.000000  5172.000000  0.719143  10500.000000  10500.000000"
      ]
     },
     "execution_count": 290,
     "metadata": {},
     "output_type": "execute_result"
    }
   ],
   "source": [
    "clf_report(log_reg_std, X_test_scaler, y_test)"
   ]
  },
  {
   "cell_type": "markdown",
   "metadata": {},
   "source": [
    "#### MinMax"
   ]
  },
  {
   "cell_type": "code",
   "execution_count": 291,
   "metadata": {
    "scrolled": true
   },
   "outputs": [
    {
     "name": "stdout",
     "output_type": "stream",
     "text": [
      "X_train shape (41999, 11)\n",
      "y_train shape (41999,)\n",
      "X_val shape (13125, 11)\n",
      "y_val shape (13125,)\n",
      "X_test shape (10500, 11)\n",
      "y_test shape (10500,)\n"
     ]
    }
   ],
   "source": [
    "X_train_scaler, y_train, X_val_scaler, y_val, X_test_scaler, y_test = split_datasets(\n",
    "    X, y, test_size=0.2, stratify=True, scaler='minmax')"
   ]
  },
  {
   "cell_type": "code",
   "execution_count": 292,
   "metadata": {},
   "outputs": [
    {
     "data": {
      "image/png": "[encoded data removed]",
      "text/plain": [
       "<Figure size 432x288 with 1 Axes>"
      ]
     },
     "metadata": {},
     "output_type": "display_data"
    }
   ],
   "source": [
    "plt.hist(X_train_scaler.ravel(), density=True, bins=30);"
   ]
  },
  {
   "cell_type": "code",
   "execution_count": 293,
   "metadata": {
    "scrolled": true
   },
   "outputs": [
    {
     "name": "stdout",
     "output_type": "stream",
     "text": [
      " train acc: 72.48\n",
      "   val acc: 72.31\n",
      "  test acc: 71.94\n"
     ]
    }
   ],
   "source": [
    "log_reg_minmax = logistic_regression(X_train_scaler,\n",
    "                                     y_train,\n",
    "                                     hyperparameters={\n",
    "                                         'penalty': 'l2',\n",
    "                                         'C': 1,\n",
    "                                         'max_iter': 500\n",
    "                                     })\n",
    "print_results(log_reg_minmax, X_train_scaler, y_train, X_val_scaler, y_val,\n",
    "              X_test_scaler, y_test)"
   ]
  },
  {
   "cell_type": "code",
   "execution_count": 294,
   "metadata": {},
   "outputs": [
    {
     "data": {
      "image/png": "[encoded data removed]",
      "text/plain": [
       "<Figure size 432x288 with 2 Axes>"
      ]
     },
     "metadata": {},
     "output_type": "display_data"
    },
    {
     "data": {
      "text/html": [
       "<div>\n",
       "<style scoped>\n",
       "    .dataframe tbody tr th:only-of-type {\n",
       "        vertical-align: middle;\n",
       "    }\n",
       "\n",
       "    .dataframe tbody tr th {\n",
       "        vertical-align: top;\n",
       "    }\n",
       "\n",
       "    .dataframe thead th {\n",
       "        text-align: right;\n",
       "    }\n",
       "</style>\n",
       "<table border=\"1\" class=\"dataframe\">\n",
       "  <thead>\n",
       "    <tr style=\"text-align: right;\">\n",
       "      <th></th>\n",
       "      <th>saudável</th>\n",
       "      <th>cardíaco</th>\n",
       "      <th>accuracy</th>\n",
       "      <th>macro avg</th>\n",
       "      <th>weighted avg</th>\n",
       "    </tr>\n",
       "  </thead>\n",
       "  <tbody>\n",
       "    <tr>\n",
       "      <th>precision</th>\n",
       "      <td>0.697316</td>\n",
       "      <td>0.749328</td>\n",
       "      <td>0.719429</td>\n",
       "      <td>0.723322</td>\n",
       "      <td>0.722936</td>\n",
       "    </tr>\n",
       "    <tr>\n",
       "      <th>recall</th>\n",
       "      <td>0.789977</td>\n",
       "      <td>0.646752</td>\n",
       "      <td>0.719429</td>\n",
       "      <td>0.718365</td>\n",
       "      <td>0.719429</td>\n",
       "    </tr>\n",
       "    <tr>\n",
       "      <th>f1-score</th>\n",
       "      <td>0.740760</td>\n",
       "      <td>0.694271</td>\n",
       "      <td>0.719429</td>\n",
       "      <td>0.717516</td>\n",
       "      <td>0.717861</td>\n",
       "    </tr>\n",
       "    <tr>\n",
       "      <th>support</th>\n",
       "      <td>5328.000000</td>\n",
       "      <td>5172.000000</td>\n",
       "      <td>0.719429</td>\n",
       "      <td>10500.000000</td>\n",
       "      <td>10500.000000</td>\n",
       "    </tr>\n",
       "  </tbody>\n",
       "</table>\n",
       "</div>"
      ],
      "text/plain": [
       "              saudável     cardíaco  accuracy     macro avg  weighted avg\n",
       "precision     0.697316     0.749328  0.719429      0.723322      0.722936\n",
       "recall        0.789977     0.646752  0.719429      0.718365      0.719429\n",
       "f1-score      0.740760     0.694271  0.719429      0.717516      0.717861\n",
       "support    5328.000000  5172.000000  0.719429  10500.000000  10500.000000"
      ]
     },
     "execution_count": 294,
     "metadata": {},
     "output_type": "execute_result"
    }
   ],
   "source": [
    "clf_report(log_reg_minmax, X_test_scaler, y_test)"
   ]
  },
  {
   "cell_type": "markdown",
   "metadata": {},
   "source": [
    "**CONCLUSÃO**: a normalização não influência tanto nas métricas. Vamos optar pela standard scaler devido ao menor número de iterações para convergência."
   ]
  },
  {
   "cell_type": "code",
   "execution_count": 295,
   "metadata": {},
   "outputs": [
    {
     "name": "stdout",
     "output_type": "stream",
     "text": [
      "X_train shape (41999, 11)\n",
      "y_train shape (41999,)\n",
      "X_val shape (13125, 11)\n",
      "y_val shape (13125,)\n",
      "X_test shape (10500, 11)\n",
      "y_test shape (10500,)\n"
     ]
    }
   ],
   "source": [
    "X_train_scaler, y_train, X_val_scaler, y_val, X_test_scaler, y_test = split_datasets(\n",
    "    X, y, test_size=0.2, stratify=True, scaler='standard'\n",
    ")"
   ]
  },
  {
   "cell_type": "markdown",
   "metadata": {
    "id": "O6tK_XnCQ5dN"
   },
   "source": [
    "**ANALISANDO AS FEATURES DE MAIOR CORRELAÇÃO NA FUNÇÃO DE DECISÃO DO MODELO**"
   ]
  },
  {
   "cell_type": "code",
   "execution_count": 296,
   "metadata": {
    "colab": {
     "base_uri": "https://localhost:8080/",
     "height": 394
    },
    "executionInfo": {
     "elapsed": 307,
     "status": "ok",
     "timestamp": 1642690943350,
     "user": {
      "displayName": "Victor Oliveira",
      "photoUrl": "https://lh3.googleusercontent.com/a-/AOh14GjTZ4w2UG33yijW1Kl4wnWg1hiIQiXJDLUn1ur4Cg=s64",
      "userId": "05541081588649521770"
     },
     "user_tz": 180
    },
    "id": "LfTLS2r2Gg9k",
    "outputId": "022dbeb7-26ff-4ea9-c9fd-a51a7cbca4be"
   },
   "outputs": [
    {
     "data": {
      "text/html": [
       "<div>\n",
       "<style scoped>\n",
       "    .dataframe tbody tr th:only-of-type {\n",
       "        vertical-align: middle;\n",
       "    }\n",
       "\n",
       "    .dataframe tbody tr th {\n",
       "        vertical-align: top;\n",
       "    }\n",
       "\n",
       "    .dataframe thead th {\n",
       "        text-align: right;\n",
       "    }\n",
       "</style>\n",
       "<table border=\"1\" class=\"dataframe\">\n",
       "  <thead>\n",
       "    <tr style=\"text-align: right;\">\n",
       "      <th></th>\n",
       "      <th>0</th>\n",
       "      <th>1</th>\n",
       "      <th>2</th>\n",
       "      <th>3</th>\n",
       "      <th>4</th>\n",
       "      <th>5</th>\n",
       "      <th>6</th>\n",
       "      <th>7</th>\n",
       "      <th>8</th>\n",
       "      <th>9</th>\n",
       "      <th>10</th>\n",
       "    </tr>\n",
       "  </thead>\n",
       "  <tbody>\n",
       "    <tr>\n",
       "      <th>features</th>\n",
       "      <td>ap_hi</td>\n",
       "      <td>age</td>\n",
       "      <td>cholesterol</td>\n",
       "      <td>weight</td>\n",
       "      <td>ap_lo</td>\n",
       "      <td>gender</td>\n",
       "      <td>height</td>\n",
       "      <td>smoke</td>\n",
       "      <td>alco</td>\n",
       "      <td>gluc</td>\n",
       "      <td>active</td>\n",
       "    </tr>\n",
       "    <tr>\n",
       "      <th>correlation</th>\n",
       "      <td>0.882769</td>\n",
       "      <td>0.339433</td>\n",
       "      <td>0.334754</td>\n",
       "      <td>0.13734</td>\n",
       "      <td>0.108747</td>\n",
       "      <td>-0.005602</td>\n",
       "      <td>-0.040344</td>\n",
       "      <td>-0.045446</td>\n",
       "      <td>-0.046505</td>\n",
       "      <td>-0.068712</td>\n",
       "      <td>-0.103331</td>\n",
       "    </tr>\n",
       "  </tbody>\n",
       "</table>\n",
       "</div>"
      ],
      "text/plain": [
       "                   0         1            2        3         4         5   \\\n",
       "features        ap_hi       age  cholesterol   weight     ap_lo    gender   \n",
       "correlation  0.882769  0.339433     0.334754  0.13734  0.108747 -0.005602   \n",
       "\n",
       "                   6         7         8         9         10  \n",
       "features       height     smoke      alco      gluc    active  \n",
       "correlation -0.040344 -0.045446 -0.046505 -0.068712 -0.103331  "
      ]
     },
     "execution_count": 296,
     "metadata": {},
     "output_type": "execute_result"
    }
   ],
   "source": [
    "coeff_df = pd.DataFrame(\n",
    "    {'features': df.drop(columns=['id', 'cardio' ]).columns}\n",
    "    )\n",
    "coeff_df['correlation'] = pd.Series(log_reg_std.coef_[0])\n",
    "coeff_df.sort_values('correlation', ascending=False).reset_index(drop=True).T"
   ]
  },
  {
   "cell_type": "code",
   "execution_count": 297,
   "metadata": {
    "colab": {
     "base_uri": "https://localhost:8080/",
     "height": 515
    },
    "executionInfo": {
     "elapsed": 665,
     "status": "ok",
     "timestamp": 1642690947039,
     "user": {
      "displayName": "Victor Oliveira",
      "photoUrl": "https://lh3.googleusercontent.com/a-/AOh14GjTZ4w2UG33yijW1Kl4wnWg1hiIQiXJDLUn1ur4Cg=s64",
      "userId": "05541081588649521770"
     },
     "user_tz": 180
    },
    "id": "CLYuvHfkJVa5",
    "outputId": "954644a6-b856-441d-c2d8-909f4169a8ba"
   },
   "outputs": [
    {
     "data": {
      "image/png": "[encoded data removed]",
      "text/plain": [
       "<Figure size 720x576 with 1 Axes>"
      ]
     },
     "metadata": {},
     "output_type": "display_data"
    }
   ],
   "source": [
    "plt.figure(figsize=(10,8))\n",
    "sns.barplot(data=coeff_df, y='features', x='correlation', palette='viridis');"
   ]
  },
  {
   "cell_type": "markdown",
   "metadata": {},
   "source": [
    "O recall de 64% para pacientes cardíacos não é desejável. Significa que há muitos falsos negativos (FN) em nosso modelo. Antes de irmos ao ajuste de hiperparâmetros para tentar aumentar o valor de recall,vamos testar outros modelos."
   ]
  },
  {
   "cell_type": "markdown",
   "metadata": {},
   "source": [
    "### Aplicando atributos polinomiais"
   ]
  },
  {
   "cell_type": "code",
   "execution_count": 302,
   "metadata": {},
   "outputs": [
    {
     "data": {
      "application/vnd.jupyter.widget-view+json": {
       "model_id": "4c2f2c7197c541468df6503bbb26307e",
       "version_major": 2,
       "version_minor": 0
      },
      "text/plain": [
       "interactive(children=(IntSlider(value=2, description='degree', max=4), IntSlider(value=1050, description='maxi…"
      ]
     },
     "metadata": {},
     "output_type": "display_data"
    }
   ],
   "source": [
    "from ipywidgets import interact\n",
    "from sklearn.preprocessing import PolynomialFeatures\n",
    "\n",
    "@interact(degree = (0,4,1), maxiter = (100,2000,1))\n",
    "def train(degree, maxiter):\n",
    "    global log_reg_poly\n",
    "    lamb = 1\n",
    "    poly = PolynomialFeatures(degree = degree)\n",
    "    print('loading...')\n",
    "    log_reg_poly = (\n",
    "        make_pipeline(poly,\n",
    "                      LogisticRegression(C=1/lamb, max_iter = maxiter))\n",
    "        .fit(X_train_scaler,y_train)\n",
    "    ) \n",
    "    print_results(\n",
    "        log_reg_poly,\n",
    "        X_train_scaler, y_train,\n",
    "        X_val_scaler, y_val,\n",
    "        X_test_scaler, y_test)\n",
    "    \n",
    "    clf_report(log_reg_poly, X_test_scaler, y_test)"
   ]
  },
  {
   "cell_type": "code",
   "execution_count": 305,
   "metadata": {},
   "outputs": [
    {
     "data": {
      "image/png": "[encoded data removed]",
      "text/plain": [
       "<Figure size 432x288 with 2 Axes>"
      ]
     },
     "metadata": {},
     "output_type": "display_data"
    },
    {
     "data": {
      "text/html": [
       "<div>\n",
       "<style scoped>\n",
       "    .dataframe tbody tr th:only-of-type {\n",
       "        vertical-align: middle;\n",
       "    }\n",
       "\n",
       "    .dataframe tbody tr th {\n",
       "        vertical-align: top;\n",
       "    }\n",
       "\n",
       "    .dataframe thead th {\n",
       "        text-align: right;\n",
       "    }\n",
       "</style>\n",
       "<table border=\"1\" class=\"dataframe\">\n",
       "  <thead>\n",
       "    <tr style=\"text-align: right;\">\n",
       "      <th></th>\n",
       "      <th>saudável</th>\n",
       "      <th>cardíaco</th>\n",
       "      <th>accuracy</th>\n",
       "      <th>macro avg</th>\n",
       "      <th>weighted avg</th>\n",
       "    </tr>\n",
       "  </thead>\n",
       "  <tbody>\n",
       "    <tr>\n",
       "      <th>precision</th>\n",
       "      <td>0.697035</td>\n",
       "      <td>0.749048</td>\n",
       "      <td>0.719143</td>\n",
       "      <td>0.723041</td>\n",
       "      <td>0.722655</td>\n",
       "    </tr>\n",
       "    <tr>\n",
       "      <th>recall</th>\n",
       "      <td>0.789790</td>\n",
       "      <td>0.646365</td>\n",
       "      <td>0.719143</td>\n",
       "      <td>0.718077</td>\n",
       "      <td>0.719143</td>\n",
       "    </tr>\n",
       "    <tr>\n",
       "      <th>f1-score</th>\n",
       "      <td>0.740519</td>\n",
       "      <td>0.693928</td>\n",
       "      <td>0.719143</td>\n",
       "      <td>0.717224</td>\n",
       "      <td>0.717570</td>\n",
       "    </tr>\n",
       "    <tr>\n",
       "      <th>support</th>\n",
       "      <td>5328.000000</td>\n",
       "      <td>5172.000000</td>\n",
       "      <td>0.719143</td>\n",
       "      <td>10500.000000</td>\n",
       "      <td>10500.000000</td>\n",
       "    </tr>\n",
       "  </tbody>\n",
       "</table>\n",
       "</div>"
      ],
      "text/plain": [
       "              saudável     cardíaco  accuracy     macro avg  weighted avg\n",
       "precision     0.697035     0.749048  0.719143      0.723041      0.722655\n",
       "recall        0.789790     0.646365  0.719143      0.718077      0.719143\n",
       "f1-score      0.740519     0.693928  0.719143      0.717224      0.717570\n",
       "support    5328.000000  5172.000000  0.719143  10500.000000  10500.000000"
      ]
     },
     "execution_count": 305,
     "metadata": {},
     "output_type": "execute_result"
    }
   ],
   "source": [
    "clf_report(log_reg_std, X_test_scaler, y_test)"
   ]
  },
  {
   "cell_type": "code",
   "execution_count": 303,
   "metadata": {},
   "outputs": [
    {
     "data": {
      "image/png": "[encoded data removed]",
      "text/plain": [
       "<Figure size 432x288 with 2 Axes>"
      ]
     },
     "metadata": {},
     "output_type": "display_data"
    },
    {
     "data": {
      "text/html": [
       "<div>\n",
       "<style scoped>\n",
       "    .dataframe tbody tr th:only-of-type {\n",
       "        vertical-align: middle;\n",
       "    }\n",
       "\n",
       "    .dataframe tbody tr th {\n",
       "        vertical-align: top;\n",
       "    }\n",
       "\n",
       "    .dataframe thead th {\n",
       "        text-align: right;\n",
       "    }\n",
       "</style>\n",
       "<table border=\"1\" class=\"dataframe\">\n",
       "  <thead>\n",
       "    <tr style=\"text-align: right;\">\n",
       "      <th></th>\n",
       "      <th>saudável</th>\n",
       "      <th>cardíaco</th>\n",
       "      <th>accuracy</th>\n",
       "      <th>macro avg</th>\n",
       "      <th>weighted avg</th>\n",
       "    </tr>\n",
       "  </thead>\n",
       "  <tbody>\n",
       "    <tr>\n",
       "      <th>precision</th>\n",
       "      <td>0.714261</td>\n",
       "      <td>0.739603</td>\n",
       "      <td>0.72581</td>\n",
       "      <td>0.726932</td>\n",
       "      <td>0.726744</td>\n",
       "    </tr>\n",
       "    <tr>\n",
       "      <th>recall</th>\n",
       "      <td>0.766141</td>\n",
       "      <td>0.684261</td>\n",
       "      <td>0.72581</td>\n",
       "      <td>0.725201</td>\n",
       "      <td>0.725810</td>\n",
       "    </tr>\n",
       "    <tr>\n",
       "      <th>f1-score</th>\n",
       "      <td>0.739292</td>\n",
       "      <td>0.710857</td>\n",
       "      <td>0.72581</td>\n",
       "      <td>0.725074</td>\n",
       "      <td>0.725286</td>\n",
       "    </tr>\n",
       "    <tr>\n",
       "      <th>support</th>\n",
       "      <td>5328.000000</td>\n",
       "      <td>5172.000000</td>\n",
       "      <td>0.72581</td>\n",
       "      <td>10500.000000</td>\n",
       "      <td>10500.000000</td>\n",
       "    </tr>\n",
       "  </tbody>\n",
       "</table>\n",
       "</div>"
      ],
      "text/plain": [
       "              saudável     cardíaco  accuracy     macro avg  weighted avg\n",
       "precision     0.714261     0.739603   0.72581      0.726932      0.726744\n",
       "recall        0.766141     0.684261   0.72581      0.725201      0.725810\n",
       "f1-score      0.739292     0.710857   0.72581      0.725074      0.725286\n",
       "support    5328.000000  5172.000000   0.72581  10500.000000  10500.000000"
      ]
     },
     "execution_count": 303,
     "metadata": {},
     "output_type": "execute_result"
    }
   ],
   "source": [
    "clf_report(log_reg_poly, X_test_scaler, y_test)"
   ]
  },
  {
   "cell_type": "markdown",
   "metadata": {},
   "source": [
    "Utilizando atributos polinomiais de grau 2., conseguimos aumentar 2 pontos no recall e f1-score para pacientes cardíacos e 2 pontos na precisão de pacientes saudáveis."
   ]
  },
  {
   "cell_type": "code",
   "execution_count": 336,
   "metadata": {},
   "outputs": [
    {
     "data": {
      "image/png": "[encoded data removed]",
      "text/plain": [
       "<Figure size 720x576 with 1 Axes>"
      ]
     },
     "metadata": {},
     "output_type": "display_data"
    }
   ],
   "source": [
    "coeff_df = pd.DataFrame(\n",
    "    {'features': df.drop(columns=['id', 'cardio' ]).columns}\n",
    "    )\n",
    "coeff_df['correlation'] = pd.Series(log_reg_poly.steps[-1][-1].coef_[0])\n",
    "coeff_df.sort_values('correlation', ascending=False).reset_index(drop=True).T\n",
    "\n",
    "plt.figure(figsize=(10,8))\n",
    "sns.barplot(data=coeff_df, y='features', x='correlation', palette='viridis');"
   ]
  },
  {
   "cell_type": "markdown",
   "metadata": {},
   "source": [
    "TREINANDO COM FEATURES QUE TENHAM CORRELAÇÃO > 0.2, VISANDO AUMENTAR O RECALL E REDUZIR A QUATIDADE DE FALSOS NEGATIVOS."
   ]
  },
  {
   "cell_type": "code",
   "execution_count": 349,
   "metadata": {},
   "outputs": [],
   "source": [
    "# # X = df[coeff_df[coeff_df.correlation > 0.2].features.values]\n",
    "# X = df.drop(columns = ['height', 'id'])\n",
    "\n",
    "# y = df.cardio\n",
    "\n",
    "# print(X.shape)\n",
    "# print(y.shape)\n",
    "\n",
    "# X_train_scaler, y_train, X_val_scaler, y_val, X_test_scaler, y_test = split_datasets(\n",
    "#     X, y, test_size=0.2, stratify=True, scaler='standard'\n",
    "# )\n",
    "\n",
    "# # instanciando a função\n",
    "# lamb = 1\n",
    "# degree = 2\n",
    "# maxiter = 500\n",
    "# poly = PolynomialFeatures(degree = degree)\n",
    "\n",
    "# log_reg_polyV2 = (\n",
    "#     make_pipeline(poly,\n",
    "#                   LogisticRegression(C=1/lamb, max_iter = maxiter))\n",
    "#     .fit(X_train_scaler,y_train)\n",
    "# ) \n",
    "\n",
    "# print_results(\n",
    "#         log_reg_polyV2,\n",
    "#         X_train_scaler, y_train,\n",
    "#         X_val_scaler, y_val,\n",
    "#         X_test_scaler, y_test)\n",
    "    \n",
    "# clf_report(log_reg_polyV2, X_test_scaler, y_test)"
   ]
  },
  {
   "cell_type": "markdown",
   "metadata": {},
   "source": [
    "## Random Forest"
   ]
  },
  {
   "cell_type": "code",
   "execution_count": 350,
   "metadata": {},
   "outputs": [],
   "source": [
    "# from sklearn.ensemble import RandomForestClassifier\n",
    "\n",
    "# model_random_forest = (\n",
    "#     RandomForestClassifier(n_estimators=110,max_depth=10,\n",
    "#                            random_state=0)\n",
    "#     .fit(X_train_scaler, y_train)\n",
    "# )\n",
    "\n",
    "# print_results(\n",
    "#     model_random_forest,\n",
    "#     X_train_scaler, y_train,\n",
    "#     X_val_scaler,y_val,\n",
    "#     X_test_scaler, y_test\n",
    "# )"
   ]
  },
  {
   "cell_type": "code",
   "execution_count": 351,
   "metadata": {},
   "outputs": [],
   "source": [
    "# clf_report(model_random_forest, X_test_scaler, y_test)"
   ]
  },
  {
   "cell_type": "code",
   "execution_count": 251,
   "metadata": {},
   "outputs": [],
   "source": [
    "# df = pd.DataFrame(model_gsearch.cv_results_)\n",
    "# df.head()"
   ]
  },
  {
   "cell_type": "code",
   "execution_count": 252,
   "metadata": {},
   "outputs": [],
   "source": [
    "# print(f\"Melhores parâmetros: {model_gsearch.best_params_}\")\n",
    "# print(f\"Melhor score: {round(model_gsearch.best_score_*100,2)}%\")\n",
    "                 \n",
    "# print(f\"{'=='*32}\\nConjunto de treinamento:\")\n",
    "# print(f\"Acurácia: {round(model_gsearch.cv_results_['mean_train_score'][0],2) * 100}% +/- {round(model_gsearch.cv_results_['std_train_score'][0],3)*100}% \")"
   ]
  },
  {
   "cell_type": "markdown",
   "metadata": {},
   "source": [
    "recall aumentou de 0.66 para 0.7 - sem aplicar penalidade."
   ]
  },
  {
   "cell_type": "code",
   "execution_count": 255,
   "metadata": {},
   "outputs": [],
   "source": [
    "# plot_confusion_matrix(y_test, model.predict(X_test_scaler))"
   ]
  },
  {
   "cell_type": "markdown",
   "metadata": {
    "id": "hZrvI1_mRg5S"
   },
   "source": [
    "TREINANDO COM FEATURES QUE TENHAM CORRELAÇÃO > 0.3, VISANDO AUMENTAR O RECALL E REDUZIR A QUATIDADE DE FALSOS NEGATIVOS."
   ]
  },
  {
   "cell_type": "code",
   "execution_count": 256,
   "metadata": {
    "colab": {
     "base_uri": "https://localhost:8080/"
    },
    "executionInfo": {
     "elapsed": 266,
     "status": "ok",
     "timestamp": 1642691311129,
     "user": {
      "displayName": "Victor Oliveira",
      "photoUrl": "https://lh3.googleusercontent.com/a-/AOh14GjTZ4w2UG33yijW1Kl4wnWg1hiIQiXJDLUn1ur4Cg=s64",
      "userId": "05541081588649521770"
     },
     "user_tz": 180
    },
    "id": "FFk_cudOHhwv",
    "outputId": "d8cbd342-7666-4596-f0b3-a721fda40df8"
   },
   "outputs": [],
   "source": []
  },
  {
   "cell_type": "code",
   "execution_count": 257,
   "metadata": {
    "colab": {
     "base_uri": "https://localhost:8080/",
     "height": 342
    },
    "executionInfo": {
     "elapsed": 282,
     "status": "ok",
     "timestamp": 1642691319898,
     "user": {
      "displayName": "Victor Oliveira",
      "photoUrl": "https://lh3.googleusercontent.com/a-/AOh14GjTZ4w2UG33yijW1Kl4wnWg1hiIQiXJDLUn1ur4Cg=s64",
      "userId": "05541081588649521770"
     },
     "user_tz": 180
    },
    "id": "t8nVDbOFKpMi",
    "outputId": "c55112b2-a500-40c6-9876-b8cc9e335de5"
   },
   "outputs": [],
   "source": [
    "# report = classification_report(y_test, model.predict(X_test_scaler), target_names=['normal', 'saudável'], output_dict=True)\n",
    "# pd.DataFrame(report)"
   ]
  },
  {
   "cell_type": "code",
   "execution_count": 258,
   "metadata": {
    "colab": {
     "base_uri": "https://localhost:8080/",
     "height": 294
    },
    "executionInfo": {
     "elapsed": 824,
     "status": "ok",
     "timestamp": 1642691355368,
     "user": {
      "displayName": "Victor Oliveira",
      "photoUrl": "https://lh3.googleusercontent.com/a-/AOh14GjTZ4w2UG33yijW1Kl4wnWg1hiIQiXJDLUn1ur4Cg=s64",
      "userId": "05541081588649521770"
     },
     "user_tz": 180
    },
    "id": "xwcl75BRLm4c",
    "outputId": "9c262e05-11dd-489a-8743-41c8e03cd81e"
   },
   "outputs": [],
   "source": [
    "# from sklearn.metrics import accuracy_score, roc_auc_score, plot_roc_curve, confusion_matrix\n",
    "\n",
    "# def plot_confusion_matrix(y, y_pred):\n",
    "#     acc = round(accuracy_score(y, y_pred), 2)\n",
    "#     cm = confusion_matrix(y, y_pred)\n",
    "#     sns.heatmap(cm, annot=True, fmt=\".0f\")\n",
    "#     plt.xlabel('y_pred')\n",
    "#     plt.ylabel('y')\n",
    "#     plt.title('Accuracy Score: {0}'.format(acc), size=10)\n",
    "#     plt.show()\n",
    "\n",
    "# plot_confusion_matrix(y_test, model.predict(X_test_scaler))"
   ]
  },
  {
   "cell_type": "code",
   "execution_count": 259,
   "metadata": {
    "colab": {
     "base_uri": "https://localhost:8080/",
     "height": 353
    },
    "executionInfo": {
     "elapsed": 629,
     "status": "ok",
     "timestamp": 1642691336101,
     "user": {
      "displayName": "Victor Oliveira",
      "photoUrl": "https://lh3.googleusercontent.com/a-/AOh14GjTZ4w2UG33yijW1Kl4wnWg1hiIQiXJDLUn1ur4Cg=s64",
      "userId": "05541081588649521770"
     },
     "user_tz": 180
    },
    "id": "QCa8epN5LwWf",
    "outputId": "eff86d3f-3495-444a-a148-eb132ecf53a2"
   },
   "outputs": [],
   "source": [
    "# ax = plot_roc_curve(model, X_test_scaler, y_test)\n",
    "# plt.title('ROC Curve')\n",
    "# plt.plot([0, 1], [0, 1], 'r--')\n",
    "# plt.tight_layout()"
   ]
  },
  {
   "cell_type": "markdown",
   "metadata": {},
   "source": [
    "## grid search e ajuste dos hiperparâmetros"
   ]
  },
  {
   "cell_type": "code",
   "execution_count": 122,
   "metadata": {},
   "outputs": [],
   "source": [
    "# continua..."
   ]
  }
 ],
 "metadata": {
  "colab": {
   "collapsed_sections": [],
   "name": "regressao_logistica.ipynb",
   "provenance": [],
   "toc_visible": true
  },
  "kernelspec": {
   "display_name": "Python 3",
   "language": "python",
   "name": "python3"
  },
  "language_info": {
   "codemirror_mode": {
    "name": "ipython",
    "version": 3
   },
   "file_extension": ".py",
   "mimetype": "text/x-python",
   "name": "python",
   "nbconvert_exporter": "python",
   "pygments_lexer": "ipython3",
   "version": "3.8.8"
  },
  "toc": {
   "base_numbering": 1,
   "nav_menu": {},
   "number_sections": true,
   "sideBar": true,
   "skip_h1_title": false,
   "title_cell": "Table of Contents",
   "title_sidebar": "Contents",
   "toc_cell": false,
   "toc_position": {
    "height": "calc(100% - 180px)",
    "left": "10px",
    "top": "150px",
    "width": "264.2px"
   },
   "toc_section_display": true,
   "toc_window_display": true
  }
 },
 "nbformat": 4,
 "nbformat_minor": 1
}
